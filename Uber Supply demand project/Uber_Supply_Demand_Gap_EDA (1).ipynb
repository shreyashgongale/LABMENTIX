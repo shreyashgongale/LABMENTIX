{
  "cells": [
    {
      "cell_type": "markdown",
      "metadata": {
        "id": "I1apcow5dxii"
      },
      "source": [
        "### Uber Supply Demand Gap Exploratory Data Anlysis Project"
      ]
    },
    {
      "cell_type": "markdown",
      "metadata": {
        "id": "vncDsAP0Gaoa"
      },
      "source": [
        "# **Project Name**    -  Uber EDA Project\n",
        "\n"
      ]
    },
    {
      "cell_type": "markdown",
      "metadata": {
        "id": "beRrZCGUAJYm"
      },
      "source": [
        "##### **Project Type**    - EDA\n",
        "##### **Contribution**    - Individual\n",
        "##### **Name**            - SHREYASH FULCHAND GONGALE"
      ]
    },
    {
      "cell_type": "markdown",
      "metadata": {
        "id": "FJNUwmbgGyua"
      },
      "source": [
        "# **Project Summary -**"
      ]
    },
    {
      "cell_type": "markdown",
      "metadata": {
        "id": "F6v_1wHtG2nS"
      },
      "source": [
        "**Uber Technologies, Inc. is an American multinational transportation company that provides ride-hailing services, courier services, food delivery, and freight transport. It is headquartered in San Francisco, California, and operates in approximately 70 countries and 15,000 cities worldwide.\n",
        "It is the largest ridesharing company worldwide with over 150 million monthly active users and 6 million active drivers and couriers. It coordinates an average of 28 million trips per day, and has coordinated 47 billion trips since its inception in 2010.\n",
        "In 2023, the company had a take rate (revenue as a percentage of gross bookings) of 28.7% for mobility services and 18.3% for food delivery.\n",
        "We have given a dataset through which we have to analyze the demand and supply gap for Uber Company by doing EDA operation on given dataset.**"
      ]
    },
    {
      "cell_type": "markdown",
      "metadata": {
        "id": "w6K7xa23Elo4"
      },
      "source": [
        "# **GitHub Link -**"
      ]
    },
    {
      "cell_type": "markdown",
      "metadata": {
        "id": "yQaldy8SH6Dl"
      },
      "source": [
        "# **Problem Statement**\n"
      ]
    },
    {
      "cell_type": "markdown",
      "metadata": {
        "id": "DpeJGUA3kjGy"
      },
      "source": [
        "**We have given a dataset on which we have to do EDA operation to analyze and solve problems for the Uber Demand Gap through it ?**"
      ]
    },
    {
      "cell_type": "markdown",
      "metadata": {
        "id": "PH-0ReGfmX4f"
      },
      "source": [
        "#### **Define Your Business Objective?**"
      ]
    },
    {
      "cell_type": "markdown",
      "metadata": {
        "id": "PhDvGCAqmjP1"
      },
      "source": [
        "**The following are the business objective for this project:-**\n",
        "\n",
        "1) To find the reason of cancellation of cab rides by drivers.\n",
        "2) To find the solution to increase the transparency of cab ride fairs.\n",
        "3) To find the permanent solution to customer problems so that to increase customer engagement and customer statisfaction rate.\n",
        "4) To find various method to increase customer engagement to use this app over other apps and ultimately increase profits for the organization.\n",
        "5) To find solution to increase safety of cab rides specially in night time."
      ]
    },
    {
      "cell_type": "markdown",
      "metadata": {
        "id": "HhfV-JJviCcP"
      },
      "source": [
        "## ***1. Know Your Data***"
      ]
    },
    {
      "cell_type": "markdown",
      "metadata": {
        "id": "Y3lxredqlCYt"
      },
      "source": [
        "### Import Libraries"
      ]
    },
    {
      "cell_type": "code",
      "execution_count": null,
      "metadata": {
        "id": "M8Vqi-pPk-HR"
      },
      "outputs": [],
      "source": [
        "# Import Libraries\n",
        "import pandas as pd\n",
        "import numpy as np\n",
        "import matplotlib\n",
        "import matplotlib.pyplot as plt\n",
        "import matplotlib.cm as cm\n",
        "import seaborn as sns\n",
        "from sklearn.ensemble import RandomForestClassifier\n",
        "from sklearn.model_selection import train_test_split\n",
        "from sklearn.preprocessing import StandardScaler\n",
        "from sklearn.metrics import accuracy_score, classification_report, confusion_matrix\n",
        "import plotly.express as px\n",
        "import random\n",
        "from wordcloud import WordCloud\n",
        "import ast\n",
        "import statsmodels as stat\n",
        "import geopandas as geo\n",
        "import missingno as ms"
      ]
    },
    {
      "cell_type": "markdown",
      "metadata": {
        "id": "3RnN4peoiCZX"
      },
      "source": [
        "### Dataset Loading"
      ]
    },
    {
      "cell_type": "code",
      "execution_count": null,
      "metadata": {
        "id": "4CkvbW_SlZ_R"
      },
      "outputs": [],
      "source": [
        "# Load Dataset\n",
        "md = pd.read_csv(\"/content/Uber Request Data.csv\")"
      ]
    },
    {
      "cell_type": "markdown",
      "metadata": {
        "id": "x71ZqKXriCWQ"
      },
      "source": [
        "### Dataset First View"
      ]
    },
    {
      "cell_type": "code",
      "execution_count": null,
      "metadata": {
        "id": "LWNFOSvLl09H"
      },
      "outputs": [],
      "source": [
        "# Dataset First Look\n",
        "md.head(5)"
      ]
    },
    {
      "cell_type": "code",
      "execution_count": null,
      "metadata": {
        "id": "rR1uFoG3SipF"
      },
      "outputs": [],
      "source": [
        "# Dataset tail look\n",
        "md.tail(5)"
      ]
    },
    {
      "cell_type": "markdown",
      "metadata": {
        "id": "7hBIi_osiCS2"
      },
      "source": [
        "### Dataset Rows & Columns count"
      ]
    },
    {
      "cell_type": "code",
      "execution_count": null,
      "metadata": {
        "id": "Kllu7SJgmLij"
      },
      "outputs": [],
      "source": [
        "# Dataset Rows & Columns count\n",
        "md.shape"
      ]
    },
    {
      "cell_type": "markdown",
      "metadata": {
        "id": "JlHwYmJAmNHm"
      },
      "source": [
        "### Dataset Information"
      ]
    },
    {
      "cell_type": "code",
      "execution_count": null,
      "metadata": {
        "id": "e9hRXRi6meOf"
      },
      "outputs": [],
      "source": [
        "# Dataset Info\n",
        "md.info()"
      ]
    },
    {
      "cell_type": "markdown",
      "metadata": {
        "id": "35m5QtbWiB9F"
      },
      "source": [
        "#### Duplicate Values"
      ]
    },
    {
      "cell_type": "code",
      "execution_count": null,
      "metadata": {
        "id": "1sLdpKYkmox0"
      },
      "outputs": [],
      "source": [
        "# Dataset Duplicate Value Count\n",
        "# Check for duplicate values\n",
        "duplicates = md.duplicated(keep=False)\n",
        "\n",
        "# Count the duplicate values\n",
        "duplicate_count = duplicates.value_counts()\n",
        "\n",
        "print(duplicate_count)"
      ]
    },
    {
      "cell_type": "markdown",
      "metadata": {
        "id": "PoPl-ycgm1ru"
      },
      "source": [
        "#### Missing Values/Null Values"
      ]
    },
    {
      "cell_type": "code",
      "execution_count": null,
      "metadata": {
        "id": "GgHWkxvamxVg"
      },
      "outputs": [],
      "source": [
        "# Missing Values/Null Values Count\n",
        "md.isnull().sum()"
      ]
    },
    {
      "cell_type": "code",
      "execution_count": null,
      "metadata": {
        "id": "3q5wnI3om9sJ"
      },
      "outputs": [],
      "source": [
        "# Visualizing the missing values\n",
        "ms.bar(md)\n",
        "plt.show()"
      ]
    },
    {
      "cell_type": "markdown",
      "metadata": {
        "id": "H0kj-8xxnORC"
      },
      "source": [
        "### What did you know about your dataset?"
      ]
    },
    {
      "cell_type": "markdown",
      "metadata": {
        "id": "gfoNAAC-nUe_"
      },
      "source": [
        "**The following are the major points about the dataset:-**\n",
        "\n",
        "1) The dataset contains 6 columns and 6745 rows.\n",
        "2) There are no duplicate values in the dataset.\n",
        "\n",
        "**Follwoing 2 columns are having some missing values:-**\n",
        "\n",
        "Driver id-----2650\n",
        "\n",
        "Drop timestamp-----3914"
      ]
    },
    {
      "cell_type": "markdown",
      "metadata": {
        "id": "nA9Y7ga8ng1Z"
      },
      "source": [
        "## ***2. Understanding Your Variables***"
      ]
    },
    {
      "cell_type": "code",
      "execution_count": null,
      "metadata": {
        "id": "j7xfkqrt5Ag5"
      },
      "outputs": [],
      "source": [
        "# Dataset Columns\n",
        "md.columns"
      ]
    },
    {
      "cell_type": "code",
      "execution_count": null,
      "metadata": {
        "id": "DnOaZdaE5Q5t"
      },
      "outputs": [],
      "source": [
        "# Dataset Describe\n",
        "md.describe()"
      ]
    },
    {
      "cell_type": "markdown",
      "metadata": {
        "id": "PBTbrJXOngz2"
      },
      "source": [
        "### Variables Description"
      ]
    },
    {
      "cell_type": "markdown",
      "metadata": {
        "id": "aJV4KIxSnxay"
      },
      "source": [
        "**The following are the variables with their description:-**\n",
        "\n",
        "**Column names---------------------------Description**\n",
        "\n",
        "1) Request id-------------------Customer Unique id who requested for the cab service through app.\n",
        "2) Pickup point-----------------Pickup location to pickup the customer.\n",
        "3) Driver id--------------------Unique Id of driver who is driving the cab.\n",
        "4) Status-----------------------status of trip that if it got completed, cancelled or no cabs are available.\n",
        "5) Request timestamp------------Request time and date when the customer requested for the cab service.\n",
        "6) Drop timestamp---------------Drop time and date when the customer is dropped to their respective location.\n",
        "\n",
        "\n",
        "The above are the descriptions for the variables present in the dataset."
      ]
    },
    {
      "cell_type": "markdown",
      "metadata": {
        "id": "u3PMJOP6ngxN"
      },
      "source": [
        "### Check Unique Values for each variable."
      ]
    },
    {
      "cell_type": "code",
      "execution_count": null,
      "metadata": {
        "id": "zms12Yq5n-jE"
      },
      "outputs": [],
      "source": [
        "# Check Unique Values for each variable.\n",
        "for x in md.columns:\n",
        "    print(f\"{x} - {md[x].nunique()}\")"
      ]
    },
    {
      "cell_type": "markdown",
      "metadata": {
        "id": "dauF4eBmngu3"
      },
      "source": [
        "## 3. ***Data Wrangling***"
      ]
    },
    {
      "cell_type": "markdown",
      "metadata": {
        "id": "bKJF3rekwFvQ"
      },
      "source": [
        "### Data Wrangling Code"
      ]
    },
    {
      "cell_type": "code",
      "execution_count": null,
      "metadata": {
        "id": "wk-9a2fpoLcV"
      },
      "outputs": [],
      "source": [
        "# Write your code to make your dataset analysis ready.\n",
        "# checking for the null values in the dataset\n",
        "md.isnull().sum()"
      ]
    },
    {
      "cell_type": "code",
      "execution_count": null,
      "metadata": {
        "id": "O9MMXe0fSipN"
      },
      "outputs": [],
      "source": [
        "md.fillna({\"Driver id\": \"Not Available\"},inplace=True)"
      ]
    },
    {
      "cell_type": "code",
      "execution_count": null,
      "metadata": {
        "id": "R0AtcC-dSipN"
      },
      "outputs": [],
      "source": [
        "md.fillna({\"Drop timestamp\": \"Not Available\"},inplace=True)"
      ]
    },
    {
      "cell_type": "code",
      "execution_count": null,
      "metadata": {
        "id": "qQjo8B7jSipN"
      },
      "outputs": [],
      "source": [
        "# checking that the missing values are present or removed\n",
        "md.isnull().sum()"
      ]
    },
    {
      "cell_type": "markdown",
      "metadata": {
        "id": "MSa1f5Uengrz"
      },
      "source": [
        "### What all manipulations have you done and insights you found?"
      ]
    },
    {
      "cell_type": "markdown",
      "metadata": {
        "id": "LbyXE7I1olp8"
      },
      "source": [
        "**The following manipulation we have done to our dataset:-**\n",
        "\n",
        "1) As there were no duplicates so no issue of removing it.\n",
        "2) There are total 2 columns having missing values which we replaced with Not Available value.\n",
        "\n",
        "Driver id-----2650\n",
        "\n",
        "Drop timestamp-----3914"
      ]
    },
    {
      "cell_type": "markdown",
      "metadata": {
        "id": "GF8Ens_Soomf"
      },
      "source": [
        "## ***4. Data Vizualization, Storytelling & Experimenting with charts : Understand the relationships between variables***"
      ]
    },
    {
      "cell_type": "markdown",
      "metadata": {
        "id": "0wOQAZs5pc--"
      },
      "source": [
        "#### Chart - 1"
      ]
    },
    {
      "cell_type": "code",
      "execution_count": null,
      "metadata": {
        "id": "7v_ESjsspbW7"
      },
      "outputs": [],
      "source": [
        "# Chart - 1 visualization code\n",
        "plt.style.use('dark_background')\n",
        "md.columns = md.columns.str.strip()\n",
        "plt.figure(figsize=(12, 8))\n",
        "ax = sns.countplot(x='Status', data=md, hue=\"Status\", palette=\"dark\", legend=0)\n",
        "plt.title('Count for Each Status Type', fontsize=18)\n",
        "plt.xlabel('Status Type', fontsize=12)\n",
        "plt.ylabel('Count', fontsize=12)\n",
        "for p in ax.patches:\n",
        "    count = int(p.get_height())\n",
        "    x = p.get_x() + p.get_width() / 2\n",
        "    y = p.get_height()\n",
        "    ax.annotate(\n",
        "        str(count),\n",
        "        (x, y),\n",
        "        ha='center',\n",
        "        va='bottom',\n",
        "        fontsize=11,\n",
        "        color='white',\n",
        "        fontweight='bold'\n",
        "    )\n",
        "\n",
        "plt.grid(False)\n",
        "plt.tight_layout()\n",
        "plt.show()"
      ]
    },
    {
      "cell_type": "markdown",
      "metadata": {
        "id": "K5QZ13OEpz2H"
      },
      "source": [
        "##### 1. Why did you pick the specific chart?"
      ]
    },
    {
      "cell_type": "markdown",
      "metadata": {
        "id": "XESiWehPqBRc"
      },
      "source": [
        "The above bar plot gives clear count for status type."
      ]
    },
    {
      "cell_type": "markdown",
      "metadata": {
        "id": "lQ7QKXXCp7Bj"
      },
      "source": [
        "##### 2. What is/are the insight(s) found from the chart?"
      ]
    },
    {
      "cell_type": "markdown",
      "metadata": {
        "id": "C_j1G7yiqdRP"
      },
      "source": [
        "The following are the insights for the above bar plot:-\n",
        "\n",
        "1) Highest count is for Trip completed status which is 2831.\n",
        "2) Second highest count is for No Cars Available status which is 2650.\n",
        "3) Lowest count is for Cancelled status which is 1264."
      ]
    },
    {
      "cell_type": "markdown",
      "metadata": {
        "id": "448CDAPjqfQr"
      },
      "source": [
        "##### 3. Will the gained insights help creating a positive business impact?\n",
        "Are there any insights that lead to negative growth? Justify with specific reason."
      ]
    },
    {
      "cell_type": "markdown",
      "metadata": {
        "id": "3cspy4FjqxJW"
      },
      "source": [
        "The above insights shows that maximum cars have completed their trip but almost equal no of cars have not completed trip as they were not available at that moment, which means uber has to increase its car numbers so as to increase availability of cars for customers and increase profits for the organisation."
      ]
    },
    {
      "cell_type": "markdown",
      "metadata": {
        "id": "KSlN3yHqYklG"
      },
      "source": [
        "#### Chart - 2"
      ]
    },
    {
      "cell_type": "code",
      "execution_count": null,
      "metadata": {
        "id": "R4YgtaqtYklH"
      },
      "outputs": [],
      "source": [
        "# Chart - 2 visualization code\n",
        "plt.style.use('dark_background')\n",
        "md.columns = md.columns.str.strip()\n",
        "plt.figure(figsize=(12, 8))\n",
        "ax = sns.countplot(x='Pickup point', data=md, hue=\"Pickup point\", palette=\"bright\", legend=0)\n",
        "plt.title('Count for Each Pickup point', fontsize=18)\n",
        "plt.xlabel('Pickup point', fontsize=12)\n",
        "plt.ylabel('Count', fontsize=12)\n",
        "for p in ax.patches:\n",
        "    count = int(p.get_height())\n",
        "    x = p.get_x() + p.get_width() / 2\n",
        "    y = p.get_height()\n",
        "    ax.annotate(\n",
        "        str(count),\n",
        "        (x, y),\n",
        "        ha='center',\n",
        "        va='bottom',\n",
        "        fontsize=11,\n",
        "        color='white',\n",
        "        fontweight='bold'\n",
        "    )\n",
        "\n",
        "plt.grid(False)\n",
        "plt.tight_layout()\n",
        "plt.show()"
      ]
    },
    {
      "cell_type": "markdown",
      "metadata": {
        "id": "t6dVpIINYklI"
      },
      "source": [
        "##### 1. Why did you pick the specific chart?"
      ]
    },
    {
      "cell_type": "markdown",
      "metadata": {
        "id": "5aaW0BYyYklI"
      },
      "source": [
        "The above bar plot gives clear count for pickup point."
      ]
    },
    {
      "cell_type": "markdown",
      "metadata": {
        "id": "ijmpgYnKYklI"
      },
      "source": [
        "##### 2. What is/are the insight(s) found from the chart?"
      ]
    },
    {
      "cell_type": "markdown",
      "metadata": {
        "id": "PSx9atu2YklI"
      },
      "source": [
        "The following are the insights for the above bar plot:-\n",
        "\n",
        "1) Highest count is for city pickup point which is 3507.\n",
        "2) Lowest count is for airport pickup point which is 3238."
      ]
    },
    {
      "cell_type": "markdown",
      "metadata": {
        "id": "-JiQyfWJYklI"
      },
      "source": [
        "##### 3. Will the gained insights help creating a positive business impact?\n",
        "Are there any insights that lead to negative growth? Justify with specific reason."
      ]
    },
    {
      "cell_type": "markdown",
      "metadata": {
        "id": "BcBbebzrYklV"
      },
      "source": [
        "The above insights shows that people often prefer Uber services inside city commute rather than airport commute which means company can do campaigns and offer some discounts on premium uber black service if customer books it from airport to ultimately increase profits for the company."
      ]
    },
    {
      "cell_type": "markdown",
      "metadata": {
        "id": "EM7whBJCYoAo"
      },
      "source": [
        "#### Chart - 3"
      ]
    },
    {
      "cell_type": "code",
      "execution_count": null,
      "metadata": {
        "id": "t6GMdE67YoAp"
      },
      "outputs": [],
      "source": [
        "# Chart - 3 visualization code\n",
        "plt.style.use('dark_background')\n",
        "trip_c = md[md.Status=='Trip Completed'].groupby('Pickup point')['Pickup point'].count()\n",
        "trip_c_1 = pd.DataFrame(trip_c)\n",
        "# Rename the count column\n",
        "trip_c_1.rename(columns={'Pickup point': 'count'}, inplace=True)\n",
        "trip_c_1.reset_index(inplace=True)\n",
        "# Create a bar plot\n",
        "plt.figure(figsize=(15, 8))  # Adjust figure size\n",
        "ax = sns.barplot(data=trip_c_1 , x=\"Pickup point\", y=\"count\", hue=\"Pickup point\", palette=\"colorblind\", legend=False)\n",
        "\n",
        "# Rotate x-axis labels for better readability\n",
        "plt.xticks(rotation=0, ha=\"right\")\n",
        "plt.xlabel(\"Pickup point\")\n",
        "plt.ylabel(\"Count\")\n",
        "plt.title(\"Count For Each Pickup Point for Trip Completed\")\n",
        "for p in ax.patches:\n",
        "    count = int(p.get_height())\n",
        "    x = p.get_x() + p.get_width() / 2\n",
        "    y = p.get_height()\n",
        "    ax.annotate(\n",
        "        str(count),\n",
        "        (x, y),\n",
        "        ha='center',\n",
        "        va='bottom',\n",
        "        fontsize=11,\n",
        "        color='white',\n",
        "        fontweight='bold'\n",
        "    )\n",
        "\n",
        "plt.grid(False)\n",
        "plt.tight_layout()\n",
        "plt.show()"
      ]
    },
    {
      "cell_type": "markdown",
      "metadata": {
        "id": "fge-S5ZAYoAp"
      },
      "source": [
        "##### 1. Why did you pick the specific chart?"
      ]
    },
    {
      "cell_type": "markdown",
      "metadata": {
        "id": "5dBItgRVYoAp"
      },
      "source": [
        "Bar plot gives clear count when using group by functions."
      ]
    },
    {
      "cell_type": "markdown",
      "metadata": {
        "id": "85gYPyotYoAp"
      },
      "source": [
        "##### 2. What is/are the insight(s) found from the chart?"
      ]
    },
    {
      "cell_type": "markdown",
      "metadata": {
        "id": "4jstXR6OYoAp"
      },
      "source": [
        "The following are the insights for the above bar plot:-\n",
        "\n",
        "1) For trip completed status the highest count is for city which is 1504.\n",
        "2) For trip completed status the lowest count is for airport which is 1327."
      ]
    },
    {
      "cell_type": "markdown",
      "metadata": {
        "id": "RoGjAbkUYoAp"
      },
      "source": [
        "##### 3. Will the gained insights help creating a positive business impact?\n",
        "Are there any insights that lead to negative growth? Justify with specific reason."
      ]
    },
    {
      "cell_type": "markdown",
      "metadata": {
        "id": "zfJ8IqMcYoAp"
      },
      "source": [
        "As per the above insights, it shows that almost equal number of count is their for trip completion status for both pickup point which is great positive sign but, company can improve a little bit for airport pickup point to increase overall cuatomer satisfaction and profits."
      ]
    },
    {
      "cell_type": "markdown",
      "metadata": {
        "id": "4Of9eVA-YrdM"
      },
      "source": [
        "#### Chart - 4"
      ]
    },
    {
      "cell_type": "code",
      "execution_count": null,
      "metadata": {
        "id": "irlUoxc8YrdO"
      },
      "outputs": [],
      "source": [
        "# Chart - 4 visualization code\n",
        "plt.style.use('dark_background')\n",
        "cancel = md[md.Status=='Cancelled'].groupby('Pickup point')['Pickup point'].count()\n",
        "cancel_1 = pd.DataFrame(cancel)\n",
        "# Rename the count column\n",
        "cancel_1.rename(columns={'Pickup point': 'count'}, inplace=True)\n",
        "cancel_1.reset_index(inplace=True)\n",
        "# Create a bar plot\n",
        "plt.figure(figsize=(15, 8))  # Adjust figure size\n",
        "ax = sns.barplot(data=cancel_1 , x=\"Pickup point\", y=\"count\", hue=\"Pickup point\", palette=\"colorblind\", legend=False)\n",
        "\n",
        "# Rotate x-axis labels for better readability\n",
        "plt.xticks(rotation=0, ha=\"right\")\n",
        "plt.xlabel(\"Pickup point\")\n",
        "plt.ylabel(\"Count\")\n",
        "plt.title(\"Count For Each Pickup Point for Cancelled Trips\")\n",
        "for p in ax.patches:\n",
        "    count = int(p.get_height())\n",
        "    x = p.get_x() + p.get_width() / 2\n",
        "    y = p.get_height()\n",
        "    ax.annotate(\n",
        "        str(count),\n",
        "        (x, y),\n",
        "        ha='center',\n",
        "        va='bottom',\n",
        "        fontsize=11,\n",
        "        color='white',\n",
        "        fontweight='bold'\n",
        "    )\n",
        "\n",
        "plt.grid(False)\n",
        "plt.tight_layout()\n",
        "plt.show()"
      ]
    },
    {
      "cell_type": "markdown",
      "metadata": {
        "id": "iky9q4vBYrdO"
      },
      "source": [
        "##### 1. Why did you pick the specific chart?"
      ]
    },
    {
      "cell_type": "markdown",
      "metadata": {
        "id": "aJRCwT6DYrdO"
      },
      "source": [
        "Bar plot gives clear count when using group by functions."
      ]
    },
    {
      "cell_type": "markdown",
      "metadata": {
        "id": "F6T5p64dYrdO"
      },
      "source": [
        "##### 2. What is/are the insight(s) found from the chart?"
      ]
    },
    {
      "cell_type": "markdown",
      "metadata": {
        "id": "Xx8WAJvtYrdO"
      },
      "source": [
        "The following are the insights for the above bar plot:-\n",
        "\n",
        "1) For Cancelled Trips status the highest count is for city which is 1066.\n",
        "2) For Cancelled Trips status the lowest count is for airport which is 198."
      ]
    },
    {
      "cell_type": "markdown",
      "metadata": {
        "id": "y-Ehk30pYrdP"
      },
      "source": [
        "##### 3. Will the gained insights help creating a positive business impact?\n",
        "Are there any insights that lead to negative growth? Justify with specific reason."
      ]
    },
    {
      "cell_type": "markdown",
      "metadata": {
        "id": "jLNxxz7MYrdP"
      },
      "source": [
        "The above insights shows a very negative aspect, as we know already that the count for pickup point city is greater than airport and here we can see that the maximum count of cancelled trips is for city pickup point which shows a bad impression that customer requests are not followed by drivers, this can ultimately reduce company rating so as to avoid this company should monitor on drivers who cancelling rides inside city commute so as to increase future customer engagement and overall company reputation."
      ]
    },
    {
      "cell_type": "markdown",
      "metadata": {
        "id": "bamQiAODYuh1"
      },
      "source": [
        "#### Chart - 5"
      ]
    },
    {
      "cell_type": "code",
      "execution_count": null,
      "metadata": {
        "id": "TIJwrbroYuh3"
      },
      "outputs": [],
      "source": [
        "# Chart - 5 visualization code\n",
        "plt.style.use('dark_background')\n",
        "nocars = md[md.Status=='No Cars Available'].groupby('Pickup point')['Pickup point'].count()\n",
        "nocars_1 = pd.DataFrame(nocars)\n",
        "# Rename the count column\n",
        "nocars_1.rename(columns={'Pickup point': 'count'}, inplace=True)\n",
        "nocars_1.reset_index(inplace=True)\n",
        "# Create a bar plot\n",
        "plt.figure(figsize=(15, 8))  # Adjust figure size\n",
        "ax = sns.barplot(data=nocars_1 , x=\"Pickup point\", y=\"count\", hue=\"Pickup point\", palette=\"colorblind\", legend=False)\n",
        "\n",
        "# Rotate x-axis labels for better readability\n",
        "plt.xticks(rotation=0, ha=\"right\")\n",
        "plt.xlabel(\"Pickup point\")\n",
        "plt.ylabel(\"Count\")\n",
        "plt.title(\"Count For Each Pickup Point for No Cars Available\")\n",
        "for p in ax.patches:\n",
        "    count = int(p.get_height())\n",
        "    x = p.get_x() + p.get_width() / 2\n",
        "    y = p.get_height()\n",
        "    ax.annotate(\n",
        "        str(count),\n",
        "        (x, y),\n",
        "        ha='center',\n",
        "        va='bottom',\n",
        "        fontsize=11,\n",
        "        color='white',\n",
        "        fontweight='bold'\n",
        "    )\n",
        "\n",
        "plt.grid(False)\n",
        "plt.tight_layout()\n",
        "plt.show()"
      ]
    },
    {
      "cell_type": "markdown",
      "metadata": {
        "id": "QHF8YVU7Yuh3"
      },
      "source": [
        "##### 1. Why did you pick the specific chart?"
      ]
    },
    {
      "cell_type": "markdown",
      "metadata": {
        "id": "dcxuIMRPYuh3"
      },
      "source": [
        "Bar plot gives clear count when using group by functions."
      ]
    },
    {
      "cell_type": "markdown",
      "metadata": {
        "id": "GwzvFGzlYuh3"
      },
      "source": [
        "##### 2. What is/are the insight(s) found from the chart?"
      ]
    },
    {
      "cell_type": "markdown",
      "metadata": {
        "id": "uyqkiB8YYuh3"
      },
      "source": [
        "The following are the insights for the above bar plot:-\n",
        "\n",
        "1) For no cars available status the highest count is for airport which is 1713.\n",
        "2) For no cars available status the lowest count is for city which is 937."
      ]
    },
    {
      "cell_type": "markdown",
      "metadata": {
        "id": "qYpmQ266Yuh3"
      },
      "source": [
        "##### 3. Will the gained insights help creating a positive business impact?\n",
        "Are there any insights that lead to negative growth? Justify with specific reason."
      ]
    },
    {
      "cell_type": "markdown",
      "metadata": {
        "id": "_WtzZ_hCYuh4"
      },
      "source": [
        "The above insights shows that maximum cars are not available at airport pickup point where the most of the business comes for any cab service company, so if uber wants to increase its profits it should provide more number of cars at airport so as to not miss the opportunity of earn and retain frequent flyers who commute through airport and use cab services."
      ]
    },
    {
      "cell_type": "markdown",
      "metadata": {
        "id": "OH-pJp9IphqM"
      },
      "source": [
        "#### Chart - 6"
      ]
    },
    {
      "cell_type": "code",
      "execution_count": null,
      "metadata": {
        "id": "kuRf4wtuphqN"
      },
      "outputs": [],
      "source": [
        "# Chart - 6 visualization code\n",
        "plt.style.use('dark_background')\n",
        "\n",
        "# Ensure clean column names\n",
        "md.columns = md.columns.str.strip()\n",
        "\n",
        "# Filter for Pickup point = 'Airport'\n",
        "airport_df = md[md['Pickup point'].str.strip() == 'Airport']\n",
        "\n",
        "# Group by Status and count\n",
        "type_count = airport_df['Status'].value_counts().reset_index()\n",
        "type_count.columns = ['Status', 'Count']\n",
        "\n",
        "# Create the treemap\n",
        "fig = px.treemap(type_count,\n",
        "                 path=['Status'],\n",
        "                 values='Count',\n",
        "                 title=\"Count of Status for Airport\",\n",
        "                 color='Count',\n",
        "                 color_continuous_scale=\"RdBu\")\n",
        "\n",
        "# Show the plot\n",
        "fig.show()"
      ]
    },
    {
      "cell_type": "markdown",
      "metadata": {
        "id": "bbFf2-_FphqN"
      },
      "source": [
        "##### 1. Why did you pick the specific chart?"
      ]
    },
    {
      "cell_type": "markdown",
      "metadata": {
        "id": "loh7H2nzphqN"
      },
      "source": [
        "The above tree map gives clear details when we hover over it and helps us to compare various variables in single tree map."
      ]
    },
    {
      "cell_type": "markdown",
      "metadata": {
        "id": "_ouA3fa0phqN"
      },
      "source": [
        "##### 2. What is/are the insight(s) found from the chart?"
      ]
    },
    {
      "cell_type": "markdown",
      "metadata": {
        "id": "VECbqPI7phqN"
      },
      "source": [
        "The following are the insights for the above tree map:-\n",
        "\n",
        "1) Highest count of airport status is for No cars Available which is 1713.\n",
        "2) Second highest count of airport status is for Trip Completed which is 1327.\n",
        "3) Lowest count of airport status is for cancelled which is 198."
      ]
    },
    {
      "cell_type": "markdown",
      "metadata": {
        "id": "Seke61FWphqN"
      },
      "source": [
        "##### 3. Will the gained insights help creating a positive business impact?\n",
        "Are there any insights that lead to negative growth? Justify with specific reason."
      ]
    },
    {
      "cell_type": "markdown",
      "metadata": {
        "id": "DW4_bGpfphqN"
      },
      "source": [
        "The above insight shows that the airport pickup point has less available cars because of which customers are preferring other cab services, if company wants to reduce or eliminate the competition than they have to allocate more cars at airport so as to increase customer engagement and profits."
      ]
    },
    {
      "cell_type": "markdown",
      "metadata": {
        "id": "PIIx-8_IphqN"
      },
      "source": [
        "#### Chart - 7"
      ]
    },
    {
      "cell_type": "code",
      "execution_count": null,
      "metadata": {
        "id": "lqAIGUfyphqO"
      },
      "outputs": [],
      "source": [
        "# Chart - 7 visualization code\n",
        "plt.style.use('dark_background')\n",
        "\n",
        "# Ensure clean column names\n",
        "md.columns = md.columns.str.strip()\n",
        "\n",
        "# Filter for Pickup point = 'Airport'\n",
        "City_df = md[md['Pickup point'].str.strip() == 'City']\n",
        "\n",
        "# Group by Status and count\n",
        "City_df_count = City_df['Status'].value_counts().reset_index()\n",
        "City_df_count.columns = ['Status', 'Count']\n",
        "\n",
        "# Create the treemap\n",
        "fig = px.treemap(City_df_count,\n",
        "                 path=['Status'],\n",
        "                 values='Count',\n",
        "                 title=\"Count of Status for City\",\n",
        "                 color='Count',\n",
        "                 color_discrete_map={'(?)':'lightgrey', 'Lunch':'gold', 'Dinner':'darkblue'})\n",
        "\n",
        "# Show the plot\n",
        "fig.show()"
      ]
    },
    {
      "cell_type": "markdown",
      "metadata": {
        "id": "t27r6nlMphqO"
      },
      "source": [
        "##### 1. Why did you pick the specific chart?"
      ]
    },
    {
      "cell_type": "markdown",
      "metadata": {
        "id": "iv6ro40sphqO"
      },
      "source": [
        "The above tree map gives clear details when we hover over it and helps us to compare various variables in single tree map."
      ]
    },
    {
      "cell_type": "markdown",
      "metadata": {
        "id": "r2jJGEOYphqO"
      },
      "source": [
        "##### 2. What is/are the insight(s) found from the chart?"
      ]
    },
    {
      "cell_type": "markdown",
      "metadata": {
        "id": "Po6ZPi4hphqO"
      },
      "source": [
        "The following are the insights for the above tree map:-\n",
        "\n",
        "1) Highest count of City status is for Trip Completed which is 1504.\n",
        "2) Second Highest count of City status is for cancelled which is 1066.\n",
        "3) Lowest count of City status is for mo cars available which is 937."
      ]
    },
    {
      "cell_type": "markdown",
      "metadata": {
        "id": "b0JNsNcRphqO"
      },
      "source": [
        "##### 3. Will the gained insights help creating a positive business impact?\n",
        "Are there any insights that lead to negative growth? Justify with specific reason."
      ]
    },
    {
      "cell_type": "markdown",
      "metadata": {
        "id": "xvSq8iUTphqO"
      },
      "source": [
        "As we know already that the count for pickup point city is greater than airport and here we can see that the maximum count of cancelled trips is for city pickup point which shows a bad impression that customer requests are not followed by drivers, this can ultimately reduce company rating so as to avoid this company should monitor on drivers who cancelling rides inside city commute so as to increase future customer engagement and overall company reputation."
      ]
    },
    {
      "cell_type": "markdown",
      "metadata": {
        "id": "BZR9WyysphqO"
      },
      "source": [
        "#### Chart - 8"
      ]
    },
    {
      "cell_type": "code",
      "execution_count": null,
      "metadata": {
        "id": "TdPTWpAVphqO"
      },
      "outputs": [],
      "source": [
        "# Chart - 8 visualization code\n",
        "P_1 = md.groupby([\"Request timestamp\", \"Pickup point\"]).size().unstack(fill_value=0)\n",
        "\n",
        "# Normalize the data (percentage distribution)\n",
        "P_11 = P_1.div(P_1.sum(axis=1), axis=0) * 100\n",
        "\n",
        "# Select top 20 stations by total trip count (sum of all user types per station)\n",
        "top_P = P_1.sum(axis=1).sort_values(ascending=False).head(20).index\n",
        "P_top20 = P_11.loc[top_P]\n",
        "\n",
        "# Plot stacked bar chart for top 20 stations\n",
        "fig, ax = plt.subplots(figsize=(15, 8))  # Adjusted figure size\n",
        "P_top20.plot(kind=\"barh\", stacked=True, colormap=\"summer\", ax=ax)\n",
        "\n",
        "# Labels and title\n",
        "plt.xlabel(\"Distribution for the Pickup point\")\n",
        "plt.ylabel(\"Request TimeStamp\")\n",
        "plt.title(\"Distribution of Pickup Point vs Request Time (Top 20)\")\n",
        "plt.legend(title=\"Pickup Point\", bbox_to_anchor=(1.05, 1), loc=\"upper left\")\n",
        "\n",
        "plt.tight_layout()\n",
        "plt.show()"
      ]
    },
    {
      "cell_type": "markdown",
      "metadata": {
        "id": "jj7wYXLtphqO"
      },
      "source": [
        "##### 1. Why did you pick the specific chart?"
      ]
    },
    {
      "cell_type": "markdown",
      "metadata": {
        "id": "Ob8u6rCTphqO"
      },
      "source": [
        "The above multi bar plot is great to visualize multi variable in distribution form for a variable."
      ]
    },
    {
      "cell_type": "markdown",
      "metadata": {
        "id": "eZrbJ2SmphqO"
      },
      "source": [
        "##### 2. What is/are the insight(s) found from the chart?"
      ]
    },
    {
      "cell_type": "markdown",
      "metadata": {
        "id": "mZtgC_hjphqO"
      },
      "source": [
        "The following are the insights for the above multi bar plot:-\n",
        "\n",
        "1) The highest distribution for airport pickup point is for the request timestamps 19:02, 22:00 and 21:42 with common date as 11/7/2016.\n",
        "2) The highest distribution for city pickup point is for the request timestamps 5:12, 5:10 and 8:42 with common date as 11/7/2016."
      ]
    },
    {
      "cell_type": "markdown",
      "metadata": {
        "id": "rFu4xreNphqO"
      },
      "source": [
        "##### 3. Will the gained insights help creating a positive business impact?\n",
        "Are there any insights that lead to negative growth? Justify with specific reason."
      ]
    },
    {
      "cell_type": "markdown",
      "metadata": {
        "id": "ey_0qi68phqO"
      },
      "source": [
        "The above insights shows that the customers are preferring city commute mostly in the morning time and airport commute in the evening/ night time."
      ]
    },
    {
      "cell_type": "markdown",
      "metadata": {
        "id": "YJ55k-q6phqO"
      },
      "source": [
        "#### Chart - 9"
      ]
    },
    {
      "cell_type": "code",
      "execution_count": null,
      "metadata": {
        "id": "B2aS4O1ophqO"
      },
      "outputs": [],
      "source": [
        "# Chart - 9 visualization code\n",
        "S_1 = md.groupby([\"Request timestamp\", \"Status\"]).size().unstack(fill_value=0)\n",
        "\n",
        "# Normalize the data (percentage distribution)\n",
        "S_11 = S_1.div(S_1.sum(axis=1), axis=0) * 100\n",
        "\n",
        "# Select top 20 stations by total trip count (sum of all user types per station)\n",
        "top_S = S_1.sum(axis=1).sort_values(ascending=False).head(20).index\n",
        "S_top20 = S_11.loc[top_S]\n",
        "\n",
        "# Plot stacked bar chart for top 20 stations\n",
        "fig, ax = plt.subplots(figsize=(15, 8))  # Adjusted figure size\n",
        "S_top20.plot(kind=\"barh\", stacked=True, colormap=\"plasma\", ax=ax)\n",
        "\n",
        "# Labels and title\n",
        "plt.xlabel(\"Distribution for the Status\")\n",
        "plt.ylabel(\"Request TimeStamp\")\n",
        "plt.title(\"Distribution of Status of Trip vs Request Time (Top 20)\")\n",
        "plt.legend(title=\"Status of Trip\", bbox_to_anchor=(1.05, 1), loc=\"upper left\")\n",
        "\n",
        "plt.tight_layout()\n",
        "plt.show()"
      ]
    },
    {
      "cell_type": "markdown",
      "metadata": {
        "id": "gCFgpxoyphqP"
      },
      "source": [
        "##### 1. Why did you pick the specific chart?"
      ]
    },
    {
      "cell_type": "markdown",
      "metadata": {
        "id": "TVxDimi2phqP"
      },
      "source": [
        "The above multi bar plot is great to visualize multi variable in distribution form for a variable."
      ]
    },
    {
      "cell_type": "markdown",
      "metadata": {
        "id": "OVtJsKN_phqQ"
      },
      "source": [
        "##### 2. What is/are the insight(s) found from the chart?"
      ]
    },
    {
      "cell_type": "markdown",
      "metadata": {
        "id": "ngGi97qjphqQ"
      },
      "source": [
        "The following are the insights for the above multi bar plot:-\n",
        "\n",
        "1) The highest count for no cars available status is for the request timestamp 19:02 with common date as 11/7/2016.\n",
        "2) The highest count for cancelled status is for the request timestamp 5:10 with common date as 11/7/2016.\n",
        "3) The highest count for Trip Completed status is for the request timestamps 4:46, 9:24, 19:14, 17:30 and 22:00 with common date as 11/7/2016."
      ]
    },
    {
      "cell_type": "markdown",
      "metadata": {
        "id": "lssrdh5qphqQ"
      },
      "source": [
        "##### 3. Will the gained insights help creating a positive business impact?\n",
        "Are there any insights that lead to negative growth? Justify with specific reason."
      ]
    },
    {
      "cell_type": "markdown",
      "metadata": {
        "id": "tBpY5ekJphqQ"
      },
      "source": [
        "The above insights shows that the no cars available status is mostly for evening/ night time, cancelled status is mostly for morning time and Trip completed status has equal no of count for both evening/ night and morning time.\n",
        "As per this morning drivers should be monitored constantly and they should be informed that to minimize the cancellation of cab service."
      ]
    },
    {
      "cell_type": "markdown",
      "metadata": {
        "id": "U2RJ9gkRphqQ"
      },
      "source": [
        "#### Chart - 10"
      ]
    },
    {
      "cell_type": "code",
      "execution_count": null,
      "metadata": {
        "id": "GM7a4YP4phqQ"
      },
      "outputs": [],
      "source": [
        "# Chart - 10 visualization code\n",
        "Pd_1 = md.groupby([\"Drop timestamp\", \"Pickup point\"]).size().unstack(fill_value=0)\n",
        "\n",
        "# Normalize the data (percentage distribution)\n",
        "Pd_11 = Pd_1.div(Pd_1.sum(axis=1), axis=0) * 100\n",
        "\n",
        "# Select top 20 stations by total trip count (sum of all user types per station)\n",
        "top_Pd = Pd_1.sum(axis=1).sort_values(ascending=False).head(20).index\n",
        "Pd_top20 = Pd_11.loc[top_Pd]\n",
        "\n",
        "# Plot stacked bar chart for top 20 stations\n",
        "fig, ax = plt.subplots(figsize=(15, 8))  # Adjusted figure size\n",
        "Pd_top20.plot(kind=\"barh\", stacked=True, colormap=\"viridis\", ax=ax)\n",
        "\n",
        "# Labels and title\n",
        "plt.xlabel(\"Distribution for the Pickup point\")\n",
        "plt.ylabel(\"Drop timestamp\")\n",
        "plt.title(\"Distribution of Pickup Point vs Drop timestamp (Top 20)\")\n",
        "plt.legend(title=\"Pickup Point\", bbox_to_anchor=(1.05, 1), loc=\"upper left\")\n",
        "\n",
        "plt.tight_layout()\n",
        "plt.show()"
      ]
    },
    {
      "cell_type": "markdown",
      "metadata": {
        "id": "1M8mcRywphqQ"
      },
      "source": [
        "##### 1. Why did you pick the specific chart?"
      ]
    },
    {
      "cell_type": "markdown",
      "metadata": {
        "id": "8agQvks0phqQ"
      },
      "source": [
        "The above multi bar plot is great to visualize multi variable in distribution form for a variable."
      ]
    },
    {
      "cell_type": "markdown",
      "metadata": {
        "id": "tgIPom80phqQ"
      },
      "source": [
        "##### 2. What is/are the insight(s) found from the chart?"
      ]
    },
    {
      "cell_type": "markdown",
      "metadata": {
        "id": "Qp13pnNzphqQ"
      },
      "source": [
        "The following are the insights for the above multi bar plot:-\n",
        "\n",
        "1) The highest count for airport pickup point is for the drop timestamps 13:00, 6:02 and 7:10 with common date as 11/7/2016.\n",
        "2) The highest count for city pickup point is for the drop timestamps 8:55 and 11:32 with common date as 11/7/2016."
      ]
    },
    {
      "cell_type": "markdown",
      "metadata": {
        "id": "JMzcOPDDphqR"
      },
      "source": [
        "##### 3. Will the gained insights help creating a positive business impact?\n",
        "Are there any insights that lead to negative growth? Justify with specific reason."
      ]
    },
    {
      "cell_type": "markdown",
      "metadata": {
        "id": "R4Ka1PC2phqR"
      },
      "source": [
        "The above insight shows that the airport and city pickup point both have high count for morning/ afternoon drop timestamps, which means customers are reaching their destination/ arrivals in the morning/ afternoon time. Remembering this drivers should be informed that not to cancel morning requests as it will impact company profits."
      ]
    },
    {
      "cell_type": "markdown",
      "metadata": {
        "id": "x-EpHcCOp1ci"
      },
      "source": [
        "#### Chart - 11"
      ]
    },
    {
      "cell_type": "code",
      "execution_count": null,
      "metadata": {
        "id": "mAQTIvtqp1cj"
      },
      "outputs": [],
      "source": [
        "# Chart - 11 visualization code\n",
        "Sd_1 = md.groupby([\"Drop timestamp\", \"Status\"]).size().unstack(fill_value=0)\n",
        "\n",
        "# Normalize the data (percentage distribution)\n",
        "Sd_11 = Sd_1.div(Sd_1.sum(axis=1), axis=0) * 100\n",
        "\n",
        "# Select top 20 stations by total trip count (sum of all user types per station)\n",
        "top_Sd = Sd_1.sum(axis=1).sort_values(ascending=False).head(20).index\n",
        "Sd_top20 = Sd_11.loc[top_Sd]\n",
        "\n",
        "# Plot stacked bar chart for top 20 stations\n",
        "fig, ax = plt.subplots(figsize=(15, 8))  # Adjusted figure size\n",
        "Sd_top20.plot(kind=\"barh\", stacked=True, colormap=\"cividis\", ax=ax)\n",
        "\n",
        "# Labels and title\n",
        "plt.xlabel(\"Distribution for the Status\")\n",
        "plt.ylabel(\"Drop timestamp\")\n",
        "plt.title(\"Distribution of Status of Trip vs Drop timestamp (Top 20)\")\n",
        "plt.legend(title=\"Status of Trip\", bbox_to_anchor=(1.05, 1), loc=\"upper left\")\n",
        "\n",
        "plt.tight_layout()\n",
        "plt.show()"
      ]
    },
    {
      "cell_type": "markdown",
      "metadata": {
        "id": "X_VqEhTip1ck"
      },
      "source": [
        "##### 1. Why did you pick the specific chart?"
      ]
    },
    {
      "cell_type": "markdown",
      "metadata": {
        "id": "-vsMzt_np1ck"
      },
      "source": [
        "The above multi bar plot is great to visualize multi variable in distribution form for a variable."
      ]
    },
    {
      "cell_type": "markdown",
      "metadata": {
        "id": "8zGJKyg5p1ck"
      },
      "source": [
        "##### 2. What is/are the insight(s) found from the chart?"
      ]
    },
    {
      "cell_type": "markdown",
      "metadata": {
        "id": "ZYdMsrqVp1ck"
      },
      "source": [
        "The following are the insights for the above multi bar plot:-\n",
        "\n",
        "1) The highest count for no cars available status is for the morning drop timestamp with common date as 11/7/2016.\n",
        "2) The highest count for cancelled status is for the morning drop timestamp with common date as 11/7/2016.\n",
        "3) The highest count for Trip Completed status is for the drop timestamps 7:10, 7:50, 7:54, 8:44, 8:55, 10:58, 11:32, 6:02, 12:13 and 13:10 with common date as 11/7/2016."
      ]
    },
    {
      "cell_type": "markdown",
      "metadata": {
        "id": "PVzmfK_Ep1ck"
      },
      "source": [
        "##### 3. Will the gained insights help creating a positive business impact?\n",
        "Are there any insights that lead to negative growth? Justify with specific reason."
      ]
    },
    {
      "cell_type": "markdown",
      "metadata": {
        "id": "druuKYZpp1ck"
      },
      "source": [
        "The above insight shows that the drop time is morning for all three status which means cancelled trips are mostly done in the morning which affects the business as most customers are travelling in the morning, the company should inform the drivers that if they cancel trips in morning than they have to face penalty as this will reduce cancellation and ultimately increase profits for the company."
      ]
    },
    {
      "cell_type": "markdown",
      "metadata": {
        "id": "n3dbpmDWp1ck"
      },
      "source": [
        "#### Chart - 12"
      ]
    },
    {
      "cell_type": "code",
      "execution_count": null,
      "metadata": {
        "id": "bwevp1tKp1ck"
      },
      "outputs": [],
      "source": [
        "# Chart - 12 visualization code\n",
        "co = md['Request timestamp'].value_counts().head(10)\n",
        "\n",
        "# No conversion to int here\n",
        "plt.figure(figsize=(15, 7))\n",
        "co.plot(\n",
        "    kind='pie',\n",
        "    labels=co.index,  # keep as strings\n",
        "    autopct=lambda p: '{:.0f}%'.format(p),\n",
        "    colors=['yellow', 'crimson'],\n",
        "    startangle=90,\n",
        "    wedgeprops={'edgecolor': 'black'},\n",
        "    textprops={'fontsize': 12, 'color': 'black'}\n",
        ")\n",
        "\n",
        "plt.title('Top 10 Request Timestamps', fontsize=16)\n",
        "plt.ylabel('')\n",
        "plt.tight_layout()\n",
        "plt.show()"
      ]
    },
    {
      "cell_type": "markdown",
      "metadata": {
        "id": "ylSl6qgtp1ck"
      },
      "source": [
        "##### 1. Why did you pick the specific chart?"
      ]
    },
    {
      "cell_type": "markdown",
      "metadata": {
        "id": "m2xqNkiQp1ck"
      },
      "source": [
        "The above pie chart gives clear distribution of request timestamps and help us to compare each of them with each other easily."
      ]
    },
    {
      "cell_type": "markdown",
      "metadata": {
        "id": "ZWILFDl5p1ck"
      },
      "source": [
        "##### 2. What is/are the insight(s) found from the chart?"
      ]
    },
    {
      "cell_type": "markdown",
      "metadata": {
        "id": "x-lUsV2mp1ck"
      },
      "source": [
        "The following are the insights for the above pie chart:-\n",
        "\n",
        "1) The highest distribution is for the request time stamps 19:02, 17:57, 8:37 and 9:40 with 11% value each.\n",
        "2) The lowest distribution is for the request time stamps 19:31, 21:38, 19:14, 4:46 , 21:42 and 19:01 with 9% value each.  "
      ]
    },
    {
      "cell_type": "markdown",
      "metadata": {
        "id": "M7G43BXep1ck"
      },
      "source": [
        "##### 3. Will the gained insights help creating a positive business impact?\n",
        "Are there any insights that lead to negative growth? Justify with specific reason."
      ]
    },
    {
      "cell_type": "markdown",
      "metadata": {
        "id": "5wwDJXsLp1cl"
      },
      "source": [
        "The above insight shows that the request time count is almost same for both morning/ afternoon and evening/ night time."
      ]
    },
    {
      "cell_type": "markdown",
      "metadata": {
        "id": "Ag9LCva-p1cl"
      },
      "source": [
        "#### Chart - 13"
      ]
    },
    {
      "cell_type": "code",
      "execution_count": null,
      "metadata": {
        "id": "EUfxeq9-p1cl"
      },
      "outputs": [],
      "source": [
        "# Chart - 13 visualization code\n",
        "\n",
        "plt.style.use('dark_background')\n",
        "\n",
        "# Clean column names\n",
        "md.columns = md.columns.str.strip()\n",
        "\n",
        "# Optional: Convert columns to numeric (in case they're strings)\n",
        "md['Driver id'] = pd.to_numeric(md['Driver id'], errors='coerce')\n",
        "md['Request id'] = pd.to_numeric(md['Request id'], errors='coerce')\n",
        "\n",
        "# Drop rows with missing values\n",
        "md = md.dropna(subset=['Driver id', 'Request id'])\n",
        "\n",
        "# Sort by Driver id descending and take top 15\n",
        "top_rd = md[['Request id', 'Driver id']].sort_values(by='Driver id', ascending=False).head(15)\n",
        "\n",
        "# Plot\n",
        "plt.figure(figsize=(15, 8))\n",
        "plt.plot(top_rd['Request id'], top_rd['Driver id'], marker=\"o\", color='tab:blue', linestyle='-', linewidth=2)\n",
        "\n",
        "plt.xlabel(\"Request ID\", fontsize=12)\n",
        "plt.ylabel(\"Driver ID\", fontsize=12)\n",
        "plt.title(\"Top 15: Request ID vs Driver ID\", fontsize=16)\n",
        "plt.grid(True)\n",
        "plt.tight_layout()\n",
        "plt.show()"
      ]
    },
    {
      "cell_type": "markdown",
      "metadata": {
        "id": "E6MkPsBcp1cl"
      },
      "source": [
        "##### 1. Why did you pick the specific chart?"
      ]
    },
    {
      "cell_type": "markdown",
      "metadata": {
        "id": "V22bRsFWp1cl"
      },
      "source": [
        "The above line chart is best for analyzing trends over a period of time for numerical variables."
      ]
    },
    {
      "cell_type": "markdown",
      "metadata": {
        "id": "2cELzS2fp1cl"
      },
      "source": [
        "##### 2. What is/are the insight(s) found from the chart?"
      ]
    },
    {
      "cell_type": "markdown",
      "metadata": {
        "id": "ozQPc2_Ip1cl"
      },
      "source": [
        "The following are the insights for the above line chart:-\n",
        "\n",
        "1) For top 15 values the above line chart shows a steady Z pattern over a specific period of time.\n",
        "2) Mostly the cab service request is handled by driver id's 299 and 300."
      ]
    },
    {
      "cell_type": "markdown",
      "metadata": {
        "id": "3MPXvC8up1cl"
      },
      "source": [
        "##### 3. Will the gained insights help creating a positive business impact?\n",
        "Are there any insights that lead to negative growth? Justify with specific reason."
      ]
    },
    {
      "cell_type": "markdown",
      "metadata": {
        "id": "GL8l1tdLp1cl"
      },
      "source": [
        "The above insight shows that the driver id 299 and 300 are getting maximum business and also they are completing their business services successfully."
      ]
    },
    {
      "cell_type": "markdown",
      "metadata": {
        "id": "NC_X3p0fY2L0"
      },
      "source": [
        "#### Chart - 14 - Correlation Heatmap"
      ]
    },
    {
      "cell_type": "code",
      "execution_count": null,
      "metadata": {
        "id": "xyC9zolEZNRQ"
      },
      "outputs": [],
      "source": [
        "# Correlation Heatmap visualization code\n",
        "plt.style.use('dark_background')\n",
        "numerical = md.select_dtypes(include=['int64', 'float64'])\n",
        "\n",
        "corr_matrix = numerical.corr().fillna(0)\n",
        "plt.figure(figsize=(12, 7))\n",
        "sns.heatmap(corr_matrix, annot=True, cmap=\"Set1\", fmt=\".2f\", linewidths=0.5)\n",
        "plt.title(\"Correlation Heatmap\")\n",
        "plt.show()"
      ]
    },
    {
      "cell_type": "markdown",
      "metadata": {
        "id": "UV0SzAkaZNRQ"
      },
      "source": [
        "##### 1. Why did you pick the specific chart?"
      ]
    },
    {
      "cell_type": "markdown",
      "metadata": {
        "id": "DVPuT8LYZNRQ"
      },
      "source": [
        "The above heatmap is good for analyzing the coorelation between various numerical values with each other and itself."
      ]
    },
    {
      "cell_type": "markdown",
      "metadata": {
        "id": "YPEH6qLeZNRQ"
      },
      "source": [
        "##### 2. What is/are the insight(s) found from the chart?"
      ]
    },
    {
      "cell_type": "markdown",
      "metadata": {
        "id": "bfSqtnDqZNRR"
      },
      "source": [
        "The following are the insights for the above heatmap:-\n",
        "\n",
        "1) As there is only one numerical variable which is request id so therefore it has coorelation as 1 with itself."
      ]
    },
    {
      "cell_type": "markdown",
      "metadata": {
        "id": "q29F0dvdveiT"
      },
      "source": [
        "#### Chart - 15 - Pair Plot"
      ]
    },
    {
      "cell_type": "code",
      "execution_count": null,
      "metadata": {
        "id": "o58-TEIhveiU"
      },
      "outputs": [],
      "source": [
        "# Pair Plot visualization code\n",
        "plt.style.use('dark_background')\n",
        "numerical = md.select_dtypes(include=['int64', 'float64'])\n",
        "numerical = numerical.dropna(axis=1, thresh=len(numerical) * 0.8)\n",
        "sns.pairplot(numerical, diag_kind='kde', plot_kws={'alpha': 0.5})\n",
        "plt.show()"
      ]
    },
    {
      "cell_type": "markdown",
      "metadata": {
        "id": "EXh0U9oCveiU"
      },
      "source": [
        "##### 1. Why did you pick the specific chart?"
      ]
    },
    {
      "cell_type": "markdown",
      "metadata": {
        "id": "eMmPjTByveiU"
      },
      "source": [
        "Pair plot are best for comparing numerical variables with each other and itself to find trends, patterns and conclusions."
      ]
    },
    {
      "cell_type": "markdown",
      "metadata": {
        "id": "22aHeOlLveiV"
      },
      "source": [
        "##### 2. What is/are the insight(s) found from the chart?"
      ]
    },
    {
      "cell_type": "markdown",
      "metadata": {
        "id": "uPQ8RGwHveiV"
      },
      "source": [
        "The following are the insights for the above pair plot:-\n",
        "\n",
        "1) As there is only numerical variable which is request id so thats why it shows steady increasing growth and steady decreasing growth as per dataset size which is totally natural visualization when one numerical variable is compared with itself."
      ]
    },
    {
      "cell_type": "markdown",
      "metadata": {
        "id": "JcMwzZxoAimU"
      },
      "source": [
        "## **5. Solution to Business Objective**"
      ]
    },
    {
      "cell_type": "markdown",
      "metadata": {
        "id": "8G2x9gOozGDZ"
      },
      "source": [
        "#### What do you suggest the client to achieve Business Objective ?\n",
        "Explain Briefly."
      ]
    },
    {
      "cell_type": "markdown",
      "metadata": {
        "id": "pASKb0qOza21"
      },
      "source": [
        "**The Following are the suggestions which can be helpful to achieve business objective:-**\n",
        "\n",
        "1) Maximum cars have completed their trip but almost equal no of cars have not completed trip as they were not available at that moment, which means uber has to increase its car numbers so as to increase availability of cars for customers and increase profits for the organisation.\n",
        "2) People often prefer Uber services inside city commute rather than airport commute which means company can do campaigns and offer some discounts on premium uber black service if customer books it from airport to ultimately increase profits for the company.\n",
        "3) Almost equal number of count is their for trip completion status for both pickup point which is great positive sign but, company can improve a little bit for airport pickup point to increase overall cuatomer satisfaction and profits.\n",
        "4) As we know already that the count for pickup point city is greater than airport and here we can see that the maximum count of cancelled trips is for city pickup point which shows a bad impression that customer requests are not followed by drivers, this can ultimately reduce company rating so as to avoid this company should monitor on drivers who cancelling rides inside city commute so as to increase future customer engagement and overall company reputation.\n",
        "5) Maximum cars are not available at airport pickup point where the most of the business comes for any cab service company, so if uber wants to increase its profits it should provide more number of cars at airport so as to not miss the opportunity of earn and retain frequent flyers who commute through airport and use cab services.\n",
        "6) No cars available status is mostly for evening/ night time, cancelled status is mostly for morning time and Trip completed status has equal no of count for both evening/ night and morning time. As per this morning drivers should be monitored constantly and they should be informed that to minimize the cancellation of cab service.\n",
        "7) Airport and city pickup point both have high count for morning/ afternoon drop timestamps, which means customers are reaching their destination/ arrivals in the morning/ afternoon time. Remembering this drivers should be informed that not to cancel morning requests as it will impact company profits.\n",
        "8) The drop time is morning for all three status which means cancelled trips are mostly done in the morning which affects the business as most customers are travelling in the morning, the company should inform the drivers that if they cancel trips in morning than they have to face penalty as this will reduce cancellation and ultimately increase profits for the company.\n",
        "\n",
        "The above are some important suggestions that can solve business problems and also these can increase profits for the company in the near future."
      ]
    },
    {
      "cell_type": "markdown",
      "metadata": {
        "id": "gCX9965dhzqZ"
      },
      "source": [
        "# **Conclusion**"
      ]
    },
    {
      "cell_type": "markdown",
      "metadata": {
        "id": "Fjb1IsQkh3yE"
      },
      "source": [
        "**The Following are the concluding points for the above data analysis:-**\n",
        "\n",
        "1) The dataset contains 6 columns and 6745 rows.\n",
        "2) There are no duplicate values in the dataset.\n",
        "3) There are total 2 columns drop timestamps and driver id having missing values which we then later on replaced with Not Available value.\n",
        "4) Highest count is for Trip completed status which is 2831, second highest count is for No Cars Available status which is 2650 and lowest count is for Cancelled status which is 1264.\n",
        "5) Highest count is for city pickup point which is 3507 and lowest count is for airport pickup point which is 3238.\n",
        "6) For trip completed status the highest count is for city which is 1504 and lowest count is for airport which is 1327.\n",
        "7) For Cancelled Trips status the highest count is for city which is 1066 and lowest count is for airport which is 198.\n",
        "8) For no cars available status the highest count is for airport which is 1713 and lowest count is for city which is 937.\n",
        "9) Mostly the cab service request is handled by driver id's 299 and 300.\n",
        "10) As there is only one numerical variable which is request id so therefore it has coorelation as 1 with itself.\n",
        "\n",
        "The above are the concluding points for the above EDA data analysis for the Uber demand supply gap dataset."
      ]
    }
  ],
  "metadata": {
    "colab": {
      "collapsed_sections": [
        "vncDsAP0Gaoa",
        "FJNUwmbgGyua",
        "w6K7xa23Elo4",
        "yQaldy8SH6Dl",
        "PH-0ReGfmX4f",
        "mDgbUHAGgjLW",
        "O_i_v8NEhb9l",
        "HhfV-JJviCcP",
        "Y3lxredqlCYt",
        "3RnN4peoiCZX",
        "x71ZqKXriCWQ",
        "7hBIi_osiCS2",
        "JlHwYmJAmNHm",
        "35m5QtbWiB9F",
        "PoPl-ycgm1ru",
        "H0kj-8xxnORC",
        "nA9Y7ga8ng1Z",
        "PBTbrJXOngz2",
        "u3PMJOP6ngxN",
        "dauF4eBmngu3",
        "bKJF3rekwFvQ",
        "MSa1f5Uengrz",
        "GF8Ens_Soomf",
        "0wOQAZs5pc--",
        "K5QZ13OEpz2H",
        "lQ7QKXXCp7Bj",
        "448CDAPjqfQr",
        "KSlN3yHqYklG",
        "t6dVpIINYklI",
        "ijmpgYnKYklI",
        "-JiQyfWJYklI",
        "EM7whBJCYoAo",
        "fge-S5ZAYoAp",
        "85gYPyotYoAp",
        "RoGjAbkUYoAp",
        "4Of9eVA-YrdM",
        "iky9q4vBYrdO",
        "F6T5p64dYrdO",
        "y-Ehk30pYrdP",
        "bamQiAODYuh1",
        "QHF8YVU7Yuh3",
        "GwzvFGzlYuh3",
        "qYpmQ266Yuh3",
        "OH-pJp9IphqM",
        "bbFf2-_FphqN",
        "_ouA3fa0phqN",
        "Seke61FWphqN",
        "PIIx-8_IphqN",
        "t27r6nlMphqO",
        "r2jJGEOYphqO",
        "b0JNsNcRphqO",
        "BZR9WyysphqO",
        "jj7wYXLtphqO",
        "eZrbJ2SmphqO",
        "rFu4xreNphqO",
        "YJ55k-q6phqO",
        "gCFgpxoyphqP",
        "OVtJsKN_phqQ",
        "lssrdh5qphqQ",
        "U2RJ9gkRphqQ",
        "1M8mcRywphqQ",
        "tgIPom80phqQ",
        "JMzcOPDDphqR",
        "x-EpHcCOp1ci",
        "X_VqEhTip1ck",
        "8zGJKyg5p1ck",
        "PVzmfK_Ep1ck",
        "n3dbpmDWp1ck",
        "ylSl6qgtp1ck",
        "ZWILFDl5p1ck",
        "M7G43BXep1ck",
        "Ag9LCva-p1cl",
        "E6MkPsBcp1cl",
        "2cELzS2fp1cl",
        "3MPXvC8up1cl",
        "NC_X3p0fY2L0",
        "UV0SzAkaZNRQ",
        "YPEH6qLeZNRQ",
        "q29F0dvdveiT",
        "EXh0U9oCveiU",
        "22aHeOlLveiV",
        "JcMwzZxoAimU",
        "8G2x9gOozGDZ",
        "gCX9965dhzqZ",
        "gIfDvo9L0UH2"
      ],
      "private_outputs": true,
      "provenance": []
    },
    "kernelspec": {
      "display_name": "Python 3 (ipykernel)",
      "language": "python",
      "name": "python3"
    },
    "language_info": {
      "codemirror_mode": {
        "name": "ipython",
        "version": 3
      },
      "file_extension": ".py",
      "mimetype": "text/x-python",
      "name": "python",
      "nbconvert_exporter": "python",
      "pygments_lexer": "ipython3",
      "version": "3.12.7"
    }
  },
  "nbformat": 4,
  "nbformat_minor": 0
}