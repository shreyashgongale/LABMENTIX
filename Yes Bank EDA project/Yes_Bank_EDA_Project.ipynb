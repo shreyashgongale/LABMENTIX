{
  "cells": [
    {
      "cell_type": "markdown",
      "metadata": {
        "id": "I1apcow5dxii"
      },
      "source": [
        "### **Yes Bank Stock Closing Prize Prediction**"
      ]
    },
    {
      "cell_type": "markdown",
      "metadata": {
        "id": "vncDsAP0Gaoa"
      },
      "source": [
        "# **Project Name**    - Yes Bank EDA Project\n",
        "\n"
      ]
    },
    {
      "cell_type": "markdown",
      "metadata": {
        "id": "beRrZCGUAJYm"
      },
      "source": [
        "##### **Project Type**    - EDA\n",
        "##### **Contribution**    - Individual\n",
        "##### **Name**            - SHREYASH FULCHAND GONGALE"
      ]
    },
    {
      "cell_type": "markdown",
      "metadata": {
        "id": "FJNUwmbgGyua"
      },
      "source": [
        "# **Project Summary -**"
      ]
    },
    {
      "cell_type": "markdown",
      "metadata": {
        "id": "F6v_1wHtG2nS"
      },
      "source": [
        "**Yes bank is one of the well known bank in the finance industry due to its controversial case. In 2018, the bank was found guilty in manipulating its stock prices over a long period of time because of which money of many investors were in loss and also public's savings and hardearned money was on stack without their knowledge.**\n",
        "**This project contains a dataset as yes bank stock prices which contains stock prices of bank on monthly basis since its inception, we have to find out that whether our EDA (exploratory data analysis) can help us to gain insights in the manipulation of stock prices and to find out closing stock prices for every month and get an overview which can explain whole process and case.**"
      ]
    },
    {
      "cell_type": "markdown",
      "metadata": {
        "id": "w6K7xa23Elo4"
      },
      "source": [
        "# **GitHub Link -**"
      ]
    },
    {
      "cell_type": "markdown",
      "metadata": {
        "id": "h1o69JH3Eqqn"
      },
      "source": [
        "**https://github.com/akshithedau**"
      ]
    },
    {
      "cell_type": "markdown",
      "metadata": {
        "id": "yQaldy8SH6Dl"
      },
      "source": [
        "# **Problem Statement**\n"
      ]
    },
    {
      "cell_type": "markdown",
      "metadata": {
        "id": "DpeJGUA3kjGy"
      },
      "source": [
        "**We have a dataset containing stock prices of the yes bank since its inception, through EDA process we have to predict and find closing stock prices for the bank for every month ?**"
      ]
    },
    {
      "cell_type": "markdown",
      "metadata": {
        "id": "PH-0ReGfmX4f"
      },
      "source": [
        "#### **Define Your Business Objective?**"
      ]
    },
    {
      "cell_type": "markdown",
      "metadata": {
        "id": "PhDvGCAqmjP1"
      },
      "source": [
        "**The Business objective for the yes bank stock price prediction project is as follows:-**\n",
        "\n",
        "1) To do pre processing,data cleaning and EDA process on the dataset to analyze the closing stock prices of the bank for monthly basis.\n",
        "2) To Visualize the stock price starting and ending values for every month to analyze the manipulation process.\n",
        "3) To analyze the different visualization methods to check whether we can find a way to avoid this in future and help bank in to do fair practices.\n",
        "4) To analyze what things triggered the manipulation in maority and find out how to stop and avoid it from happening it again.\n",
        "5) To analyze closing stock prices of bank for every month and compare them with previous month prices to observe the difference.   "
      ]
    },
    {
      "cell_type": "markdown",
      "metadata": {
        "id": "HhfV-JJviCcP"
      },
      "source": [
        "## ***1. Know Your Data***"
      ]
    },
    {
      "cell_type": "markdown",
      "metadata": {
        "id": "Y3lxredqlCYt"
      },
      "source": [
        "### Import Libraries"
      ]
    },
    {
      "cell_type": "code",
      "execution_count": null,
      "metadata": {
        "id": "M8Vqi-pPk-HR"
      },
      "outputs": [],
      "source": [
        "# Import Libraries\n",
        "import pandas as pd\n",
        "import numpy as np\n",
        "import seaborn as sns\n",
        "import matplotlib.pyplot as plt\n",
        "import matplotlib.cm as cm\n",
        "import random\n",
        "from wordcloud import WordCloud\n",
        "import ast"
      ]
    },
    {
      "cell_type": "markdown",
      "metadata": {
        "id": "3RnN4peoiCZX"
      },
      "source": [
        "### Dataset Loading"
      ]
    },
    {
      "cell_type": "code",
      "execution_count": null,
      "metadata": {
        "id": "4CkvbW_SlZ_R"
      },
      "outputs": [],
      "source": [
        "# Load Dataset\n",
        "md=pd.read_csv(\"/content/data_YesBank_StockPrices.csv\")"
      ]
    },
    {
      "cell_type": "markdown",
      "metadata": {
        "id": "x71ZqKXriCWQ"
      },
      "source": [
        "### Dataset First View"
      ]
    },
    {
      "cell_type": "code",
      "execution_count": null,
      "metadata": {
        "id": "LWNFOSvLl09H"
      },
      "outputs": [],
      "source": [
        "# Dataset First Look\n",
        "md.head()"
      ]
    },
    {
      "cell_type": "code",
      "execution_count": null,
      "metadata": {
        "id": "s_0PtINxXe1I"
      },
      "outputs": [],
      "source": [
        "md.tail()"
      ]
    },
    {
      "cell_type": "markdown",
      "metadata": {
        "id": "7hBIi_osiCS2"
      },
      "source": [
        "### Dataset Rows & Columns count"
      ]
    },
    {
      "cell_type": "code",
      "execution_count": null,
      "metadata": {
        "id": "Kllu7SJgmLij"
      },
      "outputs": [],
      "source": [
        "# Dataset Rows & Columns count\n",
        "md.shape"
      ]
    },
    {
      "cell_type": "markdown",
      "metadata": {
        "id": "JlHwYmJAmNHm"
      },
      "source": [
        "### Dataset Information"
      ]
    },
    {
      "cell_type": "code",
      "execution_count": null,
      "metadata": {
        "id": "e9hRXRi6meOf"
      },
      "outputs": [],
      "source": [
        "# Dataset Info\n",
        "md.info()"
      ]
    },
    {
      "cell_type": "markdown",
      "metadata": {
        "id": "35m5QtbWiB9F"
      },
      "source": [
        "#### Duplicate Values"
      ]
    },
    {
      "cell_type": "code",
      "execution_count": null,
      "metadata": {
        "id": "1sLdpKYkmox0"
      },
      "outputs": [],
      "source": [
        "# Dataset Duplicate Value Count\n",
        "# Check for duplicate values\n",
        "duplicates = md.duplicated(keep=False)\n",
        "\n",
        "# Count the duplicate values\n",
        "duplicate_count = duplicates.value_counts()\n",
        "\n",
        "print(duplicate_count)"
      ]
    },
    {
      "cell_type": "markdown",
      "metadata": {
        "id": "PoPl-ycgm1ru"
      },
      "source": [
        "#### Missing Values/Null Values"
      ]
    },
    {
      "cell_type": "code",
      "execution_count": null,
      "metadata": {
        "id": "GgHWkxvamxVg"
      },
      "outputs": [],
      "source": [
        "# Missing Values/Null Values Count\n",
        "md.isnull().sum()"
      ]
    },
    {
      "cell_type": "code",
      "execution_count": null,
      "metadata": {
        "id": "3q5wnI3om9sJ"
      },
      "outputs": [],
      "source": [
        "# Visualizing the missing values\n",
        "import missingno as ms\n",
        "ms.bar(md)\n",
        "plt.show()"
      ]
    },
    {
      "cell_type": "markdown",
      "metadata": {
        "id": "H0kj-8xxnORC"
      },
      "source": [
        "### What did you know about your dataset?"
      ]
    },
    {
      "cell_type": "markdown",
      "metadata": {
        "id": "gfoNAAC-nUe_"
      },
      "source": [
        "**There is only one dataset which is:-**\n",
        "\n",
        "**data_YesBank_StockPrices.csv**\n",
        "\n",
        "\n",
        "**There are total 5 columns in the dataset. There are total 185 rows including the header row, which contains no null values.**\n",
        "**The dataset doesn't contain any duplicate values and missing values.**\n",
        "**The followeing are the columns present in the dataset:-**\n",
        "**index, date, open, high, low, close**\n",
        "**The dataset is in increasing order as per date from July-2005 to November-2020.**"
      ]
    },
    {
      "cell_type": "markdown",
      "metadata": {
        "id": "nA9Y7ga8ng1Z"
      },
      "source": [
        "## ***2. Understanding Your Variables***"
      ]
    },
    {
      "cell_type": "code",
      "execution_count": null,
      "metadata": {
        "id": "j7xfkqrt5Ag5"
      },
      "outputs": [],
      "source": [
        "# Dataset Columns\n",
        "md.columns"
      ]
    },
    {
      "cell_type": "code",
      "execution_count": null,
      "metadata": {
        "id": "DnOaZdaE5Q5t"
      },
      "outputs": [],
      "source": [
        "# Dataset Describe\n",
        "md.describe()"
      ]
    },
    {
      "cell_type": "markdown",
      "metadata": {
        "id": "PBTbrJXOngz2"
      },
      "source": [
        "### Variables Description"
      ]
    },
    {
      "cell_type": "markdown",
      "metadata": {
        "id": "aJV4KIxSnxay"
      },
      "source": [
        "**Yes Bank Stock Prices Dataset**\n",
        "\n",
        "**Index- Shows the unique numbering for each rows.**\n",
        "**Date- Date shows the month and year for particular stock in the form of month-year**\n",
        "**Open- It shows the value of the stock price at the beginning of the month.**\n",
        "**High- It shows the highest value of stock at which it has been hit for the particular month.**\n",
        "**Low-  It shows the lowest value of stock at which it has been hit for the particular month.**\n",
        "**Close- It shows the value of stock price at the ending of the month.**"
      ]
    },
    {
      "cell_type": "markdown",
      "metadata": {
        "id": "u3PMJOP6ngxN"
      },
      "source": [
        "### Check Unique Values for each variable."
      ]
    },
    {
      "cell_type": "code",
      "execution_count": null,
      "metadata": {
        "id": "zms12Yq5n-jE"
      },
      "outputs": [],
      "source": [
        "# Check Unique Values for each variable.\n",
        "for x in md.columns:\n",
        "    print(f\"{x} - {md[x].nunique()}\")"
      ]
    },
    {
      "cell_type": "code",
      "execution_count": null,
      "metadata": {
        "id": "kvGH4IO-Xe1L"
      },
      "outputs": [],
      "source": [
        "md[\"Date\"].value_counts()"
      ]
    },
    {
      "cell_type": "code",
      "execution_count": null,
      "metadata": {
        "id": "QmFy-_x2Xe1L"
      },
      "outputs": [],
      "source": [
        "md[\"Date\"].unique()"
      ]
    },
    {
      "cell_type": "code",
      "execution_count": null,
      "metadata": {
        "id": "gSsnokIcXe1Q"
      },
      "outputs": [],
      "source": [
        "md[\"Open\"].unique()"
      ]
    },
    {
      "cell_type": "code",
      "execution_count": null,
      "metadata": {
        "id": "xOD3HtAwXe1Q"
      },
      "outputs": [],
      "source": [
        "md[\"High\"].unique()"
      ]
    },
    {
      "cell_type": "code",
      "execution_count": null,
      "metadata": {
        "id": "itfdIZGCXe1Q"
      },
      "outputs": [],
      "source": [
        "md[\"Low\"].unique()"
      ]
    },
    {
      "cell_type": "code",
      "execution_count": null,
      "metadata": {
        "id": "RZMRKCv-Xe1Q"
      },
      "outputs": [],
      "source": [
        "md[\"Close\"].unique()"
      ]
    },
    {
      "cell_type": "code",
      "execution_count": null,
      "metadata": {
        "id": "QcLlrKEUXe1Q"
      },
      "outputs": [],
      "source": [
        "# Get the unique count for each column\n",
        "plt.figure(figsize=(20, 5))\n",
        "\n",
        "unique_counts = md.nunique()\n",
        "\n",
        "plt.ylabel(\"Unique Value Count For Each Column\")\n",
        "plt.xlabel(\"Column Names\")\n",
        "\n",
        "# alloting the plot bar\n",
        "unique_counts.plot.bar()\n",
        "\n",
        "# unique value results\n",
        "plt.show()"
      ]
    },
    {
      "cell_type": "markdown",
      "metadata": {
        "id": "x_Izwt4kXe1R"
      },
      "source": [
        "**From above, we can conclude that apart from Date and Close column all other column which are Open, High and Low have some non unique values. as this can be possible because stock prices are unpredictable and can be same for some month if fluctuation in stock prices happens accordingly.**"
      ]
    },
    {
      "cell_type": "markdown",
      "metadata": {
        "id": "dauF4eBmngu3"
      },
      "source": [
        "## 3. ***Data Wrangling***"
      ]
    },
    {
      "cell_type": "markdown",
      "metadata": {
        "id": "bKJF3rekwFvQ"
      },
      "source": [
        "### Data Wrangling Code"
      ]
    },
    {
      "cell_type": "code",
      "execution_count": null,
      "metadata": {
        "id": "wk-9a2fpoLcV"
      },
      "outputs": [],
      "source": [
        "# Write your code to make your dataset analysis ready.\n",
        "md[[\"Date\",\"Close\"]].isna().sum()"
      ]
    },
    {
      "cell_type": "code",
      "execution_count": null,
      "metadata": {
        "id": "AsByvva1Xe1R"
      },
      "outputs": [],
      "source": [
        "md[[\"Date\",\"Open\"]].isna().sum()"
      ]
    },
    {
      "cell_type": "code",
      "execution_count": null,
      "metadata": {
        "id": "MIXYjQcHXe1R"
      },
      "outputs": [],
      "source": [
        "md[[\"Close\",\"Open\"]].isna().sum()"
      ]
    },
    {
      "cell_type": "markdown",
      "metadata": {
        "id": "MSa1f5Uengrz"
      },
      "source": [
        "### What all manipulations have you done and insights you found?"
      ]
    },
    {
      "cell_type": "markdown",
      "metadata": {
        "id": "LbyXE7I1olp8"
      },
      "source": [
        "**I have found that the dataset has three columns which has some non unique values which are:-**\n",
        "1) Open\n",
        "2) High\n",
        "3) Low\n",
        "\n",
        "**Out of above columns high column has the highest no of non unique values among the three columns.**\n",
        "**aprat from this date and close columns has all unique values.**\n",
        "\n",
        "**I observed that the size of the dataset is as 185 rows and 5 columns out of which no row has null, 0 or empty values.**\n",
        "**By observing the dataset I found that the stock prices can be same for some consecutive or non consecutive months thus, those non unique values don't** **come under outliers as we know that stock prices are unpredictable and can have random values as per market status.**"
      ]
    },
    {
      "cell_type": "markdown",
      "metadata": {
        "id": "GF8Ens_Soomf"
      },
      "source": [
        "## ***4. Data Vizualization, Storytelling & Experimenting with charts : Understand the relationships between variables***"
      ]
    },
    {
      "cell_type": "markdown",
      "metadata": {
        "id": "0wOQAZs5pc--"
      },
      "source": [
        "#### Chart - 1"
      ]
    },
    {
      "cell_type": "code",
      "execution_count": null,
      "metadata": {
        "id": "7v_ESjsspbW7"
      },
      "outputs": [],
      "source": [
        "# Chart - 1 visualization code\n",
        "\n",
        "# Create a bar plot\n",
        "plt.figure(figsize=(10, 50))  # Adjust figure size\n",
        "sns.barplot(data=md, x=\"Close\", y=\"Date\", hue=\"Close\", palette=\"dark\", legend=False)\n",
        "\n",
        "# Rotate x-axis labels for better readability\n",
        "plt.xticks(rotation=25, ha=\"right\")\n",
        "plt.xlabel(\"Closing value of Stocks\")\n",
        "plt.ylabel(\"Date\")\n",
        "plt.title(\"Analyzing Closing Stock Prices for Every Month\")\n",
        "\n",
        "# Show the plot\n",
        "plt.show()"
      ]
    },
    {
      "cell_type": "markdown",
      "metadata": {
        "id": "K5QZ13OEpz2H"
      },
      "source": [
        "##### 1. Why did you pick the specific chart?"
      ]
    },
    {
      "cell_type": "markdown",
      "metadata": {
        "id": "XESiWehPqBRc"
      },
      "source": [
        "##### I selected this specific bar chart because it gives brief analysis of values for every month/year with clear vision to state conclusions based on it."
      ]
    },
    {
      "cell_type": "markdown",
      "metadata": {
        "id": "lQ7QKXXCp7Bj"
      },
      "source": [
        "##### 2. What is/are the insight(s) found from the chart?"
      ]
    },
    {
      "cell_type": "markdown",
      "metadata": {
        "id": "C_j1G7yiqdRP"
      },
      "source": [
        "##### yes I found important insights from the chart which are as follows:-\n",
        "\n",
        "1) From july 2005 to december 2005 the stock prices where aprroximately constant having less than 25 value.\n",
        "2) From Jan 2006 to September 2014 the stock prices increased with normal speed reaching to almost 120 value.\n",
        "3) From october 2014 the stock prices increased in an exponential manner and hitting its maximum value on july 2018 with approx value of 365+.\n",
        "4) From August 2018 the stock prices started to drop again in same exponential manner and hitting its lowest value which was less than 30 on November 2020.\n"
      ]
    },
    {
      "cell_type": "markdown",
      "metadata": {
        "id": "448CDAPjqfQr"
      },
      "source": [
        "##### 3. Will the gained insights help creating a positive business impact?\n",
        "Are there any insights that lead to negative growth? Justify with specific reason."
      ]
    },
    {
      "cell_type": "markdown",
      "metadata": {
        "id": "3cspy4FjqxJW"
      },
      "source": [
        "##### Yes we gained both positive and negative growth impact after analyzing the dataset with the help of above chart, the points are as follows:-\n",
        "\n",
        "1) The stock prices were naturally growing with significant and positive business growth from its inception till september 2014.\n",
        "2) The negative business growth started after sep 2014 as stock prices were increased exponentially by manipulating them which led to cross its value 365+ till july 2018.\n",
        "3) This manipulation of stock prices which led to exponential growth led to negative impact on market because of which the stock prices then after started to crash exponentially untill november 2020.\n",
        "4) The significant crash led to decrease the value of stock which was on 365+ to less than 30 on november 2020.\n",
        "5) This shows that the positive growth helped the stock prices of bank to grow efficiently while when the manipulation happened it led to only temporary growth which ultimately led to huge stock price crash after certain time which led to bankruptcy."
      ]
    },
    {
      "cell_type": "markdown",
      "metadata": {
        "id": "KSlN3yHqYklG"
      },
      "source": [
        "#### Chart - 2"
      ]
    },
    {
      "cell_type": "code",
      "execution_count": null,
      "metadata": {
        "id": "R4YgtaqtYklH"
      },
      "outputs": [],
      "source": [
        "# Chart - 2 visualization code\n",
        "plt.figure(figsize=(13, 10))\n",
        "sns.lineplot(data=md, x=\"Date\", y=\"Close\", marker=\"o\", color=\"b\")\n",
        "# Rotate x-axis labels for better readability\n",
        "plt.xticks(rotation=45, ha=\"right\")\n",
        "plt.xlabel(\"Date\")\n",
        "plt.ylabel(\"Closing Stock Prices\")\n",
        "plt.title(\"Stock Prices Growth Curve\")\n",
        "# Show the plot\n",
        "plt.show()"
      ]
    },
    {
      "cell_type": "markdown",
      "metadata": {
        "id": "t6dVpIINYklI"
      },
      "source": [
        "##### 1. Why did you pick the specific chart?"
      ]
    },
    {
      "cell_type": "markdown",
      "metadata": {
        "id": "5aaW0BYyYklI"
      },
      "source": [
        "##### I selected this chart as it gives a whole picture or atleast an idea of stock price growth and depletion for bank from its inception till the end."
      ]
    },
    {
      "cell_type": "markdown",
      "metadata": {
        "id": "ijmpgYnKYklI"
      },
      "source": [
        "##### 2. What is/are the insight(s) found from the chart?"
      ]
    },
    {
      "cell_type": "markdown",
      "metadata": {
        "id": "PSx9atu2YklI"
      },
      "source": [
        "##### Just like a stock market trading platform online analysis, this gives same picture of stock price significant as well as exponential growth till july 2018, from july 2005 to july 2018 a great increasing curve growth which is span of 13 years.\n",
        "\n",
        "##### After july 2018 the curve decreased exponentially and within 2.5 years it hit the lowest value on november 2020.\n",
        "\n",
        "##### So insights can be that,\n",
        "##### significant growth from july 2005 to september 2014 - 9.25 years.\n",
        "##### exponential growth from october 2014 to july 2018 - 3.83 years.\n",
        "##### Exponential depletion of stock price value from august 2018 to november 2020 - 2.25 years."
      ]
    },
    {
      "cell_type": "markdown",
      "metadata": {
        "id": "-JiQyfWJYklI"
      },
      "source": [
        "##### 3. Will the gained insights help creating a positive business impact?\n",
        "Are there any insights that lead to negative growth? Justify with specific reason."
      ]
    },
    {
      "cell_type": "markdown",
      "metadata": {
        "id": "BcBbebzrYklV"
      },
      "source": [
        "##### There is big impact of stock price manipulation on natural positive growth of bank.\n",
        "\n",
        "##### Due to the manipulation the stock price increased from 120 to 365+ but ultimately again decreased to 30 due to market crash.\n",
        "##### This shows that the manipulation led to hamper the comfort of investors as well as public's hard earned money.\n",
        "##### Also due to manipulation the 9+ years of hardwork of bank since its inception led to wastage because of triggering those stock values manually.\n",
        "##### The insight we get that if that manipulation could be stopped at right time it would definitely help the bank from bankruptcy and also today the price of stock would not crash as it would be naturally increased."
      ]
    },
    {
      "cell_type": "markdown",
      "metadata": {
        "id": "EM7whBJCYoAo"
      },
      "source": [
        "#### Chart - 3"
      ]
    },
    {
      "cell_type": "code",
      "execution_count": null,
      "metadata": {
        "id": "t6GMdE67YoAp"
      },
      "outputs": [],
      "source": [
        "# Chart - 3 visualization\n",
        "plt.figure(figsize=(12,8))\n",
        "sns.scatterplot(x='Date',y='Close',data=md,color='r')\n",
        "plt.xlabel('Date(month/year)')\n",
        "plt.ylabel('Closing Value of Stocks')\n",
        "plt.title('Scatter Plot: Date(month/year) vs Closing Value of Stocks')\n",
        "plt.show()"
      ]
    },
    {
      "cell_type": "markdown",
      "metadata": {
        "id": "fge-S5ZAYoAp"
      },
      "source": [
        "##### 1. Why did you pick the specific chart?"
      ]
    },
    {
      "cell_type": "markdown",
      "metadata": {
        "id": "5dBItgRVYoAp"
      },
      "source": [
        "##### I have selected the scatter plot because it gives a brief idea about the growth of closing stock prices for every month in one look."
      ]
    },
    {
      "cell_type": "markdown",
      "metadata": {
        "id": "85gYPyotYoAp"
      },
      "source": [
        "##### 2. What is/are the insight(s) found from the chart?"
      ]
    },
    {
      "cell_type": "markdown",
      "metadata": {
        "id": "4jstXR6OYoAp"
      },
      "source": [
        "##### The insights are such that the closing value of stock prices have increased over a certain period of time which is about approx 13.75 years of time but after this there is a sudden continous drop till nov 2020 for 2 years till the value doesn't hit lower than 30.\n",
        "\n",
        "##### Highest closing stock price recorded as 365+ approx\n",
        "\n",
        "##### lowest closing stock price recorded as around 20+ approx"
      ]
    },
    {
      "cell_type": "markdown",
      "metadata": {
        "id": "RoGjAbkUYoAp"
      },
      "source": [
        "##### 3. Will the gained insights help creating a positive business impact?\n",
        "Are there any insights that lead to negative growth? Justify with specific reason."
      ]
    },
    {
      "cell_type": "markdown",
      "metadata": {
        "id": "zfJ8IqMcYoAp"
      },
      "source": [
        "##### Yes there is a significant impact on business because of stock price manipulation because of which the stock which hit 365+ value after 13 years of its inception suddenly dropped to less than 20+ value in less than 3 years.\n",
        "##### This shows that the manipulation led to imbalance in market which ultimately led to stock price crash."
      ]
    },
    {
      "cell_type": "markdown",
      "metadata": {
        "id": "4Of9eVA-YrdM"
      },
      "source": [
        "#### Chart - 4"
      ]
    },
    {
      "cell_type": "code",
      "execution_count": null,
      "metadata": {
        "id": "irlUoxc8YrdO"
      },
      "outputs": [],
      "source": [
        "# Chart - 4 visualization code\n",
        "# Boxplot, kdeplot\n",
        "\n",
        "s = md.drop('Date', axis=1)\n",
        "fig, axes = plt.subplots (4, 3, figsize=(15, 25))\n",
        "# Loop through each column and plot boxplot, kdeplot, and violinplot\n",
        "for i, col in enumerate(s.columns):\n",
        "\n",
        "    sns.boxplot(y=s[col], ax=axes [i, 1])\n",
        "\n",
        "    sns.kdeplot(s [col], ax=axes[i, 2], fill=True)\n",
        "\n",
        "    sns.violinplot(y=s [col], ax=axes[i, 1])\n",
        "# Set titles for the plots\n",
        "\n",
        "    axes[i, 0].set_title(f'Boxplot of {col}')\n",
        "\n",
        "    axes[i, 1].set_title(f'KDE Plot of {col}')\n",
        "\n",
        "    axes[i, 2].set_title(f'Violin Plot of {col}')\n",
        "# Adjust Layout to prevent overlap\n",
        "plt.tight_layout()\n",
        "plt.show()"
      ]
    },
    {
      "cell_type": "markdown",
      "metadata": {
        "id": "iky9q4vBYrdO"
      },
      "source": [
        "##### 1. Why did you pick the specific chart?"
      ]
    },
    {
      "cell_type": "markdown",
      "metadata": {
        "id": "aJRCwT6DYrdO"
      },
      "source": [
        "##### To check for skewness and outliers."
      ]
    },
    {
      "cell_type": "markdown",
      "metadata": {
        "id": "F6T5p64dYrdO"
      },
      "source": [
        "##### 2. What is/are the insight(s) found from the chart?"
      ]
    },
    {
      "cell_type": "markdown",
      "metadata": {
        "id": "Xx8WAJvtYrdO"
      },
      "source": [
        "##### This plot suggests that Open, High, Low, and Close have similar distribution and are positively skewed. The year is perfectly symmetric."
      ]
    },
    {
      "cell_type": "markdown",
      "metadata": {
        "id": "y-Ehk30pYrdP"
      },
      "source": [
        "##### 3. Will the gained insights help creating a positive business impact?\n",
        "Are there any insights that lead to negative growth? Justify with specific reason."
      ]
    },
    {
      "cell_type": "markdown",
      "metadata": {
        "id": "jLNxxz7MYrdP"
      },
      "source": [
        "##### As we are focusing only on the skewness and presence of outliers in the data, no insights can be given related to business impact."
      ]
    },
    {
      "cell_type": "markdown",
      "metadata": {
        "id": "bamQiAODYuh1"
      },
      "source": [
        "#### Chart - 5"
      ]
    },
    {
      "cell_type": "code",
      "execution_count": null,
      "metadata": {
        "id": "TIJwrbroYuh3"
      },
      "outputs": [],
      "source": [
        "# Chart - 5 visualization code\n",
        "plt.figure(figsize=(14,8))\n",
        "sns.scatterplot(x='Open',y='Close',data=md,color='g')\n",
        "plt.title('Scatter Plot: Open vs Close')\n",
        "plt.show()"
      ]
    },
    {
      "cell_type": "markdown",
      "metadata": {
        "id": "QHF8YVU7Yuh3"
      },
      "source": [
        "##### 1. Why did you pick the specific chart?"
      ]
    },
    {
      "cell_type": "markdown",
      "metadata": {
        "id": "dcxuIMRPYuh3"
      },
      "source": [
        "##### To compare the stock's opening and closing price."
      ]
    },
    {
      "cell_type": "markdown",
      "metadata": {
        "id": "GwzvFGzlYuh3"
      },
      "source": [
        "##### 2. What is/are the insight(s) found from the chart?"
      ]
    },
    {
      "cell_type": "markdown",
      "metadata": {
        "id": "uyqkiB8YYuh3"
      },
      "source": [
        "##### The scatterplot suggests a positive correlation between opening and closing price."
      ]
    },
    {
      "cell_type": "markdown",
      "metadata": {
        "id": "qYpmQ266Yuh3"
      },
      "source": [
        "##### 3. Will the gained insights help creating a positive business impact?\n",
        "Are there any insights that lead to negative growth? Justify with specific reason."
      ]
    },
    {
      "cell_type": "markdown",
      "metadata": {
        "id": "_WtzZ_hCYuh4"
      },
      "source": [
        "##### The opening price affects the closing price too. As they are positively correlated, the purchase of stocks is ensured only if the opening price is high."
      ]
    },
    {
      "cell_type": "markdown",
      "metadata": {
        "id": "OH-pJp9IphqM"
      },
      "source": [
        "#### Chart - 6"
      ]
    },
    {
      "cell_type": "code",
      "execution_count": null,
      "metadata": {
        "id": "kuRf4wtuphqN"
      },
      "outputs": [],
      "source": [
        "# Chart - 6 visualization code\n",
        "plt.figure(figsize=(14,8))\n",
        "sns.scatterplot(x='Close',y='High',data=md,color='b')\n",
        "plt.title('Scatter Plot: Close vs High')\n",
        "plt.show()"
      ]
    },
    {
      "cell_type": "markdown",
      "metadata": {
        "id": "bbFf2-_FphqN"
      },
      "source": [
        "##### 1. Why did you pick the specific chart?"
      ]
    },
    {
      "cell_type": "markdown",
      "metadata": {
        "id": "loh7H2nzphqN"
      },
      "source": [
        "##### To compare the closing price and the highest price of the day."
      ]
    },
    {
      "cell_type": "markdown",
      "metadata": {
        "id": "_ouA3fa0phqN"
      },
      "source": [
        "##### 2. What is/are the insight(s) found from the chart?"
      ]
    },
    {
      "cell_type": "markdown",
      "metadata": {
        "id": "VECbqPI7phqN"
      },
      "source": [
        "##### A positive correlation is observed between lowest price of the day and the closing price."
      ]
    },
    {
      "cell_type": "markdown",
      "metadata": {
        "id": "Seke61FWphqN"
      },
      "source": [
        "##### 3. Will the gained insights help creating a positive business impact?\n",
        "Are there any insights that lead to negative growth? Justify with specific reason."
      ]
    },
    {
      "cell_type": "markdown",
      "metadata": {
        "id": "DW4_bGpfphqN"
      },
      "source": [
        "##### Yes. Also if the the highest price of the day is high, the closing price is high too. This suggests that purchase of stocks are ensured only if both these values are high."
      ]
    },
    {
      "cell_type": "markdown",
      "metadata": {
        "id": "PIIx-8_IphqN"
      },
      "source": [
        "#### Chart - 7"
      ]
    },
    {
      "cell_type": "code",
      "execution_count": null,
      "metadata": {
        "id": "lqAIGUfyphqO"
      },
      "outputs": [],
      "source": [
        "# Chart - 7 visualization code\n",
        "plt.figure(figsize=(14,8))\n",
        "sns.scatterplot(x='Close',y='Low',data=md,color='black')\n",
        "plt.title('Scatter Plot: Close vs Low')\n",
        "plt.show()"
      ]
    },
    {
      "cell_type": "markdown",
      "metadata": {
        "id": "t27r6nlMphqO"
      },
      "source": [
        "##### 1. Why did you pick the specific chart?"
      ]
    },
    {
      "cell_type": "markdown",
      "metadata": {
        "id": "iv6ro40sphqO"
      },
      "source": [
        "##### To compare the stock's closing price with the lowest price of the day."
      ]
    },
    {
      "cell_type": "markdown",
      "metadata": {
        "id": "r2jJGEOYphqO"
      },
      "source": [
        "##### 2. What is/are the insight(s) found from the chart?"
      ]
    },
    {
      "cell_type": "markdown",
      "metadata": {
        "id": "Po6ZPi4hphqO"
      },
      "source": [
        "##### A positive correlation is observed between lowest price of the day and the closing price."
      ]
    },
    {
      "cell_type": "markdown",
      "metadata": {
        "id": "b0JNsNcRphqO"
      },
      "source": [
        "##### 3. Will the gained insights help creating a positive business impact?\n",
        "Are there any insights that lead to negative growth? Justify with specific reason."
      ]
    },
    {
      "cell_type": "markdown",
      "metadata": {
        "id": "xvSq8iUTphqO"
      },
      "source": [
        "##### The closing price depends on the lowest price of the day. Only if the lowest price is high, the closing price can be high thereby ensuring positive business impact."
      ]
    },
    {
      "cell_type": "markdown",
      "metadata": {
        "id": "BZR9WyysphqO"
      },
      "source": [
        "#### Chart - 8"
      ]
    },
    {
      "cell_type": "code",
      "execution_count": null,
      "metadata": {
        "id": "TdPTWpAVphqO"
      },
      "outputs": [],
      "source": [
        "# Chart - 8 visualization code\n",
        "plt.figure(figsize=(14,8))\n",
        "sns.scatterplot(x='Date',y='High',data=md,color='r')\n",
        "plt.title('Scatter Plot: Date vs High')\n",
        "plt.show()"
      ]
    },
    {
      "cell_type": "markdown",
      "metadata": {
        "id": "jj7wYXLtphqO"
      },
      "source": [
        "##### 1. Why did you pick the specific chart?"
      ]
    },
    {
      "cell_type": "markdown",
      "metadata": {
        "id": "Ob8u6rCTphqO"
      },
      "source": [
        "##### To compare highest price of day for each month and year."
      ]
    },
    {
      "cell_type": "markdown",
      "metadata": {
        "id": "eZrbJ2SmphqO"
      },
      "source": [
        "##### 2. What is/are the insight(s) found from the chart?"
      ]
    },
    {
      "cell_type": "markdown",
      "metadata": {
        "id": "mZtgC_hjphqO"
      },
      "source": [
        "##### The trend is similar to the opening price. However, there are some slight differences. From 2015 to 2017, the September month had the highest price of the day. In 2018, the highest price was quite high during July and August. In 2019, and 2020, March had the highest highest price of day."
      ]
    },
    {
      "cell_type": "markdown",
      "metadata": {
        "id": "rFu4xreNphqO"
      },
      "source": [
        "##### 3. Will the gained insights help creating a positive business impact?\n",
        "Are there any insights that lead to negative growth? Justify with specific reason."
      ]
    },
    {
      "cell_type": "markdown",
      "metadata": {
        "id": "ey_0qi68phqO"
      },
      "source": [
        "##### There are insights leading to negative growth. This is observed by the sharp decrease of the highest value from 2018 onwards."
      ]
    },
    {
      "cell_type": "markdown",
      "metadata": {
        "id": "YJ55k-q6phqO"
      },
      "source": [
        "#### Chart - 9"
      ]
    },
    {
      "cell_type": "code",
      "execution_count": null,
      "metadata": {
        "id": "B2aS4O1ophqO"
      },
      "outputs": [],
      "source": [
        "# Chart - 9 visualization code\n",
        "# Create a bar plot\n",
        "plt.figure(figsize=(13, 8))  # Adjust figure size\n",
        "sns.barplot(data=md, x=\"Open\", y=\"Close\", hue=\"Open\", palette=\"dark\", legend=False)\n",
        "\n",
        "# Rotate x-axis labels for better readability\n",
        "#plt.xticks(rotation=45, ha=\"right\")\n",
        "plt.xlabel(\"open\")\n",
        "plt.ylabel(\"close\")\n",
        "plt.title(\"open vs close\")\n",
        "\n",
        "# Show the plot\n",
        "plt.show()"
      ]
    },
    {
      "cell_type": "markdown",
      "metadata": {
        "id": "gCFgpxoyphqP"
      },
      "source": [
        "##### 1. Why did you pick the specific chart?"
      ]
    },
    {
      "cell_type": "markdown",
      "metadata": {
        "id": "TVxDimi2phqP"
      },
      "source": [
        "##### To compare the stock's opening and closing price."
      ]
    },
    {
      "cell_type": "markdown",
      "metadata": {
        "id": "OVtJsKN_phqQ"
      },
      "source": [
        "##### 2. What is/are the insight(s) found from the chart?"
      ]
    },
    {
      "cell_type": "markdown",
      "metadata": {
        "id": "ngGi97qjphqQ"
      },
      "source": [
        "##### The scatterplot suggests a positive correlation between opening and closing price."
      ]
    },
    {
      "cell_type": "markdown",
      "metadata": {
        "id": "lssrdh5qphqQ"
      },
      "source": [
        "##### 3. Will the gained insights help creating a positive business impact?\n",
        "Are there any insights that lead to negative growth? Justify with specific reason."
      ]
    },
    {
      "cell_type": "markdown",
      "metadata": {
        "id": "tBpY5ekJphqQ"
      },
      "source": [
        "##### The opening price affects the closing price too. As they are positively correlated, the purchase of stocks is ensured only if the opening price is high."
      ]
    },
    {
      "cell_type": "markdown",
      "metadata": {
        "id": "U2RJ9gkRphqQ"
      },
      "source": [
        "#### Chart - 10"
      ]
    },
    {
      "cell_type": "code",
      "execution_count": null,
      "metadata": {
        "id": "GM7a4YP4phqQ"
      },
      "outputs": [],
      "source": [
        "# Chart - 10 visualization code\n",
        "# Create a bar plot\n",
        "plt.figure(figsize=(13, 8))  # Adjust figure size\n",
        "sns.barplot(data=md, x=\"High\", y=\"Close\", hue=\"High\", palette=\"dark\", legend=False)\n",
        "\n",
        "# Rotate x-axis labels for better readability\n",
        "#plt.xticks(rotation=45, ha=\"right\")\n",
        "plt.xlabel(\"high\")\n",
        "plt.ylabel(\"close\")\n",
        "plt.title(\"high vs close\")\n",
        "\n",
        "# Show the plot\n",
        "plt.show()"
      ]
    },
    {
      "cell_type": "markdown",
      "metadata": {
        "id": "1M8mcRywphqQ"
      },
      "source": [
        "##### 1. Why did you pick the specific chart?"
      ]
    },
    {
      "cell_type": "markdown",
      "metadata": {
        "id": "8agQvks0phqQ"
      },
      "source": [
        "##### To compare the closing price and the highest price of the day."
      ]
    },
    {
      "cell_type": "markdown",
      "metadata": {
        "id": "tgIPom80phqQ"
      },
      "source": [
        "##### 2. What is/are the insight(s) found from the chart?"
      ]
    },
    {
      "cell_type": "markdown",
      "metadata": {
        "id": "Qp13pnNzphqQ"
      },
      "source": [
        "##### A positive correlation is observed between lowest price of the day and the closing price."
      ]
    },
    {
      "cell_type": "markdown",
      "metadata": {
        "id": "JMzcOPDDphqR"
      },
      "source": [
        "##### 3. Will the gained insights help creating a positive business impact?\n",
        "Are there any insights that lead to negative growth? Justify with specific reason."
      ]
    },
    {
      "cell_type": "markdown",
      "metadata": {
        "id": "R4Ka1PC2phqR"
      },
      "source": [
        "##### Yes. Also if the the highest price of the day is high, the closing price is high too. This suggests that purchase of stocks are ensured only if both these values are high."
      ]
    },
    {
      "cell_type": "markdown",
      "metadata": {
        "id": "q29F0dvdveiT"
      },
      "source": [
        "#### Chart - 11 - Pair Plot"
      ]
    },
    {
      "cell_type": "code",
      "execution_count": null,
      "metadata": {
        "id": "o58-TEIhveiU"
      },
      "outputs": [],
      "source": [
        "# Pair Plot visualization code\n",
        "sns.pairplot(md,hue='Close',palette='coolwarm')\n",
        "plt.show()"
      ]
    },
    {
      "cell_type": "markdown",
      "metadata": {
        "id": "EXh0U9oCveiU"
      },
      "source": [
        "##### 1. Why did you pick the specific chart?"
      ]
    },
    {
      "cell_type": "markdown",
      "metadata": {
        "id": "eMmPjTByveiU"
      },
      "source": [
        "##### To compare the numerical closing prices features according to each month."
      ]
    },
    {
      "cell_type": "markdown",
      "metadata": {
        "id": "22aHeOlLveiV"
      },
      "source": [
        "##### 2. What is/are the insight(s) found from the chart?"
      ]
    },
    {
      "cell_type": "markdown",
      "metadata": {
        "id": "uPQ8RGwHveiV"
      },
      "source": [
        "##### A positive correlation is observed between low, high, open and close. Also, the distribution of these variables are quite similar."
      ]
    },
    {
      "cell_type": "markdown",
      "metadata": {
        "id": "JcMwzZxoAimU"
      },
      "source": [
        "## **5. Solution to Business Objective**"
      ]
    },
    {
      "cell_type": "markdown",
      "metadata": {
        "id": "8G2x9gOozGDZ"
      },
      "source": [
        "#### What do you suggest the client to achieve Business Objective ?\n",
        "Explain Briefly."
      ]
    },
    {
      "cell_type": "markdown",
      "metadata": {
        "id": "pASKb0qOza21"
      },
      "source": [
        "##### To achieve business objective following suggestions can be helpful for the client:-\n",
        "\n",
        "1) The client should do strictly do an audit quarterly or yearly to ensure the transparency of the banking process and its stock values.\n",
        "2) The audit personel should be authourised from a fair authority and should give detail reports for stock price valuation and changes according to the market value.\n",
        "3) To check the significant and fair growth of bank the client should give these audit reports to the investors for analyses so that they can be assured that their money is in the safe hands.\n",
        "4) To stop or prevent any manual stock price manipulation their should be a team who is constantly monitoring on the portfolio and ip of the bank in the stock market.\n",
        "5) To check that if the manipulation is started to occur or not client can check closing stock prices for each month and compare them to know that the price has increased gradually or exponentially which can ultimately justify the issue happening inside the bank or not.\n",
        "6) The portfolio report and audit report for bank should be only from an authorised personel and client should ensure that the fairness in these report is upto the mark.\n",
        "\n",
        "##### These are some parameters or suggestions with the help of which the client can achieve the business objectives and can prevent malpractices from happening again in the bank in near future and the growth of the bank can be done without stock price manipulation."
      ]
    },
    {
      "cell_type": "markdown",
      "metadata": {
        "id": "gCX9965dhzqZ"
      },
      "source": [
        "# **Conclusion**"
      ]
    },
    {
      "cell_type": "markdown",
      "metadata": {
        "id": "Fjb1IsQkh3yE"
      },
      "source": [
        "##### The conclusion and findings are as follows:-\n",
        "\n",
        "1) Out of all 5 columns open, high, and low have non unique values while date and close columns have all unique values.\n",
        "2) There are total 5 columns in the dataset. There are total 185 rows including the header row, which contains no null values. The dataset doesn't contain any missing values.\n",
        "3) The followeing are the columns present in the dataset:- index, date, open, high, low, close and the dataset is in increasing order as per date from July-2005 to November-2020.\n",
        "4) We have found that the dataset as sigificant and normal grwoth from july 2005 to sep 2014, after that the dataset increased in an exponential way till july 2018 and after that there is a sudden drop in stock prices till nov 2020.\n",
        "5) Highest closing stock price recorded as 365+ approx while the lowest closing stock price recorded as around 20+ approx.\n",
        "6) From july 2005 to december 2005 the stock prices where aprroximately constant having less than 25 value.\n",
        "7) From Jan 2006 to September 2014 the stock prices increased with normal speed reaching to almost 120 value.\n",
        "8) From october 2014 the stock prices increased in an exponential manner and hitting its maximum value on july 2018 with approx value of 365+.\n",
        "9) From August 2018 the stock prices started to drop again in same exponential manner and hitting its lowest value which was less than 30 on November 2020.\n",
        "10) Significant growth from july 2005 to september 2014 - 9.25 years.\n",
        "11) Exponential growth from october 2014 to july 2018 - 3.83 years.\n",
        "12) Exponential drop of stock price value from august 2018 to november 2020 - 2.25 years.\n",
        "\n",
        "##### The final conclusion can be stated as:-\n",
        "##### Due to the manipulation the stock price increased from 120 to 365+ but ultimately again decreased to 30 due to market crash.\n",
        "##### This shows that the manipulation hampered the comfort of investors as well as public's hard earned money.\n",
        "##### Also due to manipulation the 9+ years of hardwork of bank since its inception led to wastage because of triggering those stock values manually.\n",
        "##### The insight we get that if that manipulation could be stopped at right time it would definitely help the bank from bankruptcy and also today the price of stock would not crash as it would be naturally increased. Thus, the fraud led to market crash and ultimately made the bank to bankruptcy."
      ]
    }
  ],
  "metadata": {
    "colab": {
      "collapsed_sections": [
        "vncDsAP0Gaoa",
        "FJNUwmbgGyua",
        "w6K7xa23Elo4",
        "yQaldy8SH6Dl",
        "PH-0ReGfmX4f",
        "mDgbUHAGgjLW",
        "O_i_v8NEhb9l",
        "HhfV-JJviCcP",
        "Y3lxredqlCYt",
        "3RnN4peoiCZX",
        "x71ZqKXriCWQ",
        "7hBIi_osiCS2",
        "JlHwYmJAmNHm",
        "35m5QtbWiB9F",
        "PoPl-ycgm1ru",
        "H0kj-8xxnORC",
        "nA9Y7ga8ng1Z",
        "PBTbrJXOngz2",
        "u3PMJOP6ngxN",
        "dauF4eBmngu3",
        "bKJF3rekwFvQ",
        "MSa1f5Uengrz",
        "GF8Ens_Soomf",
        "0wOQAZs5pc--",
        "K5QZ13OEpz2H",
        "lQ7QKXXCp7Bj",
        "448CDAPjqfQr",
        "KSlN3yHqYklG",
        "t6dVpIINYklI",
        "ijmpgYnKYklI",
        "-JiQyfWJYklI",
        "EM7whBJCYoAo",
        "fge-S5ZAYoAp",
        "85gYPyotYoAp",
        "RoGjAbkUYoAp",
        "4Of9eVA-YrdM",
        "iky9q4vBYrdO",
        "F6T5p64dYrdO",
        "y-Ehk30pYrdP",
        "bamQiAODYuh1",
        "QHF8YVU7Yuh3",
        "GwzvFGzlYuh3",
        "qYpmQ266Yuh3",
        "OH-pJp9IphqM",
        "bbFf2-_FphqN",
        "_ouA3fa0phqN",
        "Seke61FWphqN",
        "PIIx-8_IphqN",
        "t27r6nlMphqO",
        "r2jJGEOYphqO",
        "b0JNsNcRphqO",
        "BZR9WyysphqO",
        "jj7wYXLtphqO",
        "eZrbJ2SmphqO",
        "rFu4xreNphqO",
        "YJ55k-q6phqO",
        "gCFgpxoyphqP",
        "OVtJsKN_phqQ",
        "lssrdh5qphqQ",
        "U2RJ9gkRphqQ",
        "1M8mcRywphqQ",
        "tgIPom80phqQ",
        "JMzcOPDDphqR",
        "x-EpHcCOp1ci",
        "X_VqEhTip1ck",
        "8zGJKyg5p1ck",
        "PVzmfK_Ep1ck",
        "n3dbpmDWp1ck",
        "ylSl6qgtp1ck",
        "ZWILFDl5p1ck",
        "M7G43BXep1ck",
        "Ag9LCva-p1cl",
        "E6MkPsBcp1cl",
        "2cELzS2fp1cl",
        "3MPXvC8up1cl",
        "NC_X3p0fY2L0",
        "UV0SzAkaZNRQ",
        "YPEH6qLeZNRQ",
        "q29F0dvdveiT",
        "EXh0U9oCveiU",
        "22aHeOlLveiV",
        "JcMwzZxoAimU",
        "8G2x9gOozGDZ",
        "gCX9965dhzqZ",
        "gIfDvo9L0UH2"
      ],
      "private_outputs": true,
      "provenance": []
    },
    "kernelspec": {
      "display_name": "Python 3 (ipykernel)",
      "language": "python",
      "name": "python3"
    },
    "language_info": {
      "codemirror_mode": {
        "name": "ipython",
        "version": 3
      },
      "file_extension": ".py",
      "mimetype": "text/x-python",
      "name": "python",
      "nbconvert_exporter": "python",
      "pygments_lexer": "ipython3",
      "version": "3.12.7"
    }
  },
  "nbformat": 4,
  "nbformat_minor": 0
}