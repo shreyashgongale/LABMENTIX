{
  "cells": [
    {
      "cell_type": "markdown",
      "metadata": {
        "id": "I1apcow5dxii"
      },
      "source": [
        "### AirBnB Dataset Cleaning for visualization"
      ]
    },
    {
      "cell_type": "markdown",
      "metadata": {
        "id": "vncDsAP0Gaoa"
      },
      "source": [
        "# **Project Name**    - AirBnb Project\n",
        "\n"
      ]
    },
    {
      "cell_type": "markdown",
      "metadata": {
        "id": "beRrZCGUAJYm"
      },
      "source": [
        "##### **Project Type**    - EDA and Preparing clean dataset for Visualization\n",
        "##### **Contribution**    - Individual\n",
        "##### **Team Member -** - SHREYASH FULCHAND GONGALE"
      ]
    },
    {
      "cell_type": "markdown",
      "metadata": {
        "id": "Y3lxredqlCYt"
      },
      "source": [
        "### Import Libraries"
      ]
    },
    {
      "cell_type": "code",
      "execution_count": null,
      "metadata": {
        "id": "M8Vqi-pPk-HR"
      },
      "outputs": [],
      "source": [
        "# Import Libraries\n",
        "import pandas as pd\n",
        "import numpy as np\n",
        "import matplotlib.pyplot as plt\n",
        "import matplotlib.cm as cm\n",
        "import seaborn as sns\n",
        "from sklearn.ensemble import RandomForestClassifier\n",
        "from sklearn.model_selection import train_test_split\n",
        "from sklearn.preprocessing import StandardScaler\n",
        "from sklearn.metrics import accuracy_score, classification_report, confusion_matrix\n",
        "import plotly.express as px\n",
        "import random\n",
        "from wordcloud import WordCloud\n",
        "import ast\n",
        "import statsmodels as stat\n",
        "import geopandas as geo"
      ]
    },
    {
      "cell_type": "markdown",
      "metadata": {
        "id": "3RnN4peoiCZX"
      },
      "source": [
        "### Dataset Loading"
      ]
    },
    {
      "cell_type": "code",
      "execution_count": null,
      "metadata": {
        "id": "4CkvbW_SlZ_R"
      },
      "outputs": [],
      "source": [
        "# Load Dataset\n",
        "md = pd.read_csv(\"/content/listings_chicago.csv\")\n",
        "md2 = pd.read_csv(\"/content/listings_orleans.csv\")"
      ]
    },
    {
      "cell_type": "markdown",
      "metadata": {
        "id": "x71ZqKXriCWQ"
      },
      "source": [
        "### Dataset First View"
      ]
    },
    {
      "cell_type": "code",
      "execution_count": null,
      "metadata": {
        "id": "LWNFOSvLl09H"
      },
      "outputs": [],
      "source": [
        "# Dataset First Look (for chicago city)\n",
        "md.head(5)"
      ]
    },
    {
      "cell_type": "code",
      "execution_count": null,
      "metadata": {
        "id": "fsbnEbbVZ9PG"
      },
      "outputs": [],
      "source": [
        "# dataset first look (New orleans city)\n",
        "md2.head(5)"
      ]
    },
    {
      "cell_type": "markdown",
      "metadata": {
        "id": "7hBIi_osiCS2"
      },
      "source": [
        "### Dataset Rows & Columns count"
      ]
    },
    {
      "cell_type": "code",
      "execution_count": null,
      "metadata": {
        "id": "Kllu7SJgmLij"
      },
      "outputs": [],
      "source": [
        "# Dataset Rows & Columns count\n",
        "md.shape"
      ]
    },
    {
      "cell_type": "code",
      "execution_count": null,
      "metadata": {
        "id": "3wp28WZxZ9PH"
      },
      "outputs": [],
      "source": [
        "md2.shape"
      ]
    },
    {
      "cell_type": "markdown",
      "metadata": {
        "id": "JlHwYmJAmNHm"
      },
      "source": [
        "### Dataset Information"
      ]
    },
    {
      "cell_type": "code",
      "execution_count": null,
      "metadata": {
        "id": "e9hRXRi6meOf"
      },
      "outputs": [],
      "source": [
        "# Dataset Info\n",
        "md.info()"
      ]
    },
    {
      "cell_type": "code",
      "execution_count": null,
      "metadata": {
        "id": "rzdLVuA7Z9PH"
      },
      "outputs": [],
      "source": [
        "md2.info()"
      ]
    },
    {
      "cell_type": "markdown",
      "metadata": {
        "id": "35m5QtbWiB9F"
      },
      "source": [
        "#### Duplicate Values"
      ]
    },
    {
      "cell_type": "code",
      "execution_count": null,
      "metadata": {
        "id": "1sLdpKYkmox0"
      },
      "outputs": [],
      "source": [
        "# Dataset Duplicate Value Count\n",
        "# Check for duplicate values\n",
        "duplicates = md.duplicated(keep=False)\n",
        "\n",
        "# Count the duplicate values\n",
        "duplicate_count = duplicates.value_counts()\n",
        "\n",
        "print(duplicate_count)"
      ]
    },
    {
      "cell_type": "code",
      "execution_count": null,
      "metadata": {
        "id": "jHUv3Fx0Z9PI"
      },
      "outputs": [],
      "source": [
        "# Dataset Duplicate Value Count\n",
        "# Check for duplicate values\n",
        "duplicates = md2.duplicated(keep=False)\n",
        "\n",
        "# Count the duplicate values\n",
        "duplicate_count = duplicates.value_counts()\n",
        "\n",
        "print(duplicate_count)"
      ]
    },
    {
      "cell_type": "markdown",
      "metadata": {
        "id": "PoPl-ycgm1ru"
      },
      "source": [
        "#### Missing Values/Null Values"
      ]
    },
    {
      "cell_type": "code",
      "execution_count": null,
      "metadata": {
        "id": "GgHWkxvamxVg"
      },
      "outputs": [],
      "source": [
        "# Missing Values/Null Values Count\n",
        "md.isnull().sum()"
      ]
    },
    {
      "cell_type": "code",
      "execution_count": null,
      "metadata": {
        "id": "UmfUizPoZ9PI"
      },
      "outputs": [],
      "source": [
        "md2.isnull().sum()"
      ]
    },
    {
      "cell_type": "code",
      "execution_count": null,
      "metadata": {
        "id": "3q5wnI3om9sJ"
      },
      "outputs": [],
      "source": [
        "# Visualizing the missing values\n",
        "import missingno as ms\n",
        "ms.bar(md)\n",
        "plt.show()"
      ]
    },
    {
      "cell_type": "code",
      "execution_count": null,
      "metadata": {
        "id": "C-QWJwnnZ9PI"
      },
      "outputs": [],
      "source": [
        "# Visualizing the missing values\n",
        "import missingno as ms\n",
        "ms.bar(md2)\n",
        "plt.show()"
      ]
    },
    {
      "cell_type": "markdown",
      "metadata": {
        "id": "H0kj-8xxnORC"
      },
      "source": [
        "### What did you know about your dataset?"
      ]
    },
    {
      "cell_type": "markdown",
      "metadata": {
        "id": "gfoNAAC-nUe_"
      },
      "source": [
        "The dataset has two parts:-\n",
        "1) chicago listings dataset - total 8748 rows and 18 columns with no duplicate rows.\n",
        "2) new orleans listings dataset - total 7842 rows and 18 columns with no duplicate rows.\n",
        "\n",
        "Both datasets have some columns having missing values, the following are the columns:-\n",
        "\n",
        "For Chicago Listings Dataset\n",
        "\n",
        "    Column Name-------------Count of Missing values\n",
        "1)  neighbourhood_group-----8748\n",
        "2)  price-----1030\n",
        "3)  last_review-----1878                      \n",
        "4)  reviews_per_month-----1878\n",
        "5)  license-----1903\n",
        "\n",
        "For New Orleans Listings Dataset\n",
        "\n",
        "    Column Name-------------Count of Missing values\n",
        "1)  neighbourhood_group-----7842\n",
        "2)  host_name-----13\n",
        "3)  price-----1202\n",
        "4)  last_review-----1328                       \n",
        "5)  reviews_per_month-----1328\n",
        "6)  license-----1349"
      ]
    },
    {
      "cell_type": "markdown",
      "metadata": {
        "id": "nA9Y7ga8ng1Z"
      },
      "source": [
        "## ***2. Understanding Your Variables***"
      ]
    },
    {
      "cell_type": "code",
      "execution_count": null,
      "metadata": {
        "id": "j7xfkqrt5Ag5"
      },
      "outputs": [],
      "source": [
        "# Dataset Columns\n",
        "md.columns"
      ]
    },
    {
      "cell_type": "code",
      "execution_count": null,
      "metadata": {
        "id": "IHBlTBSZZ9PJ"
      },
      "outputs": [],
      "source": [
        "md2.columns"
      ]
    },
    {
      "cell_type": "code",
      "execution_count": null,
      "metadata": {
        "id": "DnOaZdaE5Q5t"
      },
      "outputs": [],
      "source": [
        "# Dataset Describe\n",
        "md.describe()"
      ]
    },
    {
      "cell_type": "code",
      "execution_count": null,
      "metadata": {
        "id": "_lUApL2QZ9PJ"
      },
      "outputs": [],
      "source": [
        "md2.describe()"
      ]
    },
    {
      "cell_type": "markdown",
      "metadata": {
        "id": "PBTbrJXOngz2"
      },
      "source": [
        "### Variables Description"
      ]
    },
    {
      "cell_type": "markdown",
      "metadata": {
        "id": "aJV4KIxSnxay"
      },
      "source": [
        "The following are the variables for the datasets:-\n",
        "\n",
        "    Column name----------------------------------description\n",
        "1) id-----------------------unique id for the row.\n",
        "2) name-----------------------name of the hotel of particular city.\n",
        "3) host_id-----------------------id of the host of the hotel.\n",
        "4) host_name-----------------------name of the host person representating the hotel.\n",
        "5) neighbourhood_group-----------------------neighbourhood group residing near hotel.\n",
        "6) neighbourhood-----------------------neighbourhood or nearest landmark to locate the hotel.\n",
        "7) latitude----------------------- horizontal geographical coordinates.\n",
        "8) longitude----------------------- vertical geographical coordinates.\n",
        "9) room_type----------------------- type of room offered by the hotel.\n",
        "10) price----------------------- price of the room type offered by the hotel.\n",
        "11) minimum_nights----------------------- minimum no of nights required to book the room.\n",
        "12) number_of_reviews----------------------- total number of reviews received by the hotel.\n",
        "13) last_review----------------------- recent review for the hotel given by the customer.\n",
        "14) reviews_per_month----------------------- total no of reviews per month.\n",
        "15) calculated_host_listings_count----------------------- total count of listings for the hotel done by host.\n",
        "16) availability_365----------------------- no of days availability of the room per year.\n",
        "17) number_of_reviews_ltm----------------------- total no of reviews for the last 12 months.\n",
        "18) license----------------------- license serial no for the hotel representating the legal registration of the hotel."
      ]
    },
    {
      "cell_type": "markdown",
      "metadata": {
        "id": "dauF4eBmngu3"
      },
      "source": [
        "## 3. ***Data Wrangling***"
      ]
    },
    {
      "cell_type": "markdown",
      "metadata": {
        "id": "bKJF3rekwFvQ"
      },
      "source": [
        "### Data Wrangling Code"
      ]
    },
    {
      "cell_type": "code",
      "execution_count": null,
      "metadata": {
        "id": "7BOIEwNMZ9PK"
      },
      "outputs": [],
      "source": [
        "md.isnull().sum()"
      ]
    },
    {
      "cell_type": "code",
      "execution_count": null,
      "metadata": {
        "id": "-L60rO9vZ9PK"
      },
      "outputs": [],
      "source": [
        "md2.isnull().sum()"
      ]
    },
    {
      "cell_type": "code",
      "execution_count": null,
      "metadata": {
        "id": "wk-9a2fpoLcV"
      },
      "outputs": [],
      "source": [
        "# Write your code to make your dataset analysis ready.\n",
        "md.fillna({'neighbourhood_group': \"Not Available\"},inplace=True)"
      ]
    },
    {
      "cell_type": "code",
      "execution_count": null,
      "metadata": {
        "id": "sutUfUmjZ9PK"
      },
      "outputs": [],
      "source": [
        "md.fillna({'price': 0},inplace=True)"
      ]
    },
    {
      "cell_type": "code",
      "execution_count": null,
      "metadata": {
        "id": "6uDUxUUPZ9PO"
      },
      "outputs": [],
      "source": [
        "md.fillna({'last_review': \"Not Available\"},inplace=True)"
      ]
    },
    {
      "cell_type": "code",
      "execution_count": null,
      "metadata": {
        "id": "j1oCvwRZZ9PO"
      },
      "outputs": [],
      "source": [
        "md.fillna({'reviews_per_month': \"Not Available\"},inplace=True)"
      ]
    },
    {
      "cell_type": "code",
      "execution_count": null,
      "metadata": {
        "id": "QPNpqD-3Z9PO"
      },
      "outputs": [],
      "source": [
        "md.fillna({'license': \"Not Available\"},inplace=True)"
      ]
    },
    {
      "cell_type": "code",
      "execution_count": null,
      "metadata": {
        "id": "vVlFOk5vZ9PP"
      },
      "outputs": [],
      "source": [
        "md2.fillna({'host_name': \"Not Available\"},inplace=True)"
      ]
    },
    {
      "cell_type": "code",
      "execution_count": null,
      "metadata": {
        "id": "CrSVoliOZ9PP"
      },
      "outputs": [],
      "source": [
        "md2.fillna({'neighbourhood_group': \"Not Available\"},inplace=True)"
      ]
    },
    {
      "cell_type": "code",
      "execution_count": null,
      "metadata": {
        "id": "4L5EKSoTZ9PP"
      },
      "outputs": [],
      "source": [
        "md2.fillna({'price': 0},inplace=True)"
      ]
    },
    {
      "cell_type": "code",
      "execution_count": null,
      "metadata": {
        "id": "VrbZg_bQZ9PP"
      },
      "outputs": [],
      "source": [
        "md2.fillna({'last_review': \"Not Available\"},inplace=True)"
      ]
    },
    {
      "cell_type": "code",
      "execution_count": null,
      "metadata": {
        "id": "HQ6XsoEdZ9PP"
      },
      "outputs": [],
      "source": [
        "md2.fillna({'reviews_per_month': \"Not Available\"},inplace=True)"
      ]
    },
    {
      "cell_type": "code",
      "execution_count": null,
      "metadata": {
        "id": "hyvqdzV4Z9PP"
      },
      "outputs": [],
      "source": [
        "md2.fillna({'license': \"Not Available\"},inplace=True)"
      ]
    },
    {
      "cell_type": "markdown",
      "metadata": {
        "id": "MSa1f5Uengrz"
      },
      "source": [
        "### What all manipulations have you done and insights you found?"
      ]
    },
    {
      "cell_type": "markdown",
      "metadata": {
        "id": "LbyXE7I1olp8"
      },
      "source": [
        "The following manipulations we have done to make our datasets clutter free and ready for visualization to analyse the trends:-\n",
        "\n",
        "1) Removed missing values for columns and replaced missing or null values with either 0 or Not available statement.\n",
        "2) Dropped the license the column to make dataset clutter free.\n",
        "3) As there were no duplicate values in the dataset so there was no need for duplicate value removal."
      ]
    },
    {
      "cell_type": "markdown",
      "metadata": {
        "id": "gCX9965dhzqZ"
      },
      "source": [
        "# **Conclusion For the Project to do Further Visualization on PowerBI and analyse various trends**"
      ]
    },
    {
      "cell_type": "markdown",
      "metadata": {
        "id": "Fjb1IsQkh3yE"
      },
      "source": [
        "The following are the concluding points:-\n",
        "\n",
        "1) The dataset contains no duplicates.\n",
        "2) Both datset has 18 columns.\n",
        "3) Chicago dataset has 8748 rows and Orleans dataset has 7842 rows.\n",
        "4) Both dataset were having some missing values which we removed during data wrangling.\n",
        "5) Removed the license column to make dataset clutter free for both datasets.\n",
        "\n",
        "Now the datasets are ready for data visualization through Microsoft PowerBi app to analyse patterns to solve business problems thus to improve growth of organisation."
      ]
    },
    {
      "cell_type": "markdown",
      "metadata": {
        "id": "PdowkQ41Z9PR"
      },
      "source": [
        "### Exporting the cleaned dataset to local system for further visualization process in Microsoft powerBi app"
      ]
    },
    {
      "cell_type": "code",
      "execution_count": null,
      "metadata": {
        "id": "-6Vl263upPVI"
      },
      "outputs": [],
      "source": [
        "md.to_csv(\"listings_C.csv\")"
      ]
    },
    {
      "cell_type": "code",
      "execution_count": null,
      "metadata": {
        "id": "mUPJFa6qZ9PR"
      },
      "outputs": [],
      "source": [
        "md2.to_csv(\"listings_O.csv\")"
      ]
    }
  ],
  "metadata": {
    "colab": {
      "collapsed_sections": [
        "vncDsAP0Gaoa",
        "FJNUwmbgGyua",
        "w6K7xa23Elo4",
        "yQaldy8SH6Dl",
        "PH-0ReGfmX4f",
        "mDgbUHAGgjLW",
        "O_i_v8NEhb9l",
        "HhfV-JJviCcP",
        "Y3lxredqlCYt",
        "3RnN4peoiCZX",
        "x71ZqKXriCWQ",
        "7hBIi_osiCS2",
        "JlHwYmJAmNHm",
        "35m5QtbWiB9F",
        "PoPl-ycgm1ru",
        "H0kj-8xxnORC",
        "nA9Y7ga8ng1Z",
        "PBTbrJXOngz2",
        "u3PMJOP6ngxN",
        "dauF4eBmngu3",
        "bKJF3rekwFvQ",
        "MSa1f5Uengrz",
        "GF8Ens_Soomf",
        "0wOQAZs5pc--",
        "K5QZ13OEpz2H",
        "lQ7QKXXCp7Bj",
        "448CDAPjqfQr",
        "KSlN3yHqYklG",
        "t6dVpIINYklI",
        "ijmpgYnKYklI",
        "-JiQyfWJYklI",
        "EM7whBJCYoAo",
        "fge-S5ZAYoAp",
        "85gYPyotYoAp",
        "RoGjAbkUYoAp",
        "4Of9eVA-YrdM",
        "iky9q4vBYrdO",
        "F6T5p64dYrdO",
        "y-Ehk30pYrdP",
        "bamQiAODYuh1",
        "QHF8YVU7Yuh3",
        "GwzvFGzlYuh3",
        "qYpmQ266Yuh3",
        "OH-pJp9IphqM",
        "bbFf2-_FphqN",
        "_ouA3fa0phqN",
        "Seke61FWphqN",
        "PIIx-8_IphqN",
        "t27r6nlMphqO",
        "r2jJGEOYphqO",
        "b0JNsNcRphqO",
        "BZR9WyysphqO",
        "jj7wYXLtphqO",
        "eZrbJ2SmphqO",
        "rFu4xreNphqO",
        "YJ55k-q6phqO",
        "gCFgpxoyphqP",
        "OVtJsKN_phqQ",
        "lssrdh5qphqQ",
        "U2RJ9gkRphqQ",
        "1M8mcRywphqQ",
        "tgIPom80phqQ",
        "JMzcOPDDphqR",
        "x-EpHcCOp1ci",
        "X_VqEhTip1ck",
        "8zGJKyg5p1ck",
        "PVzmfK_Ep1ck",
        "n3dbpmDWp1ck",
        "ylSl6qgtp1ck",
        "ZWILFDl5p1ck",
        "M7G43BXep1ck",
        "Ag9LCva-p1cl",
        "E6MkPsBcp1cl",
        "2cELzS2fp1cl",
        "3MPXvC8up1cl",
        "NC_X3p0fY2L0",
        "UV0SzAkaZNRQ",
        "YPEH6qLeZNRQ",
        "q29F0dvdveiT",
        "EXh0U9oCveiU",
        "22aHeOlLveiV",
        "JcMwzZxoAimU",
        "8G2x9gOozGDZ",
        "gCX9965dhzqZ",
        "gIfDvo9L0UH2"
      ],
      "private_outputs": true,
      "provenance": []
    },
    "kernelspec": {
      "display_name": "Python 3 (ipykernel)",
      "language": "python",
      "name": "python3"
    },
    "language_info": {
      "codemirror_mode": {
        "name": "ipython",
        "version": 3
      },
      "file_extension": ".py",
      "mimetype": "text/x-python",
      "name": "python",
      "nbconvert_exporter": "python",
      "pygments_lexer": "ipython3",
      "version": "3.12.7"
    }
  },
  "nbformat": 4,
  "nbformat_minor": 0
}