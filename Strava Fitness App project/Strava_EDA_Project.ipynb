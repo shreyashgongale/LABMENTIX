{
  "cells": [
    {
      "cell_type": "markdown",
      "metadata": {
        "id": "I1apcow5dxii"
      },
      "source": [
        "### Strava EDA Project"
      ]
    },
    {
      "cell_type": "markdown",
      "metadata": {
        "id": "vncDsAP0Gaoa"
      },
      "source": [
        "# **Project Name**    - Strava EDA Analysis\n",
        "\n"
      ]
    },
    {
      "cell_type": "markdown",
      "metadata": {
        "id": "beRrZCGUAJYm"
      },
      "source": [
        "##### **Project Type**    - EDA\n",
        "##### **Contribution**    - Individual\n",
        "##### **Name**            - SHREYASH FULCHAND GONGALE"
      ]
    },
    {
      "cell_type": "markdown",
      "metadata": {
        "id": "FJNUwmbgGyua"
      },
      "source": [
        "# **Project Summary -**"
      ]
    },
    {
      "cell_type": "markdown",
      "metadata": {
        "id": "F6v_1wHtG2nS"
      },
      "source": [
        "#### Strava, Inc. is a U.S.-based company that operates a popular fitness tracking and social networking app primarily for cyclists and runners. Founded in 2009 by Mark Gainey and Michael Horvath, Strava allows users to record physical activities using GPS data, analyze performance metrics, and share workouts with a community of athletes. The platform supports various sports and integrates with many fitness devices. Strava is known for features like segments, leaderboards, and challenges, promoting competition and motivation. The company is headquartered in San Francisco, California."
      ]
    },
    {
      "cell_type": "markdown",
      "metadata": {
        "id": "w6K7xa23Elo4"
      },
      "source": [
        "# **GitHub Link -**"
      ]
    },
    {
      "cell_type": "markdown",
      "metadata": {
        "id": "yQaldy8SH6Dl"
      },
      "source": [
        "# **Problem Statement**\n"
      ]
    },
    {
      "cell_type": "markdown",
      "metadata": {
        "id": "DpeJGUA3kjGy"
      },
      "source": [
        "**We have multiple datasets to study the activities of a person using strava, we have to merge all the datasets into one and analyse the dataset using EDA and give solutions for the business problems ?**"
      ]
    },
    {
      "cell_type": "markdown",
      "metadata": {
        "id": "PH-0ReGfmX4f"
      },
      "source": [
        "#### **Define Your Business Objective?**"
      ]
    },
    {
      "cell_type": "markdown",
      "metadata": {
        "id": "PhDvGCAqmjP1"
      },
      "source": [
        "**The business objective for Strava datasets are as follows:-**\n",
        "\n",
        "1) To analyze the dataset and find the new trends which attracts more customers to download the app.  \n",
        "2) To analyze the dataset and find how to attract the users to use subsciption model.\n",
        "3) To analyze the dataset and find the insights for the activities and analyse the behaviour and pattern based on it.\n",
        "4) To analyze the dataset and find the choices and feedback of customers while using the app."
      ]
    },
    {
      "cell_type": "markdown",
      "metadata": {
        "id": "Y3lxredqlCYt"
      },
      "source": [
        "### Import Libraries"
      ]
    },
    {
      "cell_type": "code",
      "execution_count": null,
      "metadata": {
        "id": "M8Vqi-pPk-HR"
      },
      "outputs": [],
      "source": [
        "# Import Libraries\n",
        "import pandas as pd\n",
        "import numpy as np\n",
        "import matplotlib\n",
        "import matplotlib.pyplot as plt\n",
        "import matplotlib.cm as cm\n",
        "import seaborn as sns\n",
        "import missingno as ms\n",
        "from sklearn.ensemble import RandomForestClassifier\n",
        "from sklearn.model_selection import train_test_split\n",
        "from sklearn.preprocessing import StandardScaler\n",
        "from sklearn.metrics import accuracy_score, classification_report, confusion_matrix\n",
        "import plotly.express as px\n",
        "import random\n",
        "from wordcloud import WordCloud\n",
        "import ast\n",
        "from PIL import Image\n",
        "import IPython.display as display\n",
        "import statsmodels as stat\n",
        "import geopandas as geo"
      ]
    },
    {
      "cell_type": "markdown",
      "metadata": {
        "id": "3RnN4peoiCZX"
      },
      "source": [
        "### Dataset Loading"
      ]
    },
    {
      "cell_type": "code",
      "execution_count": null,
      "metadata": {
        "id": "4CkvbW_SlZ_R"
      },
      "outputs": [],
      "source": [
        "# Load Dataset\n",
        "dataset1 = pd.read_csv(\"/content/dailyActivity_merged.csv\")\n",
        "dataset2 = pd.read_csv(\"/content/dailyCalories_merged.csv\")\n",
        "dataset3 = pd.read_csv(\"/content/dailyIntensities_merged.csv\")\n",
        "dataset4 = pd.read_csv(\"/content/dailySteps_merged.csv\")\n",
        "dataset5 = pd.read_csv(\"/content/sleepDay_merged.csv\")\n",
        "dataset6 = pd.read_csv(\"/content/weightLogInfo_merged.csv\")"
      ]
    },
    {
      "cell_type": "markdown",
      "metadata": {
        "id": "5makXaZhVEFH"
      },
      "source": [
        "### Datasets Merged"
      ]
    },
    {
      "cell_type": "code",
      "execution_count": null,
      "metadata": {
        "id": "H9Ps7DHRVEFH"
      },
      "outputs": [],
      "source": [
        "import pandas as pd\n",
        "from functools import reduce\n",
        "\n",
        "# List of your datasets\n",
        "datasets = [dataset1, dataset2, dataset3, dataset4, dataset5, dataset6]\n",
        "\n",
        "# Define possible date column names to check in each dataset\n",
        "date_cols_options = ['ActivityDate', 'ActivityDay', 'SleepDay', 'Date']\n",
        "\n",
        "# Find date column in each dataset\n",
        "def find_date_col(df):\n",
        "    for col in date_cols_options:\n",
        "        if col in df.columns:\n",
        "            return col\n",
        "    return None\n",
        "\n",
        "# Prepare list of (df, date_col) tuples\n",
        "dfs_with_date_col = [(df, find_date_col(df)) for df in datasets]\n",
        "\n",
        "# Start merging\n",
        "md = dfs_with_date_col[0][0]  # first dataframe\n",
        "\n",
        "for df, date_col in dfs_with_date_col[1:]:\n",
        "    if date_col is None:\n",
        "        # No date column found, merge only on 'Id'\n",
        "        md = pd.merge(md, df, on='Id', how='outer')\n",
        "    else:\n",
        "        # Merge on 'Id' and the date column (date columns might have different names)\n",
        "        md = pd.merge(md, df, left_on=['Id', 'ActivityDate'] if 'ActivityDate' in md.columns else ['Id'],\n",
        "                      right_on=['Id', date_col] if date_col else ['Id'],\n",
        "                      how='outer')"
      ]
    },
    {
      "cell_type": "markdown",
      "metadata": {
        "id": "x71ZqKXriCWQ"
      },
      "source": [
        "### Dataset First View"
      ]
    },
    {
      "cell_type": "code",
      "execution_count": null,
      "metadata": {
        "id": "LWNFOSvLl09H"
      },
      "outputs": [],
      "source": [
        "# Dataset First Look\n",
        "md.head(5)"
      ]
    },
    {
      "cell_type": "code",
      "execution_count": null,
      "metadata": {
        "id": "OWlUExxUVEFI"
      },
      "outputs": [],
      "source": [
        "md.tail(5)"
      ]
    },
    {
      "cell_type": "markdown",
      "metadata": {
        "id": "7hBIi_osiCS2"
      },
      "source": [
        "### Dataset Rows & Columns count"
      ]
    },
    {
      "cell_type": "code",
      "execution_count": null,
      "metadata": {
        "id": "Kllu7SJgmLij"
      },
      "outputs": [],
      "source": [
        "# Dataset Rows & Columns count\n",
        "md.shape"
      ]
    },
    {
      "cell_type": "markdown",
      "metadata": {
        "id": "JlHwYmJAmNHm"
      },
      "source": [
        "### Dataset Information"
      ]
    },
    {
      "cell_type": "code",
      "execution_count": null,
      "metadata": {
        "id": "e9hRXRi6meOf"
      },
      "outputs": [],
      "source": [
        "# Dataset Info\n",
        "md.info()"
      ]
    },
    {
      "cell_type": "markdown",
      "metadata": {
        "id": "35m5QtbWiB9F"
      },
      "source": [
        "#### Duplicate Values"
      ]
    },
    {
      "cell_type": "code",
      "execution_count": null,
      "metadata": {
        "id": "1sLdpKYkmox0"
      },
      "outputs": [],
      "source": [
        "# Dataset Duplicate Value Count\n",
        "duplicates = md.duplicated(keep=False)\n",
        "\n",
        "# Count the duplicate values\n",
        "duplicate_count = duplicates.value_counts()\n",
        "\n",
        "print(duplicate_count)"
      ]
    },
    {
      "cell_type": "markdown",
      "metadata": {
        "id": "XxnqJQSuVEFJ"
      },
      "source": [
        "### Removing Duplicates"
      ]
    },
    {
      "cell_type": "code",
      "execution_count": null,
      "metadata": {
        "id": "RVBBpSZRVEFJ"
      },
      "outputs": [],
      "source": [
        "md.drop_duplicates([\"Id\"],keep='first',inplace=True)"
      ]
    },
    {
      "cell_type": "markdown",
      "metadata": {
        "id": "PoPl-ycgm1ru"
      },
      "source": [
        "#### Missing Values/Null Values"
      ]
    },
    {
      "cell_type": "code",
      "execution_count": null,
      "metadata": {
        "id": "GgHWkxvamxVg"
      },
      "outputs": [],
      "source": [
        "# Missing Values/Null Values Count\n",
        "md.isnull().sum()"
      ]
    },
    {
      "cell_type": "code",
      "execution_count": null,
      "metadata": {
        "id": "3q5wnI3om9sJ"
      },
      "outputs": [],
      "source": [
        "# Visualizing the missing values\n",
        "ms.bar(md)\n",
        "plt.show()"
      ]
    },
    {
      "cell_type": "markdown",
      "metadata": {
        "id": "H0kj-8xxnORC"
      },
      "source": [
        "### What did you know about your dataset?"
      ]
    },
    {
      "cell_type": "markdown",
      "metadata": {
        "id": "gfoNAAC-nUe_"
      },
      "source": [
        "**The Following things which are about the dataset:-**\n",
        "\n",
        "1) There are 1004 rows and 6 duplicate rows.\n",
        "2) There are 39 columns."
      ]
    },
    {
      "cell_type": "markdown",
      "metadata": {
        "id": "nA9Y7ga8ng1Z"
      },
      "source": [
        "## ***2. Understanding Your Variables***"
      ]
    },
    {
      "cell_type": "code",
      "execution_count": null,
      "metadata": {
        "id": "j7xfkqrt5Ag5"
      },
      "outputs": [],
      "source": [
        "# Dataset Columns\n",
        "md.columns"
      ]
    },
    {
      "cell_type": "code",
      "execution_count": null,
      "metadata": {
        "id": "DnOaZdaE5Q5t"
      },
      "outputs": [],
      "source": [
        "# Dataset Describe\n",
        "md.describe()"
      ]
    },
    {
      "cell_type": "markdown",
      "metadata": {
        "id": "PBTbrJXOngz2"
      },
      "source": [
        "### Variables Description"
      ]
    },
    {
      "cell_type": "markdown",
      "metadata": {
        "id": "aJV4KIxSnxay"
      },
      "source": [
        "**The following is the description for the variables:-**\n",
        "\n",
        "**Columns----------------------------------Description**\n",
        "\n",
        "1) Id----------------------------------Unique ID.\n",
        "2) ActivityDate----------------------------------Date of the activity.\n",
        "3) TotalSteps----------------------------------Total Steps done by the user.\n",
        "4) TotalDistance----------------------------------Total Distance covered by the user.\n",
        "5) TrackerDistance----------------------------------Tracked Distance by the user.\n",
        "6) LoggedActivitiesDistance----------------------------------Logged activity distance on the app.\n",
        "7) VeryActiveDistance_x----------------------------------X coordinatinate for very active distance.\n",
        "8) ModeratelyActiveDistance_x----------------------------------X coordinatinate for moderate active distance.\n",
        "9) LightActiveDistance_x----------------------------------X coordinatinate for light active distance.\n",
        "10) SedentaryActiveDistance_x----------------------------------X coordinatinate for Sedentary active distance.\n",
        "11) VeryActiveMinutes_x----------------------------------X coordinatinate for very active minutes.\n",
        "12) FairlyActiveMinutes_x----------------------------------X coordinatinate for fairly active minutes.\n",
        "13) LightlyActiveMinutes_x----------------------------------X coordinatinate for light active minutes.\n",
        "14) SedentaryMinutes_x----------------------------------X coordinatinate for Sedentary active minutes.\n",
        "15) Calories_x----------------------------------X coordinatinate for calories.\n",
        "16) ActivityDay_x----------------------------------X coordinatinate for activity date.\n",
        "17) Calories_y----------------------------------y coordinatinate for calories.\n",
        "18) ActivityDay_y----------------------------------y coordinatinate for activity date.\n",
        "19) SedentaryMinutes_y----------------------------------y coordinatinate for Sedentary active minutes.\n",
        "20) LightlyActiveMinutes_y----------------------------------y coordinatinate for light active minutes.\n",
        "21) FairlyActiveMinutes_y----------------------------------y coordinatinate for fairly active minutes.\n",
        "22) VeryActiveMinutes_y----------------------------------y coordinatinate for very active minutes.\n",
        "23) SedentaryActiveDistance_y----------------------------------y coordinatinate for Sedentary active distance.\n",
        "24) LightActiveDistance_y----------------------------------y coordinatinate for light active distance.\n",
        "25) ModeratelyActiveDistance_y----------------------------------y coordinatinate for moderate active distance.\n",
        "26) VeryActiveDistance_y----------------------------------y coordinatinate for very active distance.\n",
        "27) ActivityDay----------------------------------Day of the activity.\n",
        "28) StepTotal----------------------------------Step count.\n",
        "29) SleepDay----------------------------------Total sleep count.\n",
        "30) TotalSleepRecords----------------------------------Sleep record for user.\n",
        "31) TotalMinutesAsleep----------------------------------Total minutes the user was asleep.\n",
        "32) TotalTimeInBed----------------------------------Total time user was in bed.\n",
        "33) Date----------------------------------Date of record.\n",
        "34) WeightKg----------------------------------Weight of user in KG's.\n",
        "35) WeightPounds----------------------------------Weight of user in Pounds.\n",
        "36) Fat----------------------------------Fat percentage of user.\n",
        "37) BMI----------------------------------Body mass index of user.\n",
        "38) IsManualReport----------------------------------Manual report of user.\n",
        "39) LogId----------------------------------Login ID for the user."
      ]
    },
    {
      "cell_type": "markdown",
      "metadata": {
        "id": "u3PMJOP6ngxN"
      },
      "source": [
        "### Check Unique Values for each variable."
      ]
    },
    {
      "cell_type": "code",
      "execution_count": null,
      "metadata": {
        "id": "zms12Yq5n-jE"
      },
      "outputs": [],
      "source": [
        "# Check Unique Values for each variable.\n",
        "for x in md.columns:\n",
        "    print(f\"{x} - {md[x].nunique()}\")"
      ]
    },
    {
      "cell_type": "markdown",
      "metadata": {
        "id": "dauF4eBmngu3"
      },
      "source": [
        "## 3. ***Data Wrangling***"
      ]
    },
    {
      "cell_type": "markdown",
      "metadata": {
        "id": "bKJF3rekwFvQ"
      },
      "source": [
        "### Data Wrangling Code"
      ]
    },
    {
      "cell_type": "code",
      "execution_count": null,
      "metadata": {
        "id": "wk-9a2fpoLcV"
      },
      "outputs": [],
      "source": [
        "# Write your code to make your dataset analysis ready.\n",
        "md.isnull().sum()"
      ]
    },
    {
      "cell_type": "code",
      "execution_count": null,
      "metadata": {
        "id": "9_pNGkIfVEFP"
      },
      "outputs": [],
      "source": [
        "md.fillna({'SleepDay': 0},inplace=True)"
      ]
    },
    {
      "cell_type": "code",
      "execution_count": null,
      "metadata": {
        "id": "gPkV1FusVEFP"
      },
      "outputs": [],
      "source": [
        "md.fillna({'TotalSleepRecords': 0},inplace=True)"
      ]
    },
    {
      "cell_type": "code",
      "execution_count": null,
      "metadata": {
        "id": "hxpJCRZFVEFP"
      },
      "outputs": [],
      "source": [
        "md.fillna({'TotalMinutesAsleep': 0},inplace=True)"
      ]
    },
    {
      "cell_type": "code",
      "execution_count": null,
      "metadata": {
        "id": "HiaOJsqzVEFP"
      },
      "outputs": [],
      "source": [
        "md.fillna({'TotalTimeInBed': 0},inplace=True)"
      ]
    },
    {
      "cell_type": "code",
      "execution_count": null,
      "metadata": {
        "scrolled": true,
        "id": "-fBTMZNdVEFP"
      },
      "outputs": [],
      "source": [
        "md['Date'] = md['Date'].fillna('Missing')"
      ]
    },
    {
      "cell_type": "code",
      "execution_count": null,
      "metadata": {
        "id": "E90YXB6qVEFQ"
      },
      "outputs": [],
      "source": [
        "md.fillna({'WeightKg': 0},inplace=True)"
      ]
    },
    {
      "cell_type": "code",
      "execution_count": null,
      "metadata": {
        "id": "4n5Hmc2DVEFQ"
      },
      "outputs": [],
      "source": [
        "md.fillna({'WeightPounds': 0},inplace=True)"
      ]
    },
    {
      "cell_type": "code",
      "execution_count": null,
      "metadata": {
        "id": "sE9NoEH_VEFQ"
      },
      "outputs": [],
      "source": [
        "md.fillna({'Fat': 0},inplace=True)"
      ]
    },
    {
      "cell_type": "code",
      "execution_count": null,
      "metadata": {
        "id": "MrDV9rt_VEFQ"
      },
      "outputs": [],
      "source": [
        "md.fillna({'BMI': 0},inplace=True)"
      ]
    },
    {
      "cell_type": "code",
      "execution_count": null,
      "metadata": {
        "id": "1kVo4hkZVEFQ"
      },
      "outputs": [],
      "source": [
        "md.fillna({'IsManualReport': \"Missing\"},inplace=True)"
      ]
    },
    {
      "cell_type": "code",
      "execution_count": null,
      "metadata": {
        "id": "dSvJH-27VEFQ"
      },
      "outputs": [],
      "source": [
        "md.fillna({'LogId': 0},inplace=True)"
      ]
    },
    {
      "cell_type": "code",
      "execution_count": null,
      "metadata": {
        "id": "xiYMkm3TVEFR"
      },
      "outputs": [],
      "source": [
        "md.isnull().sum()"
      ]
    },
    {
      "cell_type": "markdown",
      "metadata": {
        "id": "MSa1f5Uengrz"
      },
      "source": [
        "### What all manipulations have you done and insights you found?"
      ]
    },
    {
      "cell_type": "markdown",
      "metadata": {
        "id": "LbyXE7I1olp8"
      },
      "source": [
        "**The following Manipulations have been done on dataset:-**\n",
        "\n",
        "1) Removed 6 duplicate rows.\n",
        "2) Replaced all the missing values in the columns with numerical value 0.\n"
      ]
    },
    {
      "cell_type": "markdown",
      "metadata": {
        "id": "GF8Ens_Soomf"
      },
      "source": [
        "## ***4. Data Vizualization, Storytelling & Experimenting with charts : Understand the relationships between variables***"
      ]
    },
    {
      "cell_type": "markdown",
      "metadata": {
        "id": "0wOQAZs5pc--"
      },
      "source": [
        "#### Chart - 1"
      ]
    },
    {
      "cell_type": "code",
      "execution_count": null,
      "metadata": {
        "id": "7v_ESjsspbW7"
      },
      "outputs": [],
      "source": [
        "# Chart - 1 visualization code\n",
        "plt.style.use('dark_background')\n",
        "\n",
        "# Create a bar plot\n",
        "plt.figure(figsize=(10, 8))  # Adjust figure size\n",
        "ax = sns.barplot(data=md, x=\"ActivityDate\", y=\"TotalSteps\", hue=\"ActivityDate\", palette=\"deep\", legend=False)\n",
        "\n",
        "# Rotate x-axis labels for better readability\n",
        "plt.xticks(rotation=45, ha=\"right\")\n",
        "plt.xlabel(\"Date\")\n",
        "plt.ylabel(\"Step Count\")\n",
        "plt.title(\"Date vs Steps\")\n",
        "for p in ax.patches:\n",
        "    count = int(p.get_height())\n",
        "    x = p.get_x() + p.get_width() / 2\n",
        "    y = p.get_height()\n",
        "    ax.annotate(\n",
        "        str(count),\n",
        "        (x, y),\n",
        "        ha='center',\n",
        "        va='bottom',\n",
        "        fontsize=11,\n",
        "        color='white',\n",
        "        fontweight='bold'\n",
        "    )\n",
        "\n",
        "# Show the plot\n",
        "plt.show()"
      ]
    },
    {
      "cell_type": "markdown",
      "metadata": {
        "id": "K5QZ13OEpz2H"
      },
      "source": [
        "##### 1. Why did you pick the specific chart?"
      ]
    },
    {
      "cell_type": "markdown",
      "metadata": {
        "id": "XESiWehPqBRc"
      },
      "source": [
        "The above bar plot gives clear count in vertical visual."
      ]
    },
    {
      "cell_type": "markdown",
      "metadata": {
        "id": "lQ7QKXXCp7Bj"
      },
      "source": [
        "##### 2. What is/are the insight(s) found from the chart?"
      ]
    },
    {
      "cell_type": "markdown",
      "metadata": {
        "id": "C_j1G7yiqdRP"
      },
      "source": [
        "The Count total steps for the activity date is 8236"
      ]
    },
    {
      "cell_type": "markdown",
      "metadata": {
        "id": "448CDAPjqfQr"
      },
      "source": [
        "##### 3. Will the gained insights help creating a positive business impact?\n",
        "Are there any insights that lead to negative growth? Justify with specific reason."
      ]
    },
    {
      "cell_type": "markdown",
      "metadata": {
        "id": "3cspy4FjqxJW"
      },
      "source": [
        "The people are consistent with working out specially walking and reaching their step goals."
      ]
    },
    {
      "cell_type": "markdown",
      "metadata": {
        "id": "KSlN3yHqYklG"
      },
      "source": [
        "#### Chart - 2"
      ]
    },
    {
      "cell_type": "code",
      "execution_count": null,
      "metadata": {
        "id": "R4YgtaqtYklH"
      },
      "outputs": [],
      "source": [
        "# Chart - 2 visualization code\n",
        "plt.style.use('dark_background')\n",
        "\n",
        "# Create a bar plot\n",
        "plt.figure(figsize=(10, 8))  # Adjust figure size\n",
        "ax = sns.barplot(data=md, x=\"ActivityDate\", y=\"TotalDistance\", hue=\"ActivityDate\", palette=\"dark\", legend=False)\n",
        "\n",
        "# Rotate x-axis labels for better readability\n",
        "plt.xticks(rotation=45, ha=\"right\")\n",
        "plt.xlabel(\"Date\")\n",
        "plt.ylabel(\"Distance\")\n",
        "plt.title(\"Date vs Distance\")\n",
        "for p in ax.patches:\n",
        "    count = int(p.get_height())\n",
        "    x = p.get_x() + p.get_width() / 2\n",
        "    y = p.get_height()\n",
        "    ax.annotate(\n",
        "        str(count),\n",
        "        (x, y),\n",
        "        ha='center',\n",
        "        va='bottom',\n",
        "        fontsize=11,\n",
        "        color='white',\n",
        "        fontweight='bold'\n",
        "    )\n",
        "\n",
        "# Show the plot\n",
        "plt.show()"
      ]
    },
    {
      "cell_type": "markdown",
      "metadata": {
        "id": "t6dVpIINYklI"
      },
      "source": [
        "##### 1. Why did you pick the specific chart?"
      ]
    },
    {
      "cell_type": "markdown",
      "metadata": {
        "id": "5aaW0BYyYklI"
      },
      "source": [
        "This gives clear distance count for the date."
      ]
    },
    {
      "cell_type": "markdown",
      "metadata": {
        "id": "ijmpgYnKYklI"
      },
      "source": [
        "##### 2. What is/are the insight(s) found from the chart?"
      ]
    },
    {
      "cell_type": "markdown",
      "metadata": {
        "id": "PSx9atu2YklI"
      },
      "source": [
        "The count of distance is 5 KM for the activity date."
      ]
    },
    {
      "cell_type": "markdown",
      "metadata": {
        "id": "-JiQyfWJYklI"
      },
      "source": [
        "##### 3. Will the gained insights help creating a positive business impact?\n",
        "Are there any insights that lead to negative growth? Justify with specific reason."
      ]
    },
    {
      "cell_type": "markdown",
      "metadata": {
        "id": "BcBbebzrYklV"
      },
      "source": [
        "This shows that people are consistent in covering required distance but can improve it by increasing the target for achieveing better results."
      ]
    },
    {
      "cell_type": "markdown",
      "metadata": {
        "id": "EM7whBJCYoAo"
      },
      "source": [
        "#### Chart - 3"
      ]
    },
    {
      "cell_type": "code",
      "execution_count": null,
      "metadata": {
        "id": "t6GMdE67YoAp"
      },
      "outputs": [],
      "source": [
        "# Chart - 3 visualization code\n",
        "plt.style.use('dark_background')\n",
        "\n",
        "md.columns = md.columns.str.strip()\n",
        "\n",
        "# Count occurrences of each start station\n",
        "step_count = md[\"TotalSteps\"].value_counts().reset_index()\n",
        "step_count.columns = [\"TotalSteps\", \"Count\"]\n",
        "\n",
        "# Create the treemap\n",
        "fig = px.treemap(step_count,\n",
        "                 path=['TotalSteps'],\n",
        "                 values='Count',\n",
        "                 title=\"Count for Total Steps\",\n",
        "                 color='Count',\n",
        "                 color_continuous_scale=\"RdBu\")\n",
        "\n",
        "# Show the plot\n",
        "fig.show()"
      ]
    },
    {
      "cell_type": "markdown",
      "metadata": {
        "id": "fge-S5ZAYoAp"
      },
      "source": [
        "##### 1. Why did you pick the specific chart?"
      ]
    },
    {
      "cell_type": "markdown",
      "metadata": {
        "id": "5dBItgRVYoAp"
      },
      "source": [
        "This tree map gives good visual representation with count showing capabilities when we hover over each tile."
      ]
    },
    {
      "cell_type": "markdown",
      "metadata": {
        "id": "85gYPyotYoAp"
      },
      "source": [
        "##### 2. What is/are the insight(s) found from the chart?"
      ]
    },
    {
      "cell_type": "markdown",
      "metadata": {
        "id": "4jstXR6OYoAp"
      },
      "source": [
        "The following are the insights:-\n",
        "\n",
        "1) The label id 0 has 2 count.\n",
        "2) The label id 2564 has 1 count.\n",
        "3) All other label has also 1-1 each count."
      ]
    },
    {
      "cell_type": "markdown",
      "metadata": {
        "id": "RoGjAbkUYoAp"
      },
      "source": [
        "##### 3. Will the gained insights help creating a positive business impact?\n",
        "Are there any insights that lead to negative growth? Justify with specific reason."
      ]
    },
    {
      "cell_type": "markdown",
      "metadata": {
        "id": "zfJ8IqMcYoAp"
      },
      "source": [
        "People should be encouraged to set higher step goals so that they can achieve their fitness goals faster , for this strava app can organise online/offline fitness challenges or awareness campaigns to provke its users to set high targets to achieve fitness goals faster."
      ]
    },
    {
      "cell_type": "markdown",
      "metadata": {
        "id": "4Of9eVA-YrdM"
      },
      "source": [
        "#### Chart - 4"
      ]
    },
    {
      "cell_type": "code",
      "execution_count": null,
      "metadata": {
        "id": "irlUoxc8YrdO"
      },
      "outputs": [],
      "source": [
        "# Chart - 4 visualization code\n",
        "plt.style.use('dark_background')\n",
        "\n",
        "md.columns = md.columns.str.strip()\n",
        "\n",
        "# Count occurrences of each start station\n",
        "distance_count = md[\"TotalDistance\"].value_counts().reset_index()\n",
        "distance_count.columns = [\"TotalDistance\", \"Count\"]\n",
        "\n",
        "# Create the treemap\n",
        "fig = px.treemap(distance_count,\n",
        "                 path=['TotalDistance'],\n",
        "                 values='Count',\n",
        "                 title=\"Count for Total Distance Covered\",\n",
        "                 color='Count',\n",
        "                 color_discrete_map={'(?)':'lightgrey', 'Lunch':'gold', 'Dinner':'darkblue'})\n",
        "\n",
        "# Show the plot\n",
        "fig.show()"
      ]
    },
    {
      "cell_type": "markdown",
      "metadata": {
        "id": "iky9q4vBYrdO"
      },
      "source": [
        "##### 1. Why did you pick the specific chart?"
      ]
    },
    {
      "cell_type": "markdown",
      "metadata": {
        "id": "aJRCwT6DYrdO"
      },
      "source": [
        "This tree map gives good visual representation with count showing capabilities when we hover over each tile."
      ]
    },
    {
      "cell_type": "markdown",
      "metadata": {
        "id": "F6T5p64dYrdO"
      },
      "source": [
        "##### 2. What is/are the insight(s) found from the chart?"
      ]
    },
    {
      "cell_type": "markdown",
      "metadata": {
        "id": "Xx8WAJvtYrdO"
      },
      "source": [
        "The following are the insights:-\n",
        "\n",
        "1) The label id 0 has 2 count.\n",
        "2) The label id 1.639 has 1 count.\n",
        "3) All other label has also 1-1 each count."
      ]
    },
    {
      "cell_type": "markdown",
      "metadata": {
        "id": "y-Ehk30pYrdP"
      },
      "source": [
        "##### 3. Will the gained insights help creating a positive business impact?\n",
        "Are there any insights that lead to negative growth? Justify with specific reason."
      ]
    },
    {
      "cell_type": "markdown",
      "metadata": {
        "id": "jLNxxz7MYrdP"
      },
      "source": [
        "People should be encouraged to set higher step goals so that they can achieve their fitness goals faster , for this strava app can organise online/offline fitness challenges or awareness campaigns to provke its users to set high targets to achieve fitness goals faster."
      ]
    },
    {
      "cell_type": "markdown",
      "metadata": {
        "id": "bamQiAODYuh1"
      },
      "source": [
        "#### Chart - 5"
      ]
    },
    {
      "cell_type": "code",
      "execution_count": null,
      "metadata": {
        "id": "TIJwrbroYuh3"
      },
      "outputs": [],
      "source": [
        "# Chart - 5 visualization code\n",
        "plt.style.use('default')\n",
        "md.columns = md.columns.str.strip()\n",
        "\n",
        "co = md['StepTotal'].value_counts().head(10)\n",
        "co.index = co.index.astype(int)  # <- make the year labels integers\n",
        "\n",
        "plt.figure(figsize=(15, 7))\n",
        "co.plot(\n",
        "    kind='pie',\n",
        "    labels=[str(year) for year in co.index],  # <- use labels explicitly\n",
        "    autopct=lambda p: '{:.0f}%'.format(p),  # whole numbers, no decimal\n",
        "    colors=['yellow', 'lightgreen'],\n",
        "    startangle=90,\n",
        "    wedgeprops={'edgecolor': 'black'},\n",
        "    textprops={'fontsize': 12, 'color': 'black'}\n",
        ")\n",
        "\n",
        "plt.title('Top 10 Step Count Distribution', fontsize=16)\n",
        "plt.ylabel('')\n",
        "plt.tight_layout()\n",
        "plt.show()"
      ]
    },
    {
      "cell_type": "markdown",
      "metadata": {
        "id": "QHF8YVU7Yuh3"
      },
      "source": [
        "##### 1. Why did you pick the specific chart?"
      ]
    },
    {
      "cell_type": "markdown",
      "metadata": {
        "id": "dcxuIMRPYuh3"
      },
      "source": [
        "Pie chart are amazing way to express or visualize the dataset in proper way."
      ]
    },
    {
      "cell_type": "markdown",
      "metadata": {
        "id": "GwzvFGzlYuh3"
      },
      "source": [
        "##### 2. What is/are the insight(s) found from the chart?"
      ]
    },
    {
      "cell_type": "markdown",
      "metadata": {
        "id": "uyqkiB8YYuh3"
      },
      "source": [
        "The following are the insights for the above pie chart:-\n",
        "\n",
        "1) Maximum Step count distribution is for ID 0 with 18% distribution.\n",
        "2) Second highest is for ID 14172 with 9% distribution."
      ]
    },
    {
      "cell_type": "markdown",
      "metadata": {
        "id": "qYpmQ266Yuh3"
      },
      "source": [
        "##### 3. Will the gained insights help creating a positive business impact?\n",
        "Are there any insights that lead to negative growth? Justify with specific reason."
      ]
    },
    {
      "cell_type": "markdown",
      "metadata": {
        "id": "_WtzZ_hCYuh4"
      },
      "source": [
        "People should be encouraged to set higher step goals so that they can achieve their fitness goals faster , for this strava app can organise online/offline fitness challenges or awareness campaigns to provke its users to set high targets to achieve fitness goals faster."
      ]
    },
    {
      "cell_type": "markdown",
      "metadata": {
        "id": "OH-pJp9IphqM"
      },
      "source": [
        "#### Chart - 6"
      ]
    },
    {
      "cell_type": "code",
      "execution_count": null,
      "metadata": {
        "id": "kuRf4wtuphqN"
      },
      "outputs": [],
      "source": [
        "# Chart - 6 visualization code\n",
        "plt.style.use('dark_background')\n",
        "\n",
        "md.columns = md.columns.str.strip()\n",
        "plt.figure(figsize=(12, 8))\n",
        "ax = sns.countplot(x='TotalSleepRecords', data=md, hue=\"TotalSleepRecords\", palette=\"dark\", legend=0)\n",
        "plt.title('Count for Sleep Record', fontsize=18)\n",
        "plt.xlabel('Sleep Record', fontsize=12)\n",
        "plt.ylabel('Count', fontsize=12)\n",
        "for p in ax.patches:\n",
        "    count = int(p.get_height())\n",
        "    x = p.get_x() + p.get_width() / 2\n",
        "    y = p.get_height()\n",
        "    ax.annotate(\n",
        "        str(count),\n",
        "        (x, y),\n",
        "        ha='center',\n",
        "        va='bottom',\n",
        "        fontsize=11,\n",
        "        color='white',\n",
        "        fontweight='bold'\n",
        "    )\n",
        "\n",
        "plt.grid(False)\n",
        "plt.tight_layout()\n",
        "plt.show()"
      ]
    },
    {
      "cell_type": "markdown",
      "metadata": {
        "id": "bbFf2-_FphqN"
      },
      "source": [
        "##### 1. Why did you pick the specific chart?"
      ]
    },
    {
      "cell_type": "markdown",
      "metadata": {
        "id": "loh7H2nzphqN"
      },
      "source": [
        "The bar plot/ chart is great for showing count."
      ]
    },
    {
      "cell_type": "markdown",
      "metadata": {
        "id": "_ouA3fa0phqN"
      },
      "source": [
        "##### 2. What is/are the insight(s) found from the chart?"
      ]
    },
    {
      "cell_type": "markdown",
      "metadata": {
        "id": "VECbqPI7phqN"
      },
      "source": [
        "The following are the insights for the above bar plot:-\n",
        "\n",
        "1) Count for sleep record is 33."
      ]
    },
    {
      "cell_type": "markdown",
      "metadata": {
        "id": "Seke61FWphqN"
      },
      "source": [
        "##### 3. Will the gained insights help creating a positive business impact?\n",
        "Are there any insights that lead to negative growth? Justify with specific reason."
      ]
    },
    {
      "cell_type": "markdown",
      "metadata": {
        "id": "DW4_bGpfphqN"
      },
      "source": [
        "The above insights show that the count is very less for sleep record means strava should encourage the people to take better sleep by doing exercise and regualar workout sessions."
      ]
    },
    {
      "cell_type": "markdown",
      "metadata": {
        "id": "PIIx-8_IphqN"
      },
      "source": [
        "#### Chart - 7"
      ]
    },
    {
      "cell_type": "code",
      "execution_count": null,
      "metadata": {
        "id": "lqAIGUfyphqO"
      },
      "outputs": [],
      "source": [
        "# Chart - 7 visualization code\n",
        "plt.style.use('dark_background')\n",
        "\n",
        "\n",
        "numerical_features = ['VeryActiveMinutes_x','FairlyActiveMinutes_x','LightlyActiveMinutes_x','VeryActiveDistance_x',\n",
        "                     'TotalSteps','TotalDistance','TrackerDistance','StepTotal']\n",
        "\n",
        "plt.figure(figsize=(12, 10))\n",
        "\n",
        "for i, column in enumerate(numerical_features, 1):\n",
        "    plt.subplot(3, 3, i)\n",
        "    sns.histplot(md[column], kde=True, bins=30, color='lightgreen')\n",
        "    plt.title(f'Distribution of {column}', color='white')\n",
        "    plt.xlabel(column, color='white')\n",
        "    plt.ylabel('Count', color='white')\n",
        "\n",
        "\n",
        "    plt.grid(False)\n",
        "\n",
        "plt.tight_layout()\n",
        "plt.show()"
      ]
    },
    {
      "cell_type": "markdown",
      "metadata": {
        "id": "t27r6nlMphqO"
      },
      "source": [
        "##### 1. Why did you pick the specific chart?"
      ]
    },
    {
      "cell_type": "markdown",
      "metadata": {
        "id": "iv6ro40sphqO"
      },
      "source": [
        "The above chart is better for comparing numerical data types with each other and itself."
      ]
    },
    {
      "cell_type": "markdown",
      "metadata": {
        "id": "r2jJGEOYphqO"
      },
      "source": [
        "##### 2. What is/are the insight(s) found from the chart?"
      ]
    },
    {
      "cell_type": "markdown",
      "metadata": {
        "id": "Po6ZPi4hphqO"
      },
      "source": [
        "The following are the insights for the above chart:-\n",
        "\n",
        "1) Tracker distance highest count is 6.\n",
        "2) Highest count for total steps is 5.\n",
        "3) Highest count for very active minutes x is 17.5.\n",
        "4) Highest count for fairly active minutes x is 14.\n",
        "5) Highest count for lightly active minutes x is 4.\n",
        "6) Highest count for Very active distance x is 18."
      ]
    },
    {
      "cell_type": "markdown",
      "metadata": {
        "id": "b0JNsNcRphqO"
      },
      "source": [
        "##### 3. Will the gained insights help creating a positive business impact?\n",
        "Are there any insights that lead to negative growth? Justify with specific reason."
      ]
    },
    {
      "cell_type": "markdown",
      "metadata": {
        "id": "xvSq8iUTphqO"
      },
      "source": [
        "From above insights we can conclude that the strava app monitor on these parameters as they are well achieved by the user but surely there is hope for improvement."
      ]
    },
    {
      "cell_type": "markdown",
      "metadata": {
        "id": "BZR9WyysphqO"
      },
      "source": [
        "#### Chart - 8"
      ]
    },
    {
      "cell_type": "code",
      "execution_count": null,
      "metadata": {
        "id": "TdPTWpAVphqO"
      },
      "outputs": [],
      "source": [
        "# Chart - 8 visualization code\n",
        "data = md.groupby([\"TrackerDistance\", \"LoggedActivitiesDistance\"]).size().unstack(fill_value=0)\n",
        "\n",
        "# Normalize the data (percentage distribution)\n",
        "data_1 = data.div(data.sum(axis=1), axis=0) * 100\n",
        "\n",
        "# Plot stacked bar chart\n",
        "fig, ax = plt.subplots(figsize=(15, 8))  # Adjusted figure size\n",
        "data_1.plot(kind=\"barh\", stacked=True, colormap=\"viridis\", ax=ax)\n",
        "\n",
        "# Labels and title\n",
        "plt.xlabel(\"Distribution for Logged Activity Distance\")\n",
        "plt.ylabel(\"Tracked Distance\")\n",
        "plt.title(\"Distribution of Logged Activity Distance vs Tracked Distance\")\n",
        "plt.legend(title=\"Logged Activity Distance\", bbox_to_anchor=(1.05, 1), loc=\"upper left\")\n",
        "\n",
        "plt.tight_layout()\n",
        "plt.show()"
      ]
    },
    {
      "cell_type": "markdown",
      "metadata": {
        "id": "jj7wYXLtphqO"
      },
      "source": [
        "##### 1. Why did you pick the specific chart?"
      ]
    },
    {
      "cell_type": "markdown",
      "metadata": {
        "id": "Ob8u6rCTphqO"
      },
      "source": [
        "The above multi distribution bar chart is useful for showing various entities distribution for single variable value."
      ]
    },
    {
      "cell_type": "markdown",
      "metadata": {
        "id": "eZrbJ2SmphqO"
      },
      "source": [
        "##### 2. What is/are the insight(s) found from the chart?"
      ]
    },
    {
      "cell_type": "markdown",
      "metadata": {
        "id": "mZtgC_hjphqO"
      },
      "source": [
        "The following are the insights for the above chart:-\n",
        "\n",
        "1) For 6.05 Tracked distance the entire distribution is distributed for 2.25 logged activity distance.\n",
        "2) For 9.47 Tracked distance the entire distribution is distributed for 4.86 logged activity distance."
      ]
    },
    {
      "cell_type": "markdown",
      "metadata": {
        "id": "rFu4xreNphqO"
      },
      "source": [
        "##### 3. Will the gained insights help creating a positive business impact?\n",
        "Are there any insights that lead to negative growth? Justify with specific reason."
      ]
    },
    {
      "cell_type": "markdown",
      "metadata": {
        "id": "ey_0qi68phqO"
      },
      "source": [
        "The above chart shows that the tracked distance is significantly low as per standard goals, strava can help its users achieve better targets by spreading awareness about fitness and rewarding them if they complete their certain targets."
      ]
    },
    {
      "cell_type": "markdown",
      "metadata": {
        "id": "YJ55k-q6phqO"
      },
      "source": [
        "#### Chart - 9"
      ]
    },
    {
      "cell_type": "code",
      "execution_count": null,
      "metadata": {
        "id": "B2aS4O1ophqO"
      },
      "outputs": [],
      "source": [
        "# Chart - 9 visualization code\n",
        "plt.style.use('dark_background')\n",
        "\n",
        "data_cx = md.groupby([\"TotalSteps\", \"Calories_x\"]).size().unstack(fill_value=0)\n",
        "\n",
        "# Normalize the data (percentage distribution)\n",
        "data_cx1 = data_cx.div(data_cx.sum(axis=1), axis=0) * 100\n",
        "\n",
        "# Select top 20 stations by total trip count (sum of all user types per station)\n",
        "TotalSteps_1 = data_cx.sum(axis=1).sort_values(ascending=False).head(10).index\n",
        "TotalSteps_cx = data_cx1.loc[TotalSteps_1]\n",
        "\n",
        "# Plot stacked bar chart\n",
        "fig, ax = plt.subplots(figsize=(15, 8))  # Adjusted figure size\n",
        "TotalSteps_cx.plot(kind=\"barh\", stacked=True, colormap=\"magma\", ax=ax)\n",
        "\n",
        "# Labels and title\n",
        "plt.xlabel(\"Distribution for Calories_x\")\n",
        "plt.ylabel(\"Total Steps Count\")\n",
        "plt.title(\"Distribution of Calories_x vs Total Steps Count (Top 10)\")\n",
        "plt.legend(title=\"Calories_x\", bbox_to_anchor=(1.05, 1), loc=\"upper left\")\n",
        "\n",
        "plt.tight_layout()\n",
        "plt.show()"
      ]
    },
    {
      "cell_type": "markdown",
      "metadata": {
        "id": "gCFgpxoyphqP"
      },
      "source": [
        "##### 1. Why did you pick the specific chart?"
      ]
    },
    {
      "cell_type": "markdown",
      "metadata": {
        "id": "TVxDimi2phqP"
      },
      "source": [
        "The above multi distribution bar chart is useful for showing various entities distribution for single variable value."
      ]
    },
    {
      "cell_type": "markdown",
      "metadata": {
        "id": "OVtJsKN_phqQ"
      },
      "source": [
        "##### 2. What is/are the insight(s) found from the chart?"
      ]
    },
    {
      "cell_type": "markdown",
      "metadata": {
        "id": "ngGi97qjphqQ"
      },
      "source": [
        "The following are the insights for the above chart:-\n",
        "\n",
        "1) Every step count has distribution of single entity for its whole distribution except for 0 step count.\n",
        "2) For 0 step count 50% distribution is for calories_x 1496 and other 50% distribution for 1909 calories_x.\n",
        "3) For step count 678 the whole distribution is distributed for 2390 calories_x."
      ]
    },
    {
      "cell_type": "markdown",
      "metadata": {
        "id": "lssrdh5qphqQ"
      },
      "source": [
        "##### 3. Will the gained insights help creating a positive business impact?\n",
        "Are there any insights that lead to negative growth? Justify with specific reason."
      ]
    },
    {
      "cell_type": "markdown",
      "metadata": {
        "id": "tBpY5ekJphqQ"
      },
      "source": [
        "The calories which are burned by user has great distribution for steps they have completed, strava can use this data and apply in their campaign ideas for spreading awareness about both fitness and app."
      ]
    },
    {
      "cell_type": "markdown",
      "metadata": {
        "id": "U2RJ9gkRphqQ"
      },
      "source": [
        "#### Chart - 10"
      ]
    },
    {
      "cell_type": "code",
      "execution_count": null,
      "metadata": {
        "id": "GM7a4YP4phqQ"
      },
      "outputs": [],
      "source": [
        "# Chart - 10 visualization code\n",
        "plt.style.use('dark_background')\n",
        "\n",
        "data_cy = md.groupby([\"TotalSteps\", \"Calories_y\"]).size().unstack(fill_value=0)\n",
        "\n",
        "# Normalize the data (percentage distribution)\n",
        "data_cy1 = data_cy.div(data_cy.sum(axis=1), axis=0) * 100\n",
        "\n",
        "# Select top 20 stations by total trip count (sum of all user types per station)\n",
        "TotalSteps_2 = data_cy.sum(axis=1).sort_values(ascending=False).head(10).index\n",
        "TotalSteps_cy = data_cy1.loc[TotalSteps_2]\n",
        "\n",
        "# Plot stacked bar chart\n",
        "fig, ax = plt.subplots(figsize=(15, 8))  # Adjusted figure size\n",
        "TotalSteps_cy.plot(kind=\"barh\", stacked=True, colormap=\"mako\", ax=ax)\n",
        "\n",
        "# Labels and title\n",
        "plt.xlabel(\"Distribution for Calories_y\")\n",
        "plt.ylabel(\"Total Steps Count\")\n",
        "plt.title(\"Distribution of Calories_y vs Total Steps Count (Top 10)\")\n",
        "plt.legend(title=\"Calories_y\", bbox_to_anchor=(1.05, 1), loc=\"upper left\")\n",
        "\n",
        "plt.tight_layout()\n",
        "plt.show()"
      ]
    },
    {
      "cell_type": "markdown",
      "metadata": {
        "id": "1M8mcRywphqQ"
      },
      "source": [
        "##### 1. Why did you pick the specific chart?"
      ]
    },
    {
      "cell_type": "markdown",
      "metadata": {
        "id": "8agQvks0phqQ"
      },
      "source": [
        "The above multi distribution bar chart is useful for showing various entities distribution for single variable value."
      ]
    },
    {
      "cell_type": "markdown",
      "metadata": {
        "id": "tgIPom80phqQ"
      },
      "source": [
        "##### 2. What is/are the insight(s) found from the chart?"
      ]
    },
    {
      "cell_type": "markdown",
      "metadata": {
        "id": "Qp13pnNzphqQ"
      },
      "source": [
        "The following are the insights for the above chart:-\n",
        "\n",
        "1) Every step count has distribution of single entity for its whole distribution except for 0 step count.\n",
        "2) For 0 step count 50% distribution is for calories_y 1788 and other 50% distribution for 1982 calories_y.\n",
        "3) For step count 678 the whole distribution is distributed for 2772 calories_y."
      ]
    },
    {
      "cell_type": "markdown",
      "metadata": {
        "id": "JMzcOPDDphqR"
      },
      "source": [
        "##### 3. Will the gained insights help creating a positive business impact?\n",
        "Are there any insights that lead to negative growth? Justify with specific reason."
      ]
    },
    {
      "cell_type": "markdown",
      "metadata": {
        "id": "R4Ka1PC2phqR"
      },
      "source": [
        "The calories which are burned by user has great distribution for steps they have completed, strava can use this data and apply in their campaign ideas for spreading awareness about both fitness and app."
      ]
    },
    {
      "cell_type": "markdown",
      "metadata": {
        "id": "x-EpHcCOp1ci"
      },
      "source": [
        "#### Chart - 11"
      ]
    },
    {
      "cell_type": "code",
      "execution_count": null,
      "metadata": {
        "id": "mAQTIvtqp1cj"
      },
      "outputs": [],
      "source": [
        "# Chart - 11 visualization code\n",
        "plt.style.use('dark_background')\n",
        "\n",
        "# Remove any leading or trailing spaces from column names\n",
        "md.columns = md.columns.str.strip()\n",
        "\n",
        "# Sort by date_added and release_year, then select the top 15\n",
        "top_date_added = md[['TotalSteps', 'ActivityDate']].sort_values(by='TotalSteps', ascending=False).head(15)\n",
        "\n",
        "# Plot the results\n",
        "plt.figure(figsize=(15, 8))\n",
        "plt.plot(top_date_added['TotalSteps'], top_date_added['ActivityDate'], marker=\"o\", color='tab:blue', linestyle='-', linewidth=2)\n",
        "\n",
        "plt.xlabel(\"Total Steps Count\")\n",
        "plt.ylabel(\"Activity Date\")\n",
        "plt.title(\"(Top 15) Total Steps Vs Activity Date\")\n",
        "plt.grid(True)\n",
        "plt.tight_layout()\n",
        "plt.show()"
      ]
    },
    {
      "cell_type": "markdown",
      "metadata": {
        "id": "X_VqEhTip1ck"
      },
      "source": [
        "##### 1. Why did you pick the specific chart?"
      ]
    },
    {
      "cell_type": "markdown",
      "metadata": {
        "id": "-vsMzt_np1ck"
      },
      "source": [
        "The multi line chart distribution gives great trend analysis for any variable over a specific period of time."
      ]
    },
    {
      "cell_type": "markdown",
      "metadata": {
        "id": "8zGJKyg5p1ck"
      },
      "source": [
        "##### 2. What is/are the insight(s) found from the chart?"
      ]
    },
    {
      "cell_type": "markdown",
      "metadata": {
        "id": "ZYdMsrqVp1ck"
      },
      "source": [
        "The following are the insights for above multi-line chart:-\n",
        "\n",
        "1) The above chart shows constant stagnant growth for Total steps by activity date.\n",
        "2) The most congession of distribution of total steps for activity date is between 0-14000 total steps count."
      ]
    },
    {
      "cell_type": "markdown",
      "metadata": {
        "id": "PVzmfK_Ep1ck"
      },
      "source": [
        "##### 3. Will the gained insights help creating a positive business impact?\n",
        "Are there any insights that lead to negative growth? Justify with specific reason."
      ]
    },
    {
      "cell_type": "markdown",
      "metadata": {
        "id": "druuKYZpp1ck"
      },
      "source": [
        "This shows that many people are completing target of almost 14000 total steps count,but for slight improvement and to get better results, strava app can encourage its users by organizing campaigns, webinars, awareness seminars or rewarding system if some user completes certain level of target helping them achieve their fitness target faster and also it will help in marketing strava app among users."
      ]
    },
    {
      "cell_type": "markdown",
      "metadata": {
        "id": "n3dbpmDWp1ck"
      },
      "source": [
        "#### Chart - 12"
      ]
    },
    {
      "cell_type": "code",
      "execution_count": null,
      "metadata": {
        "id": "bwevp1tKp1ck"
      },
      "outputs": [],
      "source": [
        "# Chart - 12 visualization code\n",
        "plt.style.use('dark_background')\n",
        "\n",
        "# Remove any leading or trailing spaces from column names\n",
        "md.columns = md.columns.str.strip()\n",
        "\n",
        "# Sort by date_added and release_year, then select the top 15\n",
        "top_distance = md[['TotalDistance', 'ActivityDate']].sort_values(by='TotalDistance', ascending=False).head(15)\n",
        "\n",
        "# Plot the results\n",
        "plt.figure(figsize=(15, 8))\n",
        "plt.plot(top_distance['TotalDistance'], top_distance['ActivityDate'], marker=\"o\", color='tab:blue', linestyle='-', linewidth=2)\n",
        "\n",
        "plt.xlabel(\"Total Distance\")\n",
        "plt.ylabel(\"Activity Date\")\n",
        "plt.title(\"(Top 15) Total Distance Vs Activity Date\")\n",
        "plt.grid(True)\n",
        "plt.tight_layout()\n",
        "plt.show()"
      ]
    },
    {
      "cell_type": "markdown",
      "metadata": {
        "id": "ylSl6qgtp1ck"
      },
      "source": [
        "##### 1. Why did you pick the specific chart?"
      ]
    },
    {
      "cell_type": "markdown",
      "metadata": {
        "id": "m2xqNkiQp1ck"
      },
      "source": [
        "The multi line chart distribution gives great trend analysis for any variable over a specific period of time."
      ]
    },
    {
      "cell_type": "markdown",
      "metadata": {
        "id": "ZWILFDl5p1ck"
      },
      "source": [
        "##### 2. What is/are the insight(s) found from the chart?"
      ]
    },
    {
      "cell_type": "markdown",
      "metadata": {
        "id": "x-lUsV2mp1ck"
      },
      "source": [
        "The following are the insights for above multi-line chart:-\n",
        "\n",
        "1) The above chart shows constant stagnant growth for Total distance by activity date.\n",
        "2) The most congession of distribution of total distance for activity date is between 6-10 total distance units.\n"
      ]
    },
    {
      "cell_type": "markdown",
      "metadata": {
        "id": "M7G43BXep1ck"
      },
      "source": [
        "##### 3. Will the gained insights help creating a positive business impact?\n",
        "Are there any insights that lead to negative growth? Justify with specific reason."
      ]
    },
    {
      "cell_type": "markdown",
      "metadata": {
        "id": "5wwDJXsLp1cl"
      },
      "source": [
        "This shows that very few people are completing target of 10 or more total distance covered, for more and more people completing this target strava app can encourage its users by organizing campaigns, webinars, awareness seminars or rewarding system if some user completes certain level of target helping them achieve their fitness target faster and also it will help in marketing strava app among users."
      ]
    },
    {
      "cell_type": "markdown",
      "metadata": {
        "id": "Ag9LCva-p1cl"
      },
      "source": [
        "#### Chart - 13"
      ]
    },
    {
      "cell_type": "code",
      "execution_count": null,
      "metadata": {
        "id": "EUfxeq9-p1cl"
      },
      "outputs": [],
      "source": [
        "# Chart - 13 visualization code\n",
        "plt.style.use('dark_background')\n",
        "\n",
        "# Remove any leading or trailing spaces from column names\n",
        "md.columns = md.columns.str.strip()\n",
        "\n",
        "# Sort by date_added and release_year, then select the top 15\n",
        "top_tracked = md[['TrackerDistance', 'ActivityDate']].sort_values(by='TrackerDistance', ascending=False).head(15)\n",
        "\n",
        "# Plot the results\n",
        "plt.figure(figsize=(15, 8))\n",
        "plt.plot(top_tracked['TrackerDistance'], top_tracked['ActivityDate'], marker=\"o\", color='tab:blue', linestyle='-', linewidth=2)\n",
        "\n",
        "plt.xlabel(\"Total Tracked Distance\")\n",
        "plt.ylabel(\"Activity Date\")\n",
        "plt.title(\"(Top 15) Total Tracked Distance Vs Activity Date\")\n",
        "plt.grid(True)\n",
        "plt.tight_layout()\n",
        "plt.show()"
      ]
    },
    {
      "cell_type": "markdown",
      "metadata": {
        "id": "E6MkPsBcp1cl"
      },
      "source": [
        "##### 1. Why did you pick the specific chart?"
      ]
    },
    {
      "cell_type": "markdown",
      "metadata": {
        "id": "V22bRsFWp1cl"
      },
      "source": [
        "The multi line chart distribution gives great trend analysis for any variable over a specific period of time."
      ]
    },
    {
      "cell_type": "markdown",
      "metadata": {
        "id": "2cELzS2fp1cl"
      },
      "source": [
        "##### 2. What is/are the insight(s) found from the chart?"
      ]
    },
    {
      "cell_type": "markdown",
      "metadata": {
        "id": "ozQPc2_Ip1cl"
      },
      "source": [
        "The following are the insights for above multi-line chart:-\n",
        "\n",
        "1) The above chart shows constant stagnant growth for Total tracked distance by activity date.\n",
        "2) The most congession of distribution of total distance for activity date is between 6-10 total tracked distance units.\n"
      ]
    },
    {
      "cell_type": "markdown",
      "metadata": {
        "id": "3MPXvC8up1cl"
      },
      "source": [
        "##### 3. Will the gained insights help creating a positive business impact?\n",
        "Are there any insights that lead to negative growth? Justify with specific reason."
      ]
    },
    {
      "cell_type": "markdown",
      "metadata": {
        "id": "GL8l1tdLp1cl"
      },
      "source": [
        "This shows that very few people are completing target of 10 or more total tracked distance covered, for more and more people completing this target strava app can encourage its users by organizing campaigns, webinars, awareness seminars or rewarding system if some user completes certain level of target helping them achieve their fitness target faster and also it will help in marketing strava app among users."
      ]
    },
    {
      "cell_type": "markdown",
      "metadata": {
        "id": "NC_X3p0fY2L0"
      },
      "source": [
        "#### Chart - 14 - Correlation Heatmap"
      ]
    },
    {
      "cell_type": "code",
      "execution_count": null,
      "metadata": {
        "id": "xyC9zolEZNRQ"
      },
      "outputs": [],
      "source": [
        "# Correlation Heatmap visualization code\n",
        "columns_to_include = [\n",
        "    'VeryActiveMinutes_x','FairlyActiveMinutes_x','LightlyActiveMinutes_x','VeryActiveDistance_x',\n",
        "    'ModeratelyActiveDistance_x','LightActiveDistance_x','TotalSteps','TotalDistance','TrackerDistance',\n",
        "    'StepTotal','SedentaryMinutes_x','SedentaryMinutes_y']\n",
        "\n",
        "# Filter the DataFrame using column names\n",
        "md2 = md[columns_to_include]\n",
        "\n",
        "# Compute the correlation matrix\n",
        "md3 = md2.corr()\n",
        "\n",
        "# Plot the heatmap\n",
        "plt.figure(figsize=(18, 10))\n",
        "sns.heatmap(md3, annot=True, cmap=\"rainbow\", fmt=\".2f\")\n",
        "plt.title(\"Correlation Heatmap\")\n",
        "plt.show()"
      ]
    },
    {
      "cell_type": "markdown",
      "metadata": {
        "id": "UV0SzAkaZNRQ"
      },
      "source": [
        "##### 1. Why did you pick the specific chart?"
      ]
    },
    {
      "cell_type": "markdown",
      "metadata": {
        "id": "DVPuT8LYZNRQ"
      },
      "source": [
        "Heatmap gives better correlation between various numerical variables in a single chart."
      ]
    },
    {
      "cell_type": "markdown",
      "metadata": {
        "id": "YPEH6qLeZNRQ"
      },
      "source": [
        "##### 2. What is/are the insight(s) found from the chart?"
      ]
    },
    {
      "cell_type": "markdown",
      "metadata": {
        "id": "bfSqtnDqZNRR"
      },
      "source": [
        "The Following are the insights for the above heatmap:-\n",
        "\n",
        "1) The highest correlation is between Total distance and Total steps with value of 0.98.\n",
        "2) Second highest correlation is between moderately active distance _x and Fairly active minutes _x with value of 0.97.\n",
        "3) Third highest correlation is between Very active distance _x and very active minutes_x with value of 0.88."
      ]
    },
    {
      "cell_type": "markdown",
      "metadata": {
        "id": "q29F0dvdveiT"
      },
      "source": [
        "#### Chart - 15 - Pair Plot"
      ]
    },
    {
      "cell_type": "code",
      "execution_count": null,
      "metadata": {
        "id": "o58-TEIhveiU"
      },
      "outputs": [],
      "source": [
        "# Pair Plot visualization code\n",
        "columns_to_include = [\n",
        "    'VeryActiveMinutes_x','FairlyActiveMinutes_x','LightlyActiveMinutes_x','VeryActiveDistance_x',\n",
        "    'ModeratelyActiveDistance_x','LightActiveDistance_x','TotalSteps','TotalDistance','TrackerDistance',\n",
        "    'StepTotal','SedentaryMinutes_x','SedentaryMinutes_y'\n",
        "]\n",
        "\n",
        "# Filter the DataFrame using selected columns\n",
        "md2 = md[columns_to_include]\n",
        "\n",
        "# Plot the pair plot with controlled figure size (approx 4 plots per row)\n",
        "sns.pairplot(md2,\n",
        "             corner=True,\n",
        "             diag_kind='kde',\n",
        "             plot_kws={'alpha': 0.6, 's': 40},\n",
        "             height=3,     # Height of each subplot\n",
        "             aspect=1)     # Width = height × aspect ratio\n",
        "\n",
        "plt.suptitle(\"Pair Plot of Activity Metrics\", y=1.02, fontsize=26)\n",
        "plt.tight_layout()\n",
        "plt.show()"
      ]
    },
    {
      "cell_type": "markdown",
      "metadata": {
        "id": "EXh0U9oCveiU"
      },
      "source": [
        "##### 1. Why did you pick the specific chart?"
      ]
    },
    {
      "cell_type": "markdown",
      "metadata": {
        "id": "eMmPjTByveiU"
      },
      "source": [
        "The pair plot is better for comparing various numerical variables in trend analysis style."
      ]
    },
    {
      "cell_type": "markdown",
      "metadata": {
        "id": "22aHeOlLveiV"
      },
      "source": [
        "##### 2. What is/are the insight(s) found from the chart?"
      ]
    },
    {
      "cell_type": "markdown",
      "metadata": {
        "id": "uPQ8RGwHveiV"
      },
      "source": [
        "The following are the insights for the above pair plot:-\n",
        "\n",
        "1) Every single variable when compared with itself is showing steady straight slant increasing line which shows consistency.\n",
        "2) When variables are compared with each other they are showing depreciating trend after certain point."
      ]
    },
    {
      "cell_type": "markdown",
      "metadata": {
        "id": "JcMwzZxoAimU"
      },
      "source": [
        "## **5. Solution to Business Objective**"
      ]
    },
    {
      "cell_type": "markdown",
      "metadata": {
        "id": "8G2x9gOozGDZ"
      },
      "source": [
        "#### What do you suggest the client to achieve Business Objective ?\n",
        "Explain Briefly."
      ]
    },
    {
      "cell_type": "markdown",
      "metadata": {
        "id": "pASKb0qOza21"
      },
      "source": [
        "The following are the suggestions for the business to improve and achieve their targets and solve business problems:-\n",
        "\n",
        "1) The strava app can encourage people to track their distance as people are completing lot of steps per day but not logging in or tracking distance on app which ultimately will not generate fair manual report at the end of month.\n",
        "2) Strava app can organize campaigns, seminars, webinars or rewarding system to encourage people join their app to achieve fitness targets, which ultimately will make people fit as well as increase profits for app.\n",
        "3) Strava app can make a system if certain level of target is achieved by the user the user will get offer or discount on paid membership/ subscription, this will encourage people to stay fit and health and also help strava app to gain those extra premium users, ultimately increasing profits for the company."
      ]
    },
    {
      "cell_type": "markdown",
      "metadata": {
        "id": "gCX9965dhzqZ"
      },
      "source": [
        "# **Conclusion**"
      ]
    },
    {
      "cell_type": "markdown",
      "metadata": {
        "id": "Fjb1IsQkh3yE"
      },
      "source": [
        "The following are the conclusion for the above analysis:-\n",
        "\n",
        "1) There are 1004 rows and 6 duplicate rows.\n",
        "2) There are 39 columns.\n",
        "3) Removed 6 duplicate rows.\n",
        "4) Replaced all the missing values in the columns with numerical value 0.\n",
        "5) The Count total steps for the activity date is 8236.\n",
        "6) The count of distance is 5 KM for the activity date.\n",
        "7) Maximum Step count distribution is for ID 0 with 18% distribution.\n",
        "8) Second highest is for ID 14172 with 9% distribution.\n",
        "9) Count for sleep record is 33.\n",
        "10) The highest correlation is between Total distance and Total steps with value of 0.98.\n",
        "11) Second highest correlation is between moderately active distance _x and Fairly active minutes _x with value of 0.97.\n",
        "12) Third highest correlation is between Very active distance _x and very active minutes_x with value of 0.88.\n",
        "\n",
        "The above are summary or concluding points for the above data analysis."
      ]
    },
    {
      "cell_type": "markdown",
      "metadata": {
        "id": "dYX880etpL0x"
      },
      "source": []
    }
  ],
  "metadata": {
    "colab": {
      "collapsed_sections": [
        "vncDsAP0Gaoa",
        "FJNUwmbgGyua",
        "w6K7xa23Elo4",
        "yQaldy8SH6Dl",
        "PH-0ReGfmX4f",
        "mDgbUHAGgjLW",
        "O_i_v8NEhb9l",
        "HhfV-JJviCcP",
        "Y3lxredqlCYt",
        "3RnN4peoiCZX",
        "x71ZqKXriCWQ",
        "7hBIi_osiCS2",
        "JlHwYmJAmNHm",
        "35m5QtbWiB9F",
        "PoPl-ycgm1ru",
        "H0kj-8xxnORC",
        "nA9Y7ga8ng1Z",
        "PBTbrJXOngz2",
        "u3PMJOP6ngxN",
        "dauF4eBmngu3",
        "bKJF3rekwFvQ",
        "MSa1f5Uengrz",
        "GF8Ens_Soomf",
        "0wOQAZs5pc--",
        "K5QZ13OEpz2H",
        "lQ7QKXXCp7Bj",
        "448CDAPjqfQr",
        "KSlN3yHqYklG",
        "t6dVpIINYklI",
        "ijmpgYnKYklI",
        "-JiQyfWJYklI",
        "EM7whBJCYoAo",
        "fge-S5ZAYoAp",
        "85gYPyotYoAp",
        "RoGjAbkUYoAp",
        "4Of9eVA-YrdM",
        "iky9q4vBYrdO",
        "F6T5p64dYrdO",
        "y-Ehk30pYrdP",
        "bamQiAODYuh1",
        "QHF8YVU7Yuh3",
        "GwzvFGzlYuh3",
        "qYpmQ266Yuh3",
        "OH-pJp9IphqM",
        "bbFf2-_FphqN",
        "_ouA3fa0phqN",
        "Seke61FWphqN",
        "PIIx-8_IphqN",
        "t27r6nlMphqO",
        "r2jJGEOYphqO",
        "b0JNsNcRphqO",
        "BZR9WyysphqO",
        "jj7wYXLtphqO",
        "eZrbJ2SmphqO",
        "rFu4xreNphqO",
        "YJ55k-q6phqO",
        "gCFgpxoyphqP",
        "OVtJsKN_phqQ",
        "lssrdh5qphqQ",
        "U2RJ9gkRphqQ",
        "1M8mcRywphqQ",
        "tgIPom80phqQ",
        "JMzcOPDDphqR",
        "x-EpHcCOp1ci",
        "X_VqEhTip1ck",
        "8zGJKyg5p1ck",
        "PVzmfK_Ep1ck",
        "n3dbpmDWp1ck",
        "ylSl6qgtp1ck",
        "ZWILFDl5p1ck",
        "M7G43BXep1ck",
        "Ag9LCva-p1cl",
        "E6MkPsBcp1cl",
        "2cELzS2fp1cl",
        "3MPXvC8up1cl",
        "NC_X3p0fY2L0",
        "UV0SzAkaZNRQ",
        "YPEH6qLeZNRQ",
        "q29F0dvdveiT",
        "EXh0U9oCveiU",
        "22aHeOlLveiV",
        "JcMwzZxoAimU",
        "8G2x9gOozGDZ",
        "gCX9965dhzqZ",
        "gIfDvo9L0UH2"
      ],
      "private_outputs": true,
      "provenance": []
    },
    "kernelspec": {
      "display_name": "Python 3 (ipykernel)",
      "language": "python",
      "name": "python3"
    },
    "language_info": {
      "codemirror_mode": {
        "name": "ipython",
        "version": 3
      },
      "file_extension": ".py",
      "mimetype": "text/x-python",
      "name": "python",
      "nbconvert_exporter": "python",
      "pygments_lexer": "ipython3",
      "version": "3.12.7"
    }
  },
  "nbformat": 4,
  "nbformat_minor": 0
}