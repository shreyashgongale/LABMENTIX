{
  "cells": [
    {
      "cell_type": "markdown",
      "metadata": {
        "id": "I1apcow5dxii"
      },
      "source": [
        "### Flipkart Customer Data Analysis Project"
      ]
    },
    {
      "cell_type": "markdown",
      "metadata": {
        "id": "vncDsAP0Gaoa"
      },
      "source": [
        "# **Project Name**    -  Flipkart Customer Data EDA\n",
        "\n"
      ]
    },
    {
      "cell_type": "markdown",
      "metadata": {
        "id": "beRrZCGUAJYm"
      },
      "source": [
        "##### **Project Type**    - EDA\n",
        "##### **Contribution**    - Individual\n",
        "##### **Name**            - SHREYASH FULCHAND GONGALE"
      ]
    },
    {
      "cell_type": "markdown",
      "metadata": {
        "id": "FJNUwmbgGyua"
      },
      "source": [
        "# **Project Summary -**"
      ]
    },
    {
      "cell_type": "markdown",
      "metadata": {
        "id": "F6v_1wHtG2nS"
      },
      "source": [
        "**Flipkart Private Limited is an Indian e-commerce company, headquartered in Bangalore, and incorporated in Singapore as a private limited company.It is one of the largest e-commerce market place for customers to buy stuff from anywhere and anytime, flipkart believes in customer statisfaction and to achieve this we have been provided with a dataset where customer statisfaction scores, ratings and reviews are present. We have to do anlyze this dataset with the help of EDA process to find solutions to various business problems.**"
      ]
    },
    {
      "cell_type": "markdown",
      "metadata": {
        "id": "w6K7xa23Elo4"
      },
      "source": [
        "# **GitHub Link -**"
      ]
    },
    {
      "cell_type": "markdown",
      "metadata": {
        "id": "yQaldy8SH6Dl"
      },
      "source": [
        "# **Problem Statement**\n"
      ]
    },
    {
      "cell_type": "markdown",
      "metadata": {
        "id": "DpeJGUA3kjGy"
      },
      "source": [
        "**The Problem statement is to find which are the measures and reasons to trigger sales and also analyze customer behaviour and their statisfaction level by doing EDA on the given dataset ?**"
      ]
    },
    {
      "cell_type": "markdown",
      "metadata": {
        "id": "PH-0ReGfmX4f"
      },
      "source": [
        "#### **Define Your Business Objective?**"
      ]
    },
    {
      "cell_type": "markdown",
      "metadata": {
        "id": "PhDvGCAqmjP1"
      },
      "source": [
        "##### The business objective for the flipkart customer statisfaction analysis are as follows:-\n",
        "\n",
        "1) To do pre processing, data cleaning, data wrangling, EDA, use of various types of charts and lineplots to analyze the data on the given dataset.\n",
        "2) To analyze the reasons which are behind customer statisfaction level and how we can make it even better for them.\n",
        "3) To analyze the patterns and trends which make better experience for customer and how we can improve.\n",
        "4) To Solve business problems by analyzing these parameters and find solution for improvement.\n",
        "5) To summarize the situation and find points which can be improved.\n",
        "\n",
        "##### These are some business objectives which we have to solve and find solutions for it."
      ]
    },
    {
      "cell_type": "markdown",
      "metadata": {
        "id": "HhfV-JJviCcP"
      },
      "source": [
        "## ***1. Know Your Data***"
      ]
    },
    {
      "cell_type": "markdown",
      "metadata": {
        "id": "Y3lxredqlCYt"
      },
      "source": [
        "### Import Libraries"
      ]
    },
    {
      "cell_type": "code",
      "execution_count": null,
      "metadata": {
        "id": "M8Vqi-pPk-HR"
      },
      "outputs": [],
      "source": [
        "# Import Libraries\n",
        "import pandas as pd\n",
        "import numpy as np\n",
        "import seaborn as sns\n",
        "import matplotlib.pyplot as plt\n",
        "import matplotlib.cm as cm\n",
        "import random\n",
        "from wordcloud import WordCloud\n",
        "import ast"
      ]
    },
    {
      "cell_type": "markdown",
      "metadata": {
        "id": "3RnN4peoiCZX"
      },
      "source": [
        "### Dataset Loading"
      ]
    },
    {
      "cell_type": "code",
      "execution_count": null,
      "metadata": {
        "id": "4CkvbW_SlZ_R"
      },
      "outputs": [],
      "source": [
        "# Load Dataset\n",
        "md = pd.read_csv(\"/content/Customer_support_data.csv\")"
      ]
    },
    {
      "cell_type": "markdown",
      "metadata": {
        "id": "x71ZqKXriCWQ"
      },
      "source": [
        "### Dataset First View"
      ]
    },
    {
      "cell_type": "code",
      "execution_count": null,
      "metadata": {
        "id": "LWNFOSvLl09H"
      },
      "outputs": [],
      "source": [
        "# Dataset First Look\n",
        "md.head()"
      ]
    },
    {
      "cell_type": "markdown",
      "metadata": {
        "id": "7hBIi_osiCS2"
      },
      "source": [
        "### Dataset Rows & Columns count"
      ]
    },
    {
      "cell_type": "code",
      "execution_count": null,
      "metadata": {
        "id": "Kllu7SJgmLij"
      },
      "outputs": [],
      "source": [
        "# Dataset Rows & Columns count\n",
        "md.shape"
      ]
    },
    {
      "cell_type": "markdown",
      "metadata": {
        "id": "JlHwYmJAmNHm"
      },
      "source": [
        "### Dataset Information"
      ]
    },
    {
      "cell_type": "code",
      "execution_count": null,
      "metadata": {
        "id": "e9hRXRi6meOf"
      },
      "outputs": [],
      "source": [
        "# Dataset Info\n",
        "md.info()"
      ]
    },
    {
      "cell_type": "markdown",
      "metadata": {
        "id": "35m5QtbWiB9F"
      },
      "source": [
        "#### Duplicate Values"
      ]
    },
    {
      "cell_type": "code",
      "execution_count": null,
      "metadata": {
        "id": "1sLdpKYkmox0"
      },
      "outputs": [],
      "source": [
        "# Dataset Duplicate Value Count\n",
        "# Check for duplicate values\n",
        "duplicates = md.duplicated(keep=False)\n",
        "\n",
        "# Count the duplicate values\n",
        "duplicate_count = duplicates.value_counts()\n",
        "\n",
        "print(duplicate_count)"
      ]
    },
    {
      "cell_type": "markdown",
      "metadata": {
        "id": "PoPl-ycgm1ru"
      },
      "source": [
        "#### Missing Values/Null Values"
      ]
    },
    {
      "cell_type": "code",
      "execution_count": null,
      "metadata": {
        "id": "GgHWkxvamxVg"
      },
      "outputs": [],
      "source": [
        "# Missing Values/Null Values Count\n",
        "md.isnull().sum()"
      ]
    },
    {
      "cell_type": "code",
      "execution_count": null,
      "metadata": {
        "id": "3q5wnI3om9sJ"
      },
      "outputs": [],
      "source": [
        "# Visualizing the missing values\n",
        "import missingno as ms\n",
        "ms.bar(md)\n",
        "plt.show()"
      ]
    },
    {
      "cell_type": "markdown",
      "metadata": {
        "id": "H0kj-8xxnORC"
      },
      "source": [
        "### What did you know about your dataset?"
      ]
    },
    {
      "cell_type": "markdown",
      "metadata": {
        "id": "gfoNAAC-nUe_"
      },
      "source": [
        "##### The following are important points about the dataset:-\n",
        "\n",
        "1) The dataset contains 85907 rows and 20 columns.\n",
        "2) The Columns have no duplicate values and have some null values, the following columns have null or empty values\n",
        "customer remarks, order_id, order_date_time, customer_city, product_category, item_price, connected_handling_time , total 6 columns have null or empty values.\n",
        "\n",
        "**Columns** -------------    **count of null or empty values**\n",
        "\n",
        "1) customer remarks-----        57165\n",
        "2) order_id-----                18232\n",
        "3) order_date_time-----         68693\n",
        "4) customer_city-----           68828\n",
        "5) product_category-----        68711\n",
        "6) item_price-----              68701\n",
        "7) connected_handling_time----- 85665"
      ]
    },
    {
      "cell_type": "markdown",
      "metadata": {
        "id": "nA9Y7ga8ng1Z"
      },
      "source": [
        "## ***2. Understanding Your Variables***"
      ]
    },
    {
      "cell_type": "code",
      "execution_count": null,
      "metadata": {
        "id": "j7xfkqrt5Ag5"
      },
      "outputs": [],
      "source": [
        "# Dataset Columns\n",
        "md.columns"
      ]
    },
    {
      "cell_type": "code",
      "execution_count": null,
      "metadata": {
        "id": "DnOaZdaE5Q5t"
      },
      "outputs": [],
      "source": [
        "# Dataset Describe\n",
        "md.describe()"
      ]
    },
    {
      "cell_type": "markdown",
      "metadata": {
        "id": "PBTbrJXOngz2"
      },
      "source": [
        "### Variables Description"
      ]
    },
    {
      "cell_type": "markdown",
      "metadata": {
        "id": "aJV4KIxSnxay"
      },
      "source": [
        "##### The following are the description for the variables of the dataset:-\n",
        "\n",
        "1) Unique id----Unique id for product.\n",
        "2) channel_name----type of call whether it is inbound or outcall or email.\n",
        "3) category----type of query by customer.\n",
        "4) Sub-category----details of query through sub query.\n",
        "5) Customer Remarks----remarks by customer related to the product query.\n",
        "6) Order_id----order id is the id of product when the customer bought it from the website.\n",
        "7) order_date_time----order date time refers to time and date of purchase for the product.\n",
        "8) Issue_reported at----time and date at which the issue was reported by the customer.\n",
        "9) issue_responded----time and date at which the issue was responded by the support team.\n",
        "10) Survey_response_Date----the date on which the issue was responded by the support team.\n",
        "11) Customer_City----city from where the customer belongs to.\n",
        "12) Product_category----category of the product.\n",
        "13) Item_price----price of the product.\n",
        "14) connected_handling_time----Total time for which the customer talked with support team either on call or on chat support.\n",
        "15) Agent_name----Agent name is who handled the query of the customer.\n",
        "16) Supervisor----Supervisor who manages a team of agents and monitors the support team work flow.\n",
        "17) Manager----Manager is the project leader or an authorised personel who manages many supervisors and assigns them customer support projects.\n",
        "18) Tenure Bucket----seniority of the agent who is handling customer support queries.\n",
        "19) Agent Shift----Shift of the agent when he was working and handling this query.\n",
        "20) CSAT Score----Customer Statisfaction Score given by the customer after getting his/her query solved.\n",
        "\n",
        "##### These are the descriptions for the all the 20 variables which are present in the dataset."
      ]
    },
    {
      "cell_type": "markdown",
      "metadata": {
        "id": "u3PMJOP6ngxN"
      },
      "source": [
        "### Check Unique Values for each variable."
      ]
    },
    {
      "cell_type": "code",
      "execution_count": null,
      "metadata": {
        "id": "zms12Yq5n-jE"
      },
      "outputs": [],
      "source": [
        "# Check Unique Values for each variable.\n",
        "for x in md.columns:\n",
        "    print(f\"{x} - {md[x].nunique()}\")"
      ]
    },
    {
      "cell_type": "code",
      "execution_count": null,
      "metadata": {
        "id": "i8g_FVQvfC_n"
      },
      "outputs": [],
      "source": [
        "md[\"Unique id\"].unique()"
      ]
    },
    {
      "cell_type": "code",
      "execution_count": null,
      "metadata": {
        "id": "RuOpQf-tfC_n"
      },
      "outputs": [],
      "source": [
        "md[\"channel_name\"].unique()"
      ]
    },
    {
      "cell_type": "code",
      "execution_count": null,
      "metadata": {
        "id": "iTZ2OB01fC_n"
      },
      "outputs": [],
      "source": [
        "md[\"category\"].unique()"
      ]
    },
    {
      "cell_type": "code",
      "execution_count": null,
      "metadata": {
        "id": "vfFTQNVbfC_r"
      },
      "outputs": [],
      "source": [
        "md[\"Sub-category\"].unique()"
      ]
    },
    {
      "cell_type": "code",
      "execution_count": null,
      "metadata": {
        "id": "OdIaOz2xfC_s"
      },
      "outputs": [],
      "source": [
        "md[\"Customer Remarks\"].unique()"
      ]
    },
    {
      "cell_type": "code",
      "execution_count": null,
      "metadata": {
        "id": "Ntm-f5GZfC_s"
      },
      "outputs": [],
      "source": [
        "md[\"Order_id\"].unique()"
      ]
    },
    {
      "cell_type": "code",
      "execution_count": null,
      "metadata": {
        "id": "z1HpGbqWfC_s"
      },
      "outputs": [],
      "source": [
        "md[\"order_date_time\"].unique()"
      ]
    },
    {
      "cell_type": "code",
      "execution_count": null,
      "metadata": {
        "id": "_EpLitvufC_s"
      },
      "outputs": [],
      "source": [
        "md[\"Issue_reported at\"].unique()"
      ]
    },
    {
      "cell_type": "code",
      "execution_count": null,
      "metadata": {
        "id": "OzcUno-4fC_s"
      },
      "outputs": [],
      "source": [
        "md[\"issue_responded\"].unique()"
      ]
    },
    {
      "cell_type": "code",
      "execution_count": null,
      "metadata": {
        "id": "-AxslfX2fC_t"
      },
      "outputs": [],
      "source": [
        "md[\"Survey_response_Date\"].unique()"
      ]
    },
    {
      "cell_type": "code",
      "execution_count": null,
      "metadata": {
        "id": "LREpFdsyfC_t"
      },
      "outputs": [],
      "source": [
        "md[\"Customer_City\"].unique()"
      ]
    },
    {
      "cell_type": "code",
      "execution_count": null,
      "metadata": {
        "id": "0KcWSGIdfC_t"
      },
      "outputs": [],
      "source": [
        "md[\"Product_category\"].unique()"
      ]
    },
    {
      "cell_type": "code",
      "execution_count": null,
      "metadata": {
        "id": "wzBeBUtLfC_t"
      },
      "outputs": [],
      "source": [
        "md[\"Item_price\"].unique()"
      ]
    },
    {
      "cell_type": "code",
      "execution_count": null,
      "metadata": {
        "id": "6RdOTT0IfC_t"
      },
      "outputs": [],
      "source": [
        "md[\"connected_handling_time\"].unique()"
      ]
    },
    {
      "cell_type": "code",
      "execution_count": null,
      "metadata": {
        "id": "HSSnCSEmfC_t"
      },
      "outputs": [],
      "source": [
        "md[\"Agent_name\"].unique()"
      ]
    },
    {
      "cell_type": "code",
      "execution_count": null,
      "metadata": {
        "id": "OJahzV5afC_u"
      },
      "outputs": [],
      "source": [
        "md[\"Supervisor\"].unique()"
      ]
    },
    {
      "cell_type": "code",
      "execution_count": null,
      "metadata": {
        "id": "VPqd2oNLfC_u"
      },
      "outputs": [],
      "source": [
        "md[\"Manager\"].unique()"
      ]
    },
    {
      "cell_type": "code",
      "execution_count": null,
      "metadata": {
        "id": "WKq1AKYKfC_u"
      },
      "outputs": [],
      "source": [
        "md[\"Tenure Bucket\"].unique()"
      ]
    },
    {
      "cell_type": "code",
      "execution_count": null,
      "metadata": {
        "id": "jjZzsBhGfC_u"
      },
      "outputs": [],
      "source": [
        "md[\"Agent Shift\"].unique()"
      ]
    },
    {
      "cell_type": "code",
      "execution_count": null,
      "metadata": {
        "id": "JU2g__shfC_u"
      },
      "outputs": [],
      "source": [
        "md[\"CSAT Score\"].unique()"
      ]
    },
    {
      "cell_type": "markdown",
      "metadata": {
        "id": "dauF4eBmngu3"
      },
      "source": [
        "## 3. ***Data Wrangling***"
      ]
    },
    {
      "cell_type": "markdown",
      "metadata": {
        "id": "bKJF3rekwFvQ"
      },
      "source": [
        "### Data Wrangling Code"
      ]
    },
    {
      "cell_type": "code",
      "execution_count": null,
      "metadata": {
        "id": "wk-9a2fpoLcV"
      },
      "outputs": [],
      "source": [
        "# Write your code to make your dataset analysis ready.\n",
        "# Checking null or empty values in columns\n",
        "md.isnull().sum()"
      ]
    },
    {
      "cell_type": "code",
      "execution_count": null,
      "metadata": {
        "id": "a3M5Wqw7fC_v"
      },
      "outputs": [],
      "source": [
        "md.fillna({'Customer Remarks': 'Not Available'},inplace=True)"
      ]
    },
    {
      "cell_type": "code",
      "execution_count": null,
      "metadata": {
        "id": "-_eSdxbRfC_v"
      },
      "outputs": [],
      "source": [
        "md.fillna({'Order_id': 'Not Available'},inplace=True)"
      ]
    },
    {
      "cell_type": "code",
      "execution_count": null,
      "metadata": {
        "id": "nrfcEGSVfC_v"
      },
      "outputs": [],
      "source": [
        "md.fillna({'order_date_time': 'Not Available'},inplace=True)"
      ]
    },
    {
      "cell_type": "code",
      "execution_count": null,
      "metadata": {
        "id": "yDxEkVzbfC_v"
      },
      "outputs": [],
      "source": [
        "md.fillna({'Customer_City': 'Not Available'},inplace=True)"
      ]
    },
    {
      "cell_type": "code",
      "execution_count": null,
      "metadata": {
        "id": "9mPGiFBhfC_v"
      },
      "outputs": [],
      "source": [
        "md.fillna({'Product_category': 'Not Available'},inplace=True)"
      ]
    },
    {
      "cell_type": "code",
      "execution_count": null,
      "metadata": {
        "id": "tyFndxlIfC_v"
      },
      "outputs": [],
      "source": [
        "md.fillna({'Item_price': 'Not Available'},inplace=True)"
      ]
    },
    {
      "cell_type": "code",
      "execution_count": null,
      "metadata": {
        "id": "OkTQYQGCfC_w"
      },
      "outputs": [],
      "source": [
        "md.fillna({'connected_handling_time': 'Not Available'},inplace=True)"
      ]
    },
    {
      "cell_type": "code",
      "execution_count": null,
      "metadata": {
        "id": "yJWSKNXDfC_w"
      },
      "outputs": [],
      "source": [
        "# checking the columns for null and empty values after doing data wrangling for columns which have empty values\n",
        "md.isnull().sum()"
      ]
    },
    {
      "cell_type": "code",
      "execution_count": null,
      "metadata": {
        "id": "dsDFK0QtfC_w"
      },
      "outputs": [],
      "source": [
        "# checking for duplicates rows in dataset\n",
        "# Dataset Duplicate Value Count\n",
        "# Check for duplicate values\n",
        "duplicates = md.duplicated(keep=False)\n",
        "\n",
        "# Count the duplicate values\n",
        "duplicate_count = duplicates.value_counts()\n",
        "\n",
        "print(duplicate_count)"
      ]
    },
    {
      "cell_type": "code",
      "execution_count": null,
      "metadata": {
        "id": "OBiXjvWrfC_w"
      },
      "outputs": [],
      "source": [
        "# checking head and tail for the dataset\n",
        "md.head()"
      ]
    },
    {
      "cell_type": "code",
      "execution_count": null,
      "metadata": {
        "id": "sXJGFVTafC_w"
      },
      "outputs": [],
      "source": [
        "md.tail()"
      ]
    },
    {
      "cell_type": "markdown",
      "metadata": {
        "id": "MSa1f5Uengrz"
      },
      "source": [
        "### What all manipulations have you done and insights you found?"
      ]
    },
    {
      "cell_type": "markdown",
      "metadata": {
        "id": "LbyXE7I1olp8"
      },
      "source": [
        "##### The following manipulations have been done on the dataset:-\n",
        "\n",
        "1) There were total 7 columns out of 20 which were having null or empty values, we replaced them with 'Not Available' value so as to avoid outliers while doing visualization for the columns and rows.\n",
        "2) We checked duplicate rows for the dataset and found no such row for the same and also we checked head and tail part after doing data wrangling so as to confirm that what we have done is impacted on the dataset or not.\n",
        "\n",
        "##### In this way doing data wrangling on the dataset, we assured that the fairness should be maintained while performing EDA and visualization on the dataset."
      ]
    },
    {
      "cell_type": "markdown",
      "metadata": {
        "id": "GF8Ens_Soomf"
      },
      "source": [
        "## ***4. Data Vizualization, Storytelling & Experimenting with charts : Understand the relationships between variables***"
      ]
    },
    {
      "cell_type": "markdown",
      "metadata": {
        "id": "0wOQAZs5pc--"
      },
      "source": [
        "#### Chart - 1"
      ]
    },
    {
      "cell_type": "code",
      "execution_count": null,
      "metadata": {
        "id": "7v_ESjsspbW7"
      },
      "outputs": [],
      "source": [
        "# Chart - 1 visualization code\n",
        "# Barplot on channel_name\n",
        "md1 = md[md.channel_name=='Outcall'].groupby('CSAT Score')['CSAT Score'].count()\n",
        "md2 = md[md.channel_name=='Inbound'].groupby('CSAT Score')['CSAT Score'].count()\n",
        "md3 = md[md.channel_name=='Email'].groupby('CSAT Score')['CSAT Score'].count()\n",
        "\n",
        "md11 = pd.DataFrame(md1)\n",
        "# Rename the count column\n",
        "md11.rename(columns={'CSAT Score': 'count'}, inplace=True)\n",
        "md11.reset_index(inplace=True)\n",
        "\n",
        "\n",
        "plt.figure(figsize=(12, 10))  # Adjust figure size\n",
        "sns.barplot(data=md11, x='CSAT Score', y='count', hue='CSAT Score', palette=\"dark\", legend=False)\n",
        "\n",
        "# Rotate x-axis labels for better readability\n",
        "plt.xlabel(\"CSAT SCORE\")\n",
        "plt.ylabel(\"OUTCALL Channel Type\")\n",
        "plt.title(\"Count of Outcall vs CSAT Score\")\n",
        "\n",
        "# Show the plot\n",
        "plt.show()"
      ]
    },
    {
      "cell_type": "markdown",
      "metadata": {
        "id": "K5QZ13OEpz2H"
      },
      "source": [
        "##### 1. Why did you pick the specific chart?"
      ]
    },
    {
      "cell_type": "markdown",
      "metadata": {
        "id": "XESiWehPqBRc"
      },
      "source": [
        "We have choose barplot because it depicts a clear picture to compare count of particular column for each target column value."
      ]
    },
    {
      "cell_type": "markdown",
      "metadata": {
        "id": "lQ7QKXXCp7Bj"
      },
      "source": [
        "##### 2. What is/are the insight(s) found from the chart?"
      ]
    },
    {
      "cell_type": "markdown",
      "metadata": {
        "id": "C_j1G7yiqdRP"
      },
      "source": [
        "From the above barplot we have gor following insights:-\n",
        "\n",
        "1) CSAT Score having value 5 is highest for the outcall channel type, the total count is above 10000.\n",
        "2) CSAT Score with value 2 has least no of count for outcall channel type, the total count is less than 500.\n",
        "3) CSAT Score with value 1 and 4 have same no of count for outcall channel type which is approx 2000.\n",
        "\n",
        "Customers have mostly preferred to give CSAT score as 5, 4 and 1 in decreasing order respectively.\n",
        "Customers have avaoided to give 2 and 3 CSAT Score."
      ]
    },
    {
      "cell_type": "markdown",
      "metadata": {
        "id": "448CDAPjqfQr"
      },
      "source": [
        "##### 3. Will the gained insights help creating a positive business impact?\n",
        "Are there any insights that lead to negative growth? Justify with specific reason."
      ]
    },
    {
      "cell_type": "markdown",
      "metadata": {
        "id": "3cspy4FjqxJW"
      },
      "source": [
        "Yes there are some insights which have shown negative business growth impact.\n",
        "\n",
        "The CSAT score with value 1 is significantly high compared to value 2 and 3, which means many customers are not satisfied with the support provided by agent for their query.\n",
        "\n",
        "Other than this there is a positive business impact that shows that many customers have given CSAT Score 5 and 4 and combinigly more than 1,2,3 which depicts that those who were satisfied by the support provided against their query were happy and given great score which is either 4 or 5."
      ]
    },
    {
      "cell_type": "markdown",
      "metadata": {
        "id": "KSlN3yHqYklG"
      },
      "source": [
        "#### Chart - 2"
      ]
    },
    {
      "cell_type": "code",
      "execution_count": null,
      "metadata": {
        "id": "R4YgtaqtYklH"
      },
      "outputs": [],
      "source": [
        "# Chart - 2 visualization code\n",
        "md22 = pd.DataFrame(md2)\n",
        "# Rename the count column\n",
        "md22.rename(columns={'CSAT Score': 'count'}, inplace=True)\n",
        "md22.reset_index(inplace=True)\n",
        "\n",
        "\n",
        "plt.figure(figsize=(12, 10))  # Adjust figure size\n",
        "sns.barplot(data=md22, x='CSAT Score', y='count', hue='CSAT Score', palette=\"dark\", legend=False)\n",
        "\n",
        "# Rotate x-axis labels for better readability\n",
        "plt.xlabel(\"CSAT SCORE\")\n",
        "plt.ylabel(\"INBOUND Channel Type\")\n",
        "plt.title(\"Count of Inbound vs CSAT Score\")\n",
        "\n",
        "# Show the plot\n",
        "plt.show()"
      ]
    },
    {
      "cell_type": "markdown",
      "metadata": {
        "id": "t6dVpIINYklI"
      },
      "source": [
        "##### 1. Why did you pick the specific chart?"
      ]
    },
    {
      "cell_type": "markdown",
      "metadata": {
        "id": "5aaW0BYyYklI"
      },
      "source": [
        "We have choose barplot because it depicts a clear picture to compare count of particular column for each target column value."
      ]
    },
    {
      "cell_type": "markdown",
      "metadata": {
        "id": "ijmpgYnKYklI"
      },
      "source": [
        "##### 2. What is/are the insight(s) found from the chart?"
      ]
    },
    {
      "cell_type": "markdown",
      "metadata": {
        "id": "PSx9atu2YklI"
      },
      "source": [
        "From the above barplot we have gor following insights:-\n",
        "\n",
        "1) CSAT Score having value 5 is highest for the Inbound channel type, the total count is above 47000.\n",
        "2) CSAT Score with value 2 has least no of count for Inbound channel type, the total count is less than 2000.\n",
        "3) CSAT Score with value 1 and 4 have same no of count for Inbound channel type which is approx 10000.\n",
        "\n",
        "Customers have mostly preferred to give CSAT score as 5, 4 and 1 in decreasing order respectively.\n",
        "Customers have avaoided to give 2 and 3 CSAT Score."
      ]
    },
    {
      "cell_type": "markdown",
      "metadata": {
        "id": "-JiQyfWJYklI"
      },
      "source": [
        "##### 3. Will the gained insights help creating a positive business impact?\n",
        "Are there any insights that lead to negative growth? Justify with specific reason."
      ]
    },
    {
      "cell_type": "markdown",
      "metadata": {
        "id": "BcBbebzrYklV"
      },
      "source": [
        "Yes there are some insights which have shown negative business growth impact.\n",
        "\n",
        "The CSAT score with value 1 is significantly high compared to value 2 and 3, which means many customers are not satisfied with the support provided by agent for their query.\n",
        "\n",
        "Other than this there is a positive business impact that shows that many customers have given CSAT Score 5 and 4 and combinigly more than 1,2,3 which depicts that those who were satisfied by the support provided against their query were happy and given great score which is either 4 or 5."
      ]
    },
    {
      "cell_type": "markdown",
      "metadata": {
        "id": "EM7whBJCYoAo"
      },
      "source": [
        "#### Chart - 3"
      ]
    },
    {
      "cell_type": "code",
      "execution_count": null,
      "metadata": {
        "id": "t6GMdE67YoAp"
      },
      "outputs": [],
      "source": [
        "# Chart - 3 visualization code\n",
        "md33 = pd.DataFrame(md3)\n",
        "# Rename the count column\n",
        "md33.rename(columns={'CSAT Score': 'count'}, inplace=True)\n",
        "md33.reset_index(inplace=True)\n",
        "\n",
        "\n",
        "plt.figure(figsize=(12, 10))  # Adjust figure size\n",
        "sns.barplot(data=md33, x='CSAT Score', y='count', hue='CSAT Score', palette=\"dark\", legend=False)\n",
        "\n",
        "# Rotate x-axis labels for better readability\n",
        "plt.xlabel(\"CSAT SCORE\")\n",
        "plt.ylabel(\"EMAIL Channel Type\")\n",
        "plt.title(\"Count of Email vs CSAT Score\")\n",
        "\n",
        "# Show the plot\n",
        "plt.show()"
      ]
    },
    {
      "cell_type": "markdown",
      "metadata": {
        "id": "fge-S5ZAYoAp"
      },
      "source": [
        "##### 1. Why did you pick the specific chart?"
      ]
    },
    {
      "cell_type": "markdown",
      "metadata": {
        "id": "5dBItgRVYoAp"
      },
      "source": [
        "We have choose barplot because it depicts a clear picture to compare count of particular column for each target column value."
      ]
    },
    {
      "cell_type": "markdown",
      "metadata": {
        "id": "85gYPyotYoAp"
      },
      "source": [
        "##### 2. What is/are the insight(s) found from the chart?"
      ]
    },
    {
      "cell_type": "markdown",
      "metadata": {
        "id": "4jstXR6OYoAp"
      },
      "source": [
        "From the above barplot we have gor following insights:-\n",
        "\n",
        "1) CSAT Score having value 5 is highest for the Email channel type, the total count is above 1800.\n",
        "2) CSAT Score with value 2 has least no of count for Email channel type, the total count is less than 125.\n",
        "3) CSAT Score with value 1 is high compared to CSAT Score 4 which is 625 and 375 respectively.\n",
        "\n",
        "Customers have mostly preferred to give CSAT score as 5, 1 and 4 in decreasing order respectively.\n",
        "Customers have avaoided to give 2 and 3 CSAT Score compared to other scores."
      ]
    },
    {
      "cell_type": "markdown",
      "metadata": {
        "id": "RoGjAbkUYoAp"
      },
      "source": [
        "##### 3. Will the gained insights help creating a positive business impact?\n",
        "Are there any insights that lead to negative growth? Justify with specific reason."
      ]
    },
    {
      "cell_type": "markdown",
      "metadata": {
        "id": "zfJ8IqMcYoAp"
      },
      "source": [
        "Yes there are some insights which have shown negative business growth impact.\n",
        "\n",
        "The CSAT score with value 1 is significantly high compared to value 2,3 and 4 which means many customers are not satisfied with the support provided by agent for their query.\n",
        "\n",
        "Other than this there is a positive business impact that shows that many customers have given CSAT Score 5 more than 1,2,3 and 4 which depicts that those who were satisfied by the support provided against their query were happy and given great score 5."
      ]
    },
    {
      "cell_type": "markdown",
      "metadata": {
        "id": "4Of9eVA-YrdM"
      },
      "source": [
        "#### Chart - 4"
      ]
    },
    {
      "cell_type": "code",
      "execution_count": null,
      "metadata": {
        "id": "irlUoxc8YrdO"
      },
      "outputs": [],
      "source": [
        "# Chart - 4 visualization code\n",
        "plt.figure(figsize=(13, 8))\n",
        "sns.lineplot(data=md11, x=\"CSAT Score\", y=\"count\", marker=\"o\", color=\"b\")\n",
        "# Rotate x-axis labels for better readability\n",
        "plt.xlabel(\"CSAT Score\")\n",
        "plt.ylabel(\"Count of Outcall Queries\")\n",
        "plt.title(\"CSAT Score vs Count of Outcall Queries\")\n",
        "# Show the plot\n",
        "plt.show()"
      ]
    },
    {
      "cell_type": "markdown",
      "metadata": {
        "id": "iky9q4vBYrdO"
      },
      "source": [
        "##### 1. Why did you pick the specific chart?"
      ]
    },
    {
      "cell_type": "markdown",
      "metadata": {
        "id": "aJRCwT6DYrdO"
      },
      "source": [
        "We have choosen lineplot to compare variables through curve and analyze the growth or drop of curve against different parameters."
      ]
    },
    {
      "cell_type": "markdown",
      "metadata": {
        "id": "F6T5p64dYrdO"
      },
      "source": [
        "##### 2. What is/are the insight(s) found from the chart?"
      ]
    },
    {
      "cell_type": "markdown",
      "metadata": {
        "id": "Xx8WAJvtYrdO"
      },
      "source": [
        "The insights we have found that as the CSAT Score is increased count of Outcall increased exponentially which means most customers are satisfied with the support provided to them against their query.\n",
        "\n",
        "For CSAT Score 1 the count is slightly high than 2 and 3, also for the CSAT Score 4 the count is very less compared to CSAT Score 5."
      ]
    },
    {
      "cell_type": "markdown",
      "metadata": {
        "id": "y-Ehk30pYrdP"
      },
      "source": [
        "##### 3. Will the gained insights help creating a positive business impact?\n",
        "Are there any insights that lead to negative growth? Justify with specific reason."
      ]
    },
    {
      "cell_type": "markdown",
      "metadata": {
        "id": "jLNxxz7MYrdP"
      },
      "source": [
        "Yes, we have found both negative and positive impact on business growth which are as follows:-\n",
        "\n",
        "1) CSAT Score 1 is significantly high which shows negative aspect for business as many customers are totally not satisfied with the support provided to them.\n",
        "2) CSAT Score 2 and 3 are very low compared to 1 which means many customers have not to given least favourable 2 and 3 CSAT Score, instead they choose to give 1.\n",
        "3) Positive Impact on business growth is shown by the count for 4 and 5 CSAT Score which is very great and organization should maintain these two results as it is or improving which will be good for business in the future."
      ]
    },
    {
      "cell_type": "markdown",
      "metadata": {
        "id": "bamQiAODYuh1"
      },
      "source": [
        "#### Chart - 5"
      ]
    },
    {
      "cell_type": "code",
      "execution_count": null,
      "metadata": {
        "id": "TIJwrbroYuh3"
      },
      "outputs": [],
      "source": [
        "# Chart - 5 visualization code\n",
        "plt.figure(figsize=(13, 8))\n",
        "sns.lineplot(data=md22, x=\"CSAT Score\", y=\"count\", marker=\"o\", color=\"r\")\n",
        "# Rotate x-axis labels for better readability\n",
        "plt.xlabel(\"CSAT Score\")\n",
        "plt.ylabel(\"Count of Inbound Queries\")\n",
        "plt.title(\"CSAT Score vs Count of Inbound Queries\")\n",
        "# Show the plot\n",
        "plt.show()"
      ]
    },
    {
      "cell_type": "markdown",
      "metadata": {
        "id": "QHF8YVU7Yuh3"
      },
      "source": [
        "##### 1. Why did you pick the specific chart?"
      ]
    },
    {
      "cell_type": "markdown",
      "metadata": {
        "id": "dcxuIMRPYuh3"
      },
      "source": [
        "We have choosen lineplot to compare variables through curve and analyze the growth or drop of curve against different parameters."
      ]
    },
    {
      "cell_type": "markdown",
      "metadata": {
        "id": "GwzvFGzlYuh3"
      },
      "source": [
        "##### 2. What is/are the insight(s) found from the chart?"
      ]
    },
    {
      "cell_type": "markdown",
      "metadata": {
        "id": "uyqkiB8YYuh3"
      },
      "source": [
        "The insights we have found that as the CSAT Score is increased count of Inbound increased exponentially which means most customers are satisfied with the support provided to them against their query.\n",
        "\n",
        "For CSAT Score 1 the count is slightly high than 2 and 3, also for the CSAT Score 4 the count is very less compared to CSAT Score 5."
      ]
    },
    {
      "cell_type": "markdown",
      "metadata": {
        "id": "qYpmQ266Yuh3"
      },
      "source": [
        "##### 3. Will the gained insights help creating a positive business impact?\n",
        "Are there any insights that lead to negative growth? Justify with specific reason."
      ]
    },
    {
      "cell_type": "markdown",
      "metadata": {
        "id": "_WtzZ_hCYuh4"
      },
      "source": [
        "Yes, we have found both negative and positive impact on business growth which are as follows:-\n",
        "\n",
        "1) CSAT Score 1 is significantly high which shows negative aspect for business as many customers are totally not satisfied with the support provided to them.\n",
        "2) CSAT Score 2 and 3 are very low compared to 1 which means many customers have not to given least favourable 2 and 3 CSAT Score, instead they choose to give 1.\n",
        "3) Positive Impact on business growth is shown by the count for 4 and 5 CSAT Score which is very great and organization should maintain these two results as it is or improving which will be good for business in the future."
      ]
    },
    {
      "cell_type": "markdown",
      "metadata": {
        "id": "OH-pJp9IphqM"
      },
      "source": [
        "#### Chart - 6"
      ]
    },
    {
      "cell_type": "code",
      "execution_count": null,
      "metadata": {
        "id": "kuRf4wtuphqN"
      },
      "outputs": [],
      "source": [
        "# Chart - 6 visualization code\n",
        "plt.figure(figsize=(13, 8))\n",
        "sns.lineplot(data=md33, x=\"CSAT Score\", y=\"count\", marker=\"o\", color=\"b\")\n",
        "# Rotate x-axis labels for better readability\n",
        "plt.xlabel(\"CSAT Score\")\n",
        "plt.ylabel(\"Count of Email Queries\")\n",
        "plt.title(\"CSAT Score vs Count of Email Queries\")\n",
        "# Show the plot\n",
        "plt.show()"
      ]
    },
    {
      "cell_type": "markdown",
      "metadata": {
        "id": "bbFf2-_FphqN"
      },
      "source": [
        "##### 1. Why did you pick the specific chart?"
      ]
    },
    {
      "cell_type": "markdown",
      "metadata": {
        "id": "loh7H2nzphqN"
      },
      "source": [
        "We have choosen lineplot to compare variables through curve and analyze the growth or drop of curve against different parameters."
      ]
    },
    {
      "cell_type": "markdown",
      "metadata": {
        "id": "_ouA3fa0phqN"
      },
      "source": [
        "##### 2. What is/are the insight(s) found from the chart?"
      ]
    },
    {
      "cell_type": "markdown",
      "metadata": {
        "id": "VECbqPI7phqN"
      },
      "source": [
        "The insights we have found that as the CSAT Score is increased count of Email increased exponentially which means most customers are satisfied with the support provided to them against their query.\n",
        "\n",
        "For CSAT Score 1 the count is very high than 2,3 and 4."
      ]
    },
    {
      "cell_type": "markdown",
      "metadata": {
        "id": "Seke61FWphqN"
      },
      "source": [
        "##### 3. Will the gained insights help creating a positive business impact?\n",
        "Are there any insights that lead to negative growth? Justify with specific reason."
      ]
    },
    {
      "cell_type": "markdown",
      "metadata": {
        "id": "DW4_bGpfphqN"
      },
      "source": [
        "Yes, we have found both negative and positive impact on business growth which are as follows:-\n",
        "\n",
        "1) CSAT Score 1 is very high which shows negative aspect for business as many customers are totally not satisfied with the support provided to them.\n",
        "2) CSAT Score 2,3 and 4 are very low compared to 1 which means many customers have not to given least favourable 2 and 3 CSAT Score, instead they choose to give 1.\n",
        "3) Positive Impact on business growth is shown by the count only for CSAT Score having value 5 which is very great and organization should maintain these this for business growth and postive impact in the future."
      ]
    },
    {
      "cell_type": "markdown",
      "metadata": {
        "id": "PIIx-8_IphqN"
      },
      "source": [
        "#### Chart - 7"
      ]
    },
    {
      "cell_type": "code",
      "execution_count": null,
      "metadata": {
        "id": "lqAIGUfyphqO"
      },
      "outputs": [],
      "source": [
        "# Chart - 7 visualization code\n",
        "plt.figure(figsize=(6,4))\n",
        "sns.scatterplot(x='CSAT Score',y='count',data=md11,color='r')\n",
        "plt.xlabel('CSAT Score')\n",
        "plt.ylabel('Count of Outcall')\n",
        "plt.title('CSAT Vs Outcall')\n",
        "plt.show()"
      ]
    },
    {
      "cell_type": "markdown",
      "metadata": {
        "id": "t27r6nlMphqO"
      },
      "source": [
        "##### 1. Why did you pick the specific chart?"
      ]
    },
    {
      "cell_type": "markdown",
      "metadata": {
        "id": "iv6ro40sphqO"
      },
      "source": [
        "We have used scatter plot to know exact value counts for different column values and also analyze a nature of the curve that whether it is in increasing or decreasing manner."
      ]
    },
    {
      "cell_type": "markdown",
      "metadata": {
        "id": "r2jJGEOYphqO"
      },
      "source": [
        "##### 2. What is/are the insight(s) found from the chart?"
      ]
    },
    {
      "cell_type": "markdown",
      "metadata": {
        "id": "Po6ZPi4hphqO"
      },
      "source": [
        "The insights we have found from the above scatter plot are as follows:-\n",
        "\n",
        "1) Count of queries through Outcall channel type is in increasing order as we increase CSAT Score, that means many people are satisfied compared to people who are not satisfied by the customer support.\n",
        "2) For CSAT Score 1 and 4 the count of queries is same which nearly approx to 2000 value.\n",
        "3) For CSAT Score 2, the count of queries is less than 500 value.\n",
        "4) For CSAT Score 3, the count of queries is near to 500 value.\n",
        "5) For CSAT Score 5, the count of queries is near to 11000+ value.\n",
        "\n",
        "The overall insights is that for intial 2 CSAT Score the count of queries dropped significantly but then after increased exponentially for 3, 4 and 5 CSAT Score."
      ]
    },
    {
      "cell_type": "markdown",
      "metadata": {
        "id": "b0JNsNcRphqO"
      },
      "source": [
        "##### 3. Will the gained insights help creating a positive business impact?\n",
        "Are there any insights that lead to negative growth? Justify with specific reason."
      ]
    },
    {
      "cell_type": "markdown",
      "metadata": {
        "id": "xvSq8iUTphqO"
      },
      "source": [
        "Yes there are both positive and negative business impact which above insights shows:-\n",
        "\n",
        "1) Their is nearly 2000 queries which are marked as CSAT Score 1 which means either many customers are not satisfied by the support or the support provided to them is not on time.\n",
        "2) Analyzing the insights we found that either the customer is totally satisfied or he/she is totally disatisfied as we can see majority of customers have ignored to give average rating of 2 and 3, but rather they either choose to give 1, 4 and 5 according to their satisfaction.\n",
        "3) Positive Business impact is shown by the CSAT Score 5, the count of queries for the same is more than 110000+ which means more than 90% of total queries were solved perfectly and customers gave 5 star rating for the same.\n",
        "\n",
        "Somethings which the company can improve for outcall type queries that they can try to improve ratings for the queries which got 1,2 and 3 as a CSAT Score, rest of things are great and company should keep it as it is like customer satisfaction for the queries which got CSAT Score as 4 and 5."
      ]
    },
    {
      "cell_type": "markdown",
      "metadata": {
        "id": "BZR9WyysphqO"
      },
      "source": [
        "#### Chart - 8"
      ]
    },
    {
      "cell_type": "code",
      "execution_count": null,
      "metadata": {
        "id": "TdPTWpAVphqO"
      },
      "outputs": [],
      "source": [
        "# Chart - 8 visualization code\n",
        "plt.figure(figsize=(6,4))\n",
        "sns.scatterplot(x='CSAT Score',y='count',data=md22 ,color='b')\n",
        "plt.xlabel('CSAT Score')\n",
        "plt.ylabel('Count of Inbound')\n",
        "plt.title('CSAT Vs Inbound')\n",
        "plt.show()"
      ]
    },
    {
      "cell_type": "markdown",
      "metadata": {
        "id": "jj7wYXLtphqO"
      },
      "source": [
        "##### 1. Why did you pick the specific chart?"
      ]
    },
    {
      "cell_type": "markdown",
      "metadata": {
        "id": "Ob8u6rCTphqO"
      },
      "source": [
        "We have used scatter plot to know exact value counts for different column values and also analyze a nature of the curve that whether it is in increasing or decreasing manner."
      ]
    },
    {
      "cell_type": "markdown",
      "metadata": {
        "id": "eZrbJ2SmphqO"
      },
      "source": [
        "##### 2. What is/are the insight(s) found from the chart?"
      ]
    },
    {
      "cell_type": "markdown",
      "metadata": {
        "id": "mZtgC_hjphqO"
      },
      "source": [
        "The insights we have found from the above scatter plot are as follows:-\n",
        "\n",
        "1) Count of queries through Inbound channel type is in increasing order as we increase CSAT Score, that means many people are satisfied compared to people who are not satisfied by the customer support.\n",
        "2) For CSAT Score 1 and 4 the count of queries is same which nearly approx to 10000 value.\n",
        "3) For CSAT Score 2, the count of queries is less than 2500 value.\n",
        "4) For CSAT Score 3, the count of queries is near to 2500 value.\n",
        "5) For CSAT Score 5, the count of queries is near to 47000+ value.\n",
        "\n",
        "The overall insights is that for intial 2 CSAT Score the count of queries dropped significantly but then after increased exponentially for 3, 4 and 5 CSAT Score."
      ]
    },
    {
      "cell_type": "markdown",
      "metadata": {
        "id": "rFu4xreNphqO"
      },
      "source": [
        "##### 3. Will the gained insights help creating a positive business impact?\n",
        "Are there any insights that lead to negative growth? Justify with specific reason."
      ]
    },
    {
      "cell_type": "markdown",
      "metadata": {
        "id": "ey_0qi68phqO"
      },
      "source": [
        "Yes there are both positive and negative business impact which above insights shows:-\n",
        "\n",
        "1) Their is nearly 10000 queries which are marked as CSAT Score 1 which means either many customers are not satisfied by the support or the support provided to them is not on time.\n",
        "2) Analyzing the insights we found that either the customer is totally satisfied or he/she is totally disatisfied as we can see majority of customers have ignored to give average rating of 2 and 3, but rather they either choose to give 1, 4 and 5 according to their satisfaction.\n",
        "3) Positive Business impact is shown by the CSAT Score 5, the count of queries for the same is more than 470000+ which means more than 90% of total queries were solved perfectly and customers gave 5 star rating for the same.\n",
        "\n",
        "Somethings which the company can improve for Inbound type queries that they can try to improve ratings for the queries which got 1,2 and 3 as a CSAT Score, rest of things are great and company should keep it as it is like customer satisfaction for the queries which got CSAT Score as 4 and 5."
      ]
    },
    {
      "cell_type": "markdown",
      "metadata": {
        "id": "YJ55k-q6phqO"
      },
      "source": [
        "#### Chart - 9"
      ]
    },
    {
      "cell_type": "code",
      "execution_count": null,
      "metadata": {
        "id": "B2aS4O1ophqO"
      },
      "outputs": [],
      "source": [
        "# Chart - 9 visualization code\n",
        "plt.figure(figsize=(6,4))\n",
        "sns.scatterplot(x='CSAT Score',y='count',data=md33,color='r')\n",
        "plt.xlabel('CSAT Score')\n",
        "plt.ylabel('Count of Email')\n",
        "plt.title('CSAT Vs Email')\n",
        "plt.show()"
      ]
    },
    {
      "cell_type": "markdown",
      "metadata": {
        "id": "gCFgpxoyphqP"
      },
      "source": [
        "##### 1. Why did you pick the specific chart?"
      ]
    },
    {
      "cell_type": "markdown",
      "metadata": {
        "id": "TVxDimi2phqP"
      },
      "source": [
        "We have used scatter plot to know exact value counts for different column values and also analyze a nature of the curve that whether it is in increasing or decreasing manner."
      ]
    },
    {
      "cell_type": "markdown",
      "metadata": {
        "id": "OVtJsKN_phqQ"
      },
      "source": [
        "##### 2. What is/are the insight(s) found from the chart?"
      ]
    },
    {
      "cell_type": "markdown",
      "metadata": {
        "id": "ngGi97qjphqQ"
      },
      "source": [
        "The insights we have found from the above scatter plot are as follows:-\n",
        "\n",
        "1) Count of queries through Email channel type is in increasing order as we increase CSAT Score, that means many people are satisfied compared to people who are not satisfied by the customer support.\n",
        "2) For CSAT Score 1 and 4 the count of queries is 625 and 375 respectively.\n",
        "3) For CSAT Score 2, the count of queries is less than 125 value.\n",
        "4) For CSAT Score 3, the count of queries is near to 125 value.\n",
        "5) For CSAT Score 5, the count of queries is near to 1800+ value.\n",
        "\n",
        "The overall insights is that for intial 2 CSAT Score the count of Email Channel type queries dropped significantly but then after increased exponentially for 3, 4 and 5 CSAT Score."
      ]
    },
    {
      "cell_type": "markdown",
      "metadata": {
        "id": "lssrdh5qphqQ"
      },
      "source": [
        "##### 3. Will the gained insights help creating a positive business impact?\n",
        "Are there any insights that lead to negative growth? Justify with specific reason."
      ]
    },
    {
      "cell_type": "markdown",
      "metadata": {
        "id": "tBpY5ekJphqQ"
      },
      "source": [
        "Yes there are both positive and negative business impact which above insights shows:-\n",
        "\n",
        "1) Their is nearly 625 queries which are marked as CSAT Score 1 which means either many customers are not satisfied by the support or the support provided to them is not on time.\n",
        "2) Analyzing the insights we found that either the customer is totally satisfied or he/she is totally disatisfied as we can see majority of customers have ignored to give average rating of 2 and 3, but rather they either choose to give 1, 4 and 5 according to their satisfaction.\n",
        "3) Positive Business impact is shown by the CSAT Score 5, the count of queries for the same is more than 1800+ which means more than 90% of total queries were solved perfectly and customers gave 5 star rating for the same.\n",
        "\n",
        "Somethings which the company can improve for Email type queries that they can try to improve ratings for the queries which got 1,2 and 3 as a CSAT Score, rest of things are great and company should keep it as it is like customer satisfaction for the queries which got CSAT Score as 4 and 5."
      ]
    },
    {
      "cell_type": "markdown",
      "metadata": {
        "id": "U2RJ9gkRphqQ"
      },
      "source": [
        "#### Chart - 10"
      ]
    },
    {
      "cell_type": "code",
      "execution_count": null,
      "metadata": {
        "id": "GM7a4YP4phqQ"
      },
      "outputs": [],
      "source": [
        "# Chart - 10 visualization code\n",
        "# Convert groupby Series to DataFrame and reset index\n",
        "df = md.groupby([\"Product_category\", \"CSAT Score\"]).size().unstack(fill_value=0)\n",
        "dfu = df.div(df.sum(axis=1), axis=0) * 100\n",
        "# Plot stacked bar chart\n",
        "fig, ax = plt.subplots(figsize=(9, 7))\n",
        "dfu.plot(kind=\"barh\", stacked=True, colormap=\"plasma\", ax=ax)\n",
        "\n",
        "# Labels and title\n",
        "plt.xlabel(\"CSAT Score\")\n",
        "plt.ylabel(\"Product Category\")\n",
        "plt.title(\"Product category vs CSAT Score\")\n",
        "plt.legend(title=\"CSAT Score\", bbox_to_anchor=(1.05, 1), loc=\"upper left\")\n",
        "\n",
        "plt.show()"
      ]
    },
    {
      "cell_type": "markdown",
      "metadata": {
        "id": "1M8mcRywphqQ"
      },
      "source": [
        "##### 1. Why did you pick the specific chart?"
      ]
    },
    {
      "cell_type": "markdown",
      "metadata": {
        "id": "8agQvks0phqQ"
      },
      "source": [
        "We have choosen this type of bar plot with color mapping to find percentage of count of queries for every CSAT Score wrt type of product category."
      ]
    },
    {
      "cell_type": "markdown",
      "metadata": {
        "id": "tgIPom80phqQ"
      },
      "source": [
        "##### 2. What is/are the insight(s) found from the chart?"
      ]
    },
    {
      "cell_type": "markdown",
      "metadata": {
        "id": "Qp13pnNzphqQ"
      },
      "source": [
        "The following insights we can found from the above bar plot:-\n",
        "\n",
        "1) Affiliates has the highest no of query count among all which got CSAT Score 5, it got more than 65% for CSAT Score 5 and rest for other score.\n",
        "2) Second Highest for CSAT Score 5 is the product category lifestyle, which got more than 62% count of queries for CSAT Score 5 and rest for other score values.\n",
        "3) Query Count for GiftCard Product category has highest no for CSAT Score for 1 and Lowest no for CSAT Score for 5, the percentages for the CSAT score 1 and 5 are 40%+ and 50%+ respectively. Also giftcard has no query which has been rated as value 3.\n",
        "4) Furniture has least no of query count for CSAT Score 2.\n",
        "5) Affiliates has the least no of query count for CSAT score 1."
      ]
    },
    {
      "cell_type": "markdown",
      "metadata": {
        "id": "JMzcOPDDphqR"
      },
      "source": [
        "##### 3. Will the gained insights help creating a positive business impact?\n",
        "Are there any insights that lead to negative growth? Justify with specific reason."
      ]
    },
    {
      "cell_type": "markdown",
      "metadata": {
        "id": "R4Ka1PC2phqR"
      },
      "source": [
        "Yes there are both positive and negative business imapact which can be depicted from above barplot:-\n",
        "\n",
        "1) Furniture and affiliates has least no of query count for CSAT Score 2 and 1 respectively which shows positive trend.\n",
        "2) Affiliates product category has got highest count of queries marked as CSAT Score 5 which is nearly 65% out of total CSAT Score marked for that particular product category which shows a great and positive business growth and customer support reputation.\n",
        "3) For GiftCard Product category the business growth is in negative aspect as it shows that the majority of queries are marked as 1 and minority count of queries have been marked as 5 for the same.\n",
        "\n",
        "Company need to improve customer support service for Giftcard product category, while for affiliates, lifestyle and furnitue should improve and maintain the positive aspects as it is."
      ]
    },
    {
      "cell_type": "markdown",
      "metadata": {
        "id": "x-EpHcCOp1ci"
      },
      "source": [
        "#### Chart - 11"
      ]
    },
    {
      "cell_type": "code",
      "execution_count": null,
      "metadata": {
        "id": "mAQTIvtqp1cj"
      },
      "outputs": [],
      "source": [
        "# Chart - 11 visualization code\n",
        "# Convert groupby Series to DataFrame and reset index\n",
        "d = md.groupby([\"Manager\", \"CSAT Score\"]).size().unstack(fill_value=0)\n",
        "d1 = d.div(d.sum(axis=1), axis=0) * 100\n",
        "# Plot stacked bar chart\n",
        "fig, ax = plt.subplots(figsize=(9, 7))\n",
        "d1.plot(kind=\"barh\", stacked=True, colormap=\"plasma\", ax=ax)\n",
        "\n",
        "# Labels and title\n",
        "plt.xlabel(\"CSAT Score\")\n",
        "plt.ylabel(\"Manager\")\n",
        "plt.title(\"Manager vs CSAT Score\")\n",
        "plt.legend(title=\"CSAT Score\", bbox_to_anchor=(1.05, 1), loc=\"upper left\")\n",
        "\n",
        "plt.show()"
      ]
    },
    {
      "cell_type": "markdown",
      "metadata": {
        "id": "X_VqEhTip1ck"
      },
      "source": [
        "##### 1. Why did you pick the specific chart?"
      ]
    },
    {
      "cell_type": "markdown",
      "metadata": {
        "id": "-vsMzt_np1ck"
      },
      "source": [
        "We have choosen this type of bar plot with color mapping to find percentage of count of queries for every CSAT Score wrt manager assigned to handle those queries."
      ]
    },
    {
      "cell_type": "markdown",
      "metadata": {
        "id": "8zGJKyg5p1ck"
      },
      "source": [
        "##### 2. What is/are the insight(s) found from the chart?"
      ]
    },
    {
      "cell_type": "markdown",
      "metadata": {
        "id": "ZYdMsrqVp1ck"
      },
      "source": [
        "The following are the insights for the above barplot:-\n",
        "\n",
        "1) Queries solved under manager Emily chen has got maximum percentage for CSAT Score 5 compared to other managers, the percentage is more than 70%.\n",
        "2) Olivia Tan got the least no count for CSAT Score 5 which is less than 65%.\n",
        "3) Olivia Tan got the maximum no of count for CSAT Score 1 which is more than 16%.\n",
        "4) Emily chen has the least no of count for CSAT Score 1 which is less than 10%."
      ]
    },
    {
      "cell_type": "markdown",
      "metadata": {
        "id": "PVzmfK_Ep1ck"
      },
      "source": [
        "##### 3. Will the gained insights help creating a positive business impact?\n",
        "Are there any insights that lead to negative growth? Justify with specific reason."
      ]
    },
    {
      "cell_type": "markdown",
      "metadata": {
        "id": "druuKYZpp1ck"
      },
      "source": [
        "yes, there are insights which lead to negative growth as well as there are postive insights also:-\n",
        "\n",
        "1) Olivia Tan need to do an audit for her team and need to improve as queries assigned under her are getting maximum and least no of count for CSAT Score 1 and 5 respectively.\n",
        "2) Other than this Emily chen performed exceptionally great compared to others with maximum no of count for CSAT Score 5 and least no of count for CSAT Score 1."
      ]
    },
    {
      "cell_type": "markdown",
      "metadata": {
        "id": "n3dbpmDWp1ck"
      },
      "source": [
        "#### Chart - 12"
      ]
    },
    {
      "cell_type": "code",
      "execution_count": null,
      "metadata": {
        "id": "bwevp1tKp1ck"
      },
      "outputs": [],
      "source": [
        "# Chart - 12 visualization code\n",
        "# Convert groupby Series to DataFrame and reset index\n",
        "d2 = md.groupby([\"Agent Shift\", \"CSAT Score\"]).size().unstack(fill_value=0)\n",
        "d3 = d2.div(d2.sum(axis=1), axis=0) * 100\n",
        "# Plot stacked bar chart\n",
        "fig, ax = plt.subplots(figsize=(9, 7))\n",
        "d3.plot(kind=\"barh\", stacked=True, colormap=\"plasma\", ax=ax)\n",
        "\n",
        "# Labels and title\n",
        "plt.xlabel(\"CSAT Score\")\n",
        "plt.ylabel(\"Agent Shift\")\n",
        "plt.title(\"Agent Shift vs CSAT Score\")\n",
        "plt.legend(title=\"CSAT Score\", bbox_to_anchor=(1.05, 1), loc=\"upper left\")\n",
        "\n",
        "plt.show()"
      ]
    },
    {
      "cell_type": "markdown",
      "metadata": {
        "id": "ylSl6qgtp1ck"
      },
      "source": [
        "##### 1. Why did you pick the specific chart?"
      ]
    },
    {
      "cell_type": "markdown",
      "metadata": {
        "id": "m2xqNkiQp1ck"
      },
      "source": [
        "We have choosen this type of bar plot with color mapping to find percentage of count of queries for every CSAT Score wrt type of agnet shift."
      ]
    },
    {
      "cell_type": "markdown",
      "metadata": {
        "id": "ZWILFDl5p1ck"
      },
      "source": [
        "##### 2. What is/are the insight(s) found from the chart?"
      ]
    },
    {
      "cell_type": "markdown",
      "metadata": {
        "id": "x-lUsV2mp1ck"
      },
      "source": [
        "The following are the insights for the above barplot:-\n",
        "\n",
        "1) Agent shift split has got most no of count for CSAT Score 5 followed by night shift becoming second highest.\n",
        "2) Morning shift has the lowest no of count for the CSAT Score 5 compared to other shifts.\n",
        "3) Split has least while morning shift has maximum no of count for the CSAT Score 1."
      ]
    },
    {
      "cell_type": "markdown",
      "metadata": {
        "id": "M7G43BXep1ck"
      },
      "source": [
        "##### 3. Will the gained insights help creating a positive business impact?\n",
        "Are there any insights that lead to negative growth? Justify with specific reason."
      ]
    },
    {
      "cell_type": "markdown",
      "metadata": {
        "id": "5wwDJXsLp1cl"
      },
      "source": [
        "The following are the positive and negative business impact as per above insights:-\n",
        "\n",
        "1) Morning shift has maximum and least no of count for CSAT score 1 and 5 respectively which means the agents working in morning shift are not able to provide proper customer support compared to other shift agents.\n",
        "2) Split or rotational has maximum no of count for CSAT Score 5 and least no of count for CSAT Score 1 which means agent who are working in rotational or split shift are giving best customer support.\n",
        "3) Apart from this second highest performer are the agents working in night shift which means company need to target them and can make them best customer support providers.\n",
        "\n",
        "The major improvement by the company is needed for the agents who are working in the morning shift."
      ]
    },
    {
      "cell_type": "markdown",
      "metadata": {
        "id": "Ag9LCva-p1cl"
      },
      "source": [
        "#### Chart - 13"
      ]
    },
    {
      "cell_type": "code",
      "execution_count": null,
      "metadata": {
        "id": "EUfxeq9-p1cl"
      },
      "outputs": [],
      "source": [
        "# Chart - 13 visualization code\n",
        "# Convert groupby Series to DataFrame and reset index\n",
        "d4 = md.groupby([\"category\", \"CSAT Score\"]).size().unstack(fill_value=0)\n",
        "d5 = d4.div(d4.sum(axis=1), axis=0) * 100\n",
        "# Plot stacked bar chart\n",
        "fig, ax = plt.subplots(figsize=(9, 7))\n",
        "d5.plot(kind=\"barh\", stacked=True, colormap=\"plasma\", ax=ax)\n",
        "\n",
        "# Labels and title\n",
        "plt.xlabel(\"CSAT Score\")\n",
        "plt.ylabel(\"Category\")\n",
        "plt.title(\"Category vs CSAT Score\")\n",
        "plt.legend(title=\"CSAT Score\", bbox_to_anchor=(1.05, 1), loc=\"upper left\")\n",
        "\n",
        "plt.show()"
      ]
    },
    {
      "cell_type": "markdown",
      "metadata": {
        "id": "E6MkPsBcp1cl"
      },
      "source": [
        "##### 1. Why did you pick the specific chart?"
      ]
    },
    {
      "cell_type": "markdown",
      "metadata": {
        "id": "V22bRsFWp1cl"
      },
      "source": [
        "We have choosen this type of bar plot with color mapping to find percentage of count of queries for every CSAT Score wrt type of category of query."
      ]
    },
    {
      "cell_type": "markdown",
      "metadata": {
        "id": "2cELzS2fp1cl"
      },
      "source": [
        "##### 2. What is/are the insight(s) found from the chart?"
      ]
    },
    {
      "cell_type": "markdown",
      "metadata": {
        "id": "ozQPc2_Ip1cl"
      },
      "source": [
        "The insights are as follows:-\n",
        "\n",
        "1) The queries for app/website related have got maximum no of count for CSAT Score 5 which is 80%.\n",
        "2) The queries for payment related have got least no of count for CSAT Score 1 which is around 10%.\n",
        "3) The queries which comes under category other have got least no of count for CSAT Score 5 and Maximum no of count for CSAT Score 1, 30% for CSAT Score 1 and 45% for CSAT Score 5."
      ]
    },
    {
      "cell_type": "markdown",
      "metadata": {
        "id": "3MPXvC8up1cl"
      },
      "source": [
        "##### 3. Will the gained insights help creating a positive business impact?\n",
        "Are there any insights that lead to negative growth? Justify with specific reason."
      ]
    },
    {
      "cell_type": "markdown",
      "metadata": {
        "id": "GL8l1tdLp1cl"
      },
      "source": [
        "yes, there are negative business growth impact and also positive.\n",
        "\n",
        "1) The queries which comes under others category have performed very poor with least no of count for CSAT Score for 5 and Maximum no of count for CSAT Score 1.\n",
        "2) The queries which comes under app/website have performed great with maximum no of count for CSAT Score 5.\n",
        "3) The queries which comes under payment related has least no of count for CSAT Score 1.\n",
        "\n",
        "The company need to improve their service for the category others as it will improve their overall reputation.\n",
        "For Payment related they can improve service quality so that their can be increment in the count for CSAT Score 5."
      ]
    },
    {
      "cell_type": "markdown",
      "metadata": {
        "id": "NC_X3p0fY2L0"
      },
      "source": [
        "#### Chart - 14 - Correlation Heatmap"
      ]
    },
    {
      "cell_type": "code",
      "execution_count": null,
      "metadata": {
        "id": "xyC9zolEZNRQ"
      },
      "outputs": [],
      "source": [
        "# Correlation Heatmap visualization code\n",
        "c = md.select_dtypes(include='number')\n",
        "corr_mat = c.corr()\n",
        "sns.heatmap(corr_mat,annot=True,cmap=\"rainbow\", fmt=\".3f\")\n",
        "plt.show()"
      ]
    },
    {
      "cell_type": "markdown",
      "metadata": {
        "id": "UV0SzAkaZNRQ"
      },
      "source": [
        "##### 1. Why did you pick the specific chart?"
      ]
    },
    {
      "cell_type": "markdown",
      "metadata": {
        "id": "DVPuT8LYZNRQ"
      },
      "source": [
        "We have choosen heat map to understand the correlationship between all the numerical type columns."
      ]
    },
    {
      "cell_type": "markdown",
      "metadata": {
        "id": "YPEH6qLeZNRQ"
      },
      "source": [
        "##### 2. What is/are the insight(s) found from the chart?"
      ]
    },
    {
      "cell_type": "markdown",
      "metadata": {
        "id": "bfSqtnDqZNRR"
      },
      "source": [
        "We have found the following points:-\n",
        "\n",
        "1) There is a strong correlation between  item_price and connected_handling_time which is about 0.65.\n",
        "2) There is a negative or weak correlation between item_price and CSAT Score which is -0.12.\n",
        "\n",
        "This shows that as price of item increases the customer needs more time for their query to be solved thats why their is a string correlation between those two columns.\n",
        "Also despite of item_price the CSAT Score is not dependant which means whatever price of item it is the customer gives preference to solution provided to his/her query wrt which he/she gives CSAT Score."
      ]
    },
    {
      "cell_type": "markdown",
      "metadata": {
        "id": "q29F0dvdveiT"
      },
      "source": [
        "#### Chart - 15 - Pair Plot"
      ]
    },
    {
      "cell_type": "code",
      "execution_count": null,
      "metadata": {
        "id": "o58-TEIhveiU"
      },
      "outputs": [],
      "source": [
        "# Pair Plot visualization code\n",
        "c = md.select_dtypes(include='number')\n",
        "c2 = md[['channel_name']]\n",
        "c3 = pd.concat([c,c2],axis=1)\n",
        "sns.pairplot(c3, hue=\"channel_name\", palette=\"dark\")\n",
        "plt.show()"
      ]
    },
    {
      "cell_type": "markdown",
      "metadata": {
        "id": "EXh0U9oCveiU"
      },
      "source": [
        "##### 1. Why did you pick the specific chart?"
      ]
    },
    {
      "cell_type": "markdown",
      "metadata": {
        "id": "eMmPjTByveiU"
      },
      "source": [
        "We have choosen pair plot to compare different numerical type columns for all three types of channel types."
      ]
    },
    {
      "cell_type": "markdown",
      "metadata": {
        "id": "22aHeOlLveiV"
      },
      "source": [
        "##### 2. What is/are the insight(s) found from the chart?"
      ]
    },
    {
      "cell_type": "markdown",
      "metadata": {
        "id": "uPQ8RGwHveiV"
      },
      "source": [
        "The following insights we have found:-\n",
        "\n",
        "1) For item_price column the queries which came from inbound channel type has maximum values crossing 1.5 lakh mark followed by outcall and email respectively.\n",
        "2) For connected_handling_time column the queries which came from outcall has maximum values which is crossing 2000 mark followed by inbound and email.\n",
        "3) For CSAT Score maximum value 5 is achieved by inbound channel type followed by outcall and email."
      ]
    },
    {
      "cell_type": "markdown",
      "metadata": {
        "id": "JcMwzZxoAimU"
      },
      "source": [
        "## **5. Solution to Business Objective**"
      ]
    },
    {
      "cell_type": "markdown",
      "metadata": {
        "id": "8G2x9gOozGDZ"
      },
      "source": [
        "#### What do you suggest the client to achieve Business Objective ?\n",
        "Explain Briefly."
      ]
    },
    {
      "cell_type": "markdown",
      "metadata": {
        "id": "pASKb0qOza21"
      },
      "source": [
        "##### To improve and achieve the business objective the following are some suggestions that can be helpful:-\n",
        "\n",
        "1) For channel type outcall, inbound and email type the count of queries for CSAT Score 1 are 2000, 10000 and 625 respectively which the company needs to improve, the company can check audit reports for these channel types and can target queries which are getting CSAT Score 1 and check what parameters making the customer to mark CSAT Score as 1, so as to improve overall customer satisfaction and customer experience.\n",
        "2) For product category giftcard the customer has marked mostly CSAT Score as 1 and least for CSAT Score 5 which means company need to improve customer support for this product category so as to improve overall customer reviews and ratings.\n",
        "3) Under Manager Olivia Tan the count of no of queries which got CSAT Score 5 is least and no of queries which got CSAT Score 1 is highest as compared to all other managers, this shows that the manager has agents who are not able to solve customer's problem efficiently and also the manager needs to motivate her team members so that they can perform well and increase overall ratings and reviews for the organisation.\n",
        "4) We have also seen that the agents who are working in morning shift has lowest no of count for CSAT Score for value 5 and highest no of count for CSAT Score for value 1, which means the agents who are working in morning shift are need to be trained and need to be motivated so that their performance can be increased ultimately increasing organisation's reputation and credibility.\n",
        "5) We have found for category others related the count of no of queries for CSAT Score value of 5 is lowest and highest for CSAT Score value 1, this means organisation has to improve customer service for Others category and agents whoever handling queries related this category need to be trained so as to perform well in future and improve overall ratings and reviews.\n",
        "6) Count of queries who got CSAT Score of value 5 for email and outcall channel type is way less than Inbound channel type which means company need to focus customer support for queries coming from email and outcall so as to improve overall ratings, this can be done by customer channel specific surveys conduction to know their needs and help them to achieve those needs while solving their queries.\n",
        "\n",
        "##### These are some important points remembering CSAT Score for organisation so that they can improve their credibility, ratings and reviews for future growth."
      ]
    },
    {
      "cell_type": "markdown",
      "metadata": {
        "id": "gCX9965dhzqZ"
      },
      "source": [
        "# **Conclusion**"
      ]
    },
    {
      "cell_type": "markdown",
      "metadata": {
        "id": "Fjb1IsQkh3yE"
      },
      "source": [
        "##### The following are the points which we can say as concluding points:-\n",
        "\n",
        "1) There are total 5 columns and 85906 rows with no duplicate values and null values have been replaced with \"Not Available\" statement.\n",
        "2) There are three tyoes of channel types outcall, inbound and Email and 5 types of CSAT Score(Customer Satisfaction Score) which are 1,2,3,4 and 5.\n",
        "3) The insights we have found that as the CSAT Score is increased count of Outcall increased exponentially which means most customers are satisfied with the support provided to them against their query,for CSAT Score 1 the count is slightly high than 2 and 3, also for the CSAT Score 4 the count is very less compared to CSAT Score 5.\n",
        "4) The insights we have found that as the CSAT Score is increased count of Inbound increased exponentially which means most customers are satisfied with the support provided to them against their query,for CSAT Score 1 the count is slightly high than 2 and 3, also for the CSAT Score 4 the count is very less compared to CSAT Score 5.\n",
        "5) The insights we have found that as the CSAT Score is increased count of Email increased exponentially which means most customers are satisfied with the support provided to them against their query,for CSAT Score 1 the count is very high than 2,3 and 4.\n",
        "6) Affiliates has the highest no of query count among all which got CSAT Score 5, it got more than 65% for CSAT Score 5 and rest for other score.\n",
        "Second Highest for CSAT Score 5 is the product category lifestyle, which got more than 62% count of queries for CSAT Score 5 and rest for other score values.\n",
        "7) Query Count for GiftCard Product category has highest no for CSAT Score for 1 and Lowest no for CSAT Score for 5, the percentages for the CSAT score 1 and 5 are 40%+ and 50%+ respectively. Also giftcard has no query which has been rated as value 3.\n",
        "8) Furniture has least no of query count for CSAT Score 2,affiliates has the least no of query count for CSAT score 1.\n",
        "9) Queries solved under manager Emily chen has got maximum percentage for CSAT Score 5 compared to other managers, the percentage is more than 70% and Emily chen has the least no of count for CSAT Score 1 which is less than 10%.\n",
        "10) Olivia Tan got the least no count for CSAT Score 5 which is less than 65%,she got the maximum no of count for CSAT Score 1 which is more than 16%.\n",
        "11) Agent shift split has got most no of count for CSAT Score 5 followed by night shift becoming second highest,Morning shift has the lowest no of count for the CSAT Score 5 compared to other shifts,Split has least while morning shift has maximum no of count for the CSAT Score 1.\n",
        "12) The queries for app/website related have got maximum no of count for CSAT Score 5 which is 80%,the queries for payment related have got least no of count for CSAT Score 1 which is around 10%.\n",
        "13) The queries which comes under category other have got least no of count for CSAT Score 5 and Maximum no of count for CSAT Score 1, 30% for CSAT Score 1 and 45% for CSAT Score 5.\n",
        "14) There is a strong correlation between item_price and connected_handling_time which is about 0.65 and there is a negative or weak correlation between item_price and CSAT Score which is -0.12.\n",
        "15) For item_price column the queries which came from inbound channel type has maximum values crossing 1.5 lakh mark followed by outcall and email respectively,For connected_handling_time column the queries which came from outcall has maximum values which is crossing 2000 mark followed by inbound and email,for CSAT Score maximum value 5 is achieved by inbound channel type followed by outcall and email.\n",
        "\n",
        "##### These are the conclusions which summarizes the whole EDA Process for the Flipkart CSAT Score Analysis."
      ]
    },
    {
      "cell_type": "code",
      "execution_count": null,
      "metadata": {
        "id": "dYX880etpL0x"
      },
      "outputs": [],
      "source": []
    }
  ],
  "metadata": {
    "colab": {
      "collapsed_sections": [
        "vncDsAP0Gaoa",
        "FJNUwmbgGyua",
        "w6K7xa23Elo4",
        "yQaldy8SH6Dl",
        "PH-0ReGfmX4f",
        "mDgbUHAGgjLW",
        "O_i_v8NEhb9l",
        "HhfV-JJviCcP",
        "Y3lxredqlCYt",
        "3RnN4peoiCZX",
        "x71ZqKXriCWQ",
        "7hBIi_osiCS2",
        "JlHwYmJAmNHm",
        "35m5QtbWiB9F",
        "PoPl-ycgm1ru",
        "H0kj-8xxnORC",
        "nA9Y7ga8ng1Z",
        "PBTbrJXOngz2",
        "u3PMJOP6ngxN",
        "dauF4eBmngu3",
        "bKJF3rekwFvQ",
        "MSa1f5Uengrz",
        "GF8Ens_Soomf",
        "0wOQAZs5pc--",
        "K5QZ13OEpz2H",
        "lQ7QKXXCp7Bj",
        "448CDAPjqfQr",
        "KSlN3yHqYklG",
        "t6dVpIINYklI",
        "ijmpgYnKYklI",
        "-JiQyfWJYklI",
        "EM7whBJCYoAo",
        "fge-S5ZAYoAp",
        "85gYPyotYoAp",
        "RoGjAbkUYoAp",
        "4Of9eVA-YrdM",
        "iky9q4vBYrdO",
        "F6T5p64dYrdO",
        "y-Ehk30pYrdP",
        "bamQiAODYuh1",
        "QHF8YVU7Yuh3",
        "GwzvFGzlYuh3",
        "qYpmQ266Yuh3",
        "OH-pJp9IphqM",
        "bbFf2-_FphqN",
        "_ouA3fa0phqN",
        "Seke61FWphqN",
        "PIIx-8_IphqN",
        "t27r6nlMphqO",
        "r2jJGEOYphqO",
        "b0JNsNcRphqO",
        "BZR9WyysphqO",
        "jj7wYXLtphqO",
        "eZrbJ2SmphqO",
        "rFu4xreNphqO",
        "YJ55k-q6phqO",
        "gCFgpxoyphqP",
        "OVtJsKN_phqQ",
        "lssrdh5qphqQ",
        "U2RJ9gkRphqQ",
        "1M8mcRywphqQ",
        "tgIPom80phqQ",
        "JMzcOPDDphqR",
        "x-EpHcCOp1ci",
        "X_VqEhTip1ck",
        "8zGJKyg5p1ck",
        "PVzmfK_Ep1ck",
        "n3dbpmDWp1ck",
        "ylSl6qgtp1ck",
        "ZWILFDl5p1ck",
        "M7G43BXep1ck",
        "Ag9LCva-p1cl",
        "E6MkPsBcp1cl",
        "2cELzS2fp1cl",
        "3MPXvC8up1cl",
        "NC_X3p0fY2L0",
        "UV0SzAkaZNRQ",
        "YPEH6qLeZNRQ",
        "q29F0dvdveiT",
        "EXh0U9oCveiU",
        "22aHeOlLveiV",
        "JcMwzZxoAimU",
        "8G2x9gOozGDZ",
        "gCX9965dhzqZ",
        "gIfDvo9L0UH2"
      ],
      "private_outputs": true,
      "provenance": []
    },
    "kernelspec": {
      "display_name": "Python 3 (ipykernel)",
      "language": "python",
      "name": "python3"
    },
    "language_info": {
      "codemirror_mode": {
        "name": "ipython",
        "version": 3
      },
      "file_extension": ".py",
      "mimetype": "text/x-python",
      "name": "python",
      "nbconvert_exporter": "python",
      "pygments_lexer": "ipython3",
      "version": "3.12.7"
    }
  },
  "nbformat": 4,
  "nbformat_minor": 0
}